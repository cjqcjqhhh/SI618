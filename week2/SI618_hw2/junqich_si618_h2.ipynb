{
 "cells": [
  {
   "cell_type": "markdown",
   "metadata": {},
   "source": [
    "# SI 618 Homework 2\n",
    "---------------------------\n",
    "Name: Junqi Chen \n",
    "\n",
    "Uniqname: junqich\n",
    "\n",
    "---------------------------"
   ]
  },
  {
   "cell_type": "code",
   "execution_count": 421,
   "metadata": {},
   "outputs": [],
   "source": [
    "import numpy as np\n",
    "import pandas as pd\n",
    "import matplotlib.pyplot as plt"
   ]
  },
  {
   "cell_type": "markdown",
   "metadata": {},
   "source": [
    "## Q1: Describe the dataset"
   ]
  },
  {
   "cell_type": "code",
   "execution_count": 422,
   "metadata": {},
   "outputs": [
    {
     "data": {
      "text/plain": [
       "(  InvoiceNo   InvoiceDate  CustomerID         Country\n",
       " 0    536365  12/1/10 8:26     17850.0  United Kingdom\n",
       " 1    536366  12/1/10 8:28     17850.0  United Kingdom\n",
       " 2    536367  12/1/10 8:34     13047.0  United Kingdom\n",
       " 3    536368  12/1/10 8:34     13047.0  United Kingdom\n",
       " 4    536369  12/1/10 8:35     13047.0  United Kingdom,\n",
       "   StockCode                          Description  UnitPrice\n",
       " 0    85123A   WHITE HANGING HEART T-LIGHT HOLDER       2.55\n",
       " 1     71053                  WHITE METAL LANTERN       3.39\n",
       " 2    84406B       CREAM CUPID HEARTS COAT HANGER       2.75\n",
       " 3    84029G  KNITTED UNION FLAG HOT WATER BOTTLE       3.39\n",
       " 4    84029E       RED WOOLLY HOTTIE WHITE HEART.       3.39,\n",
       "   InvoiceNo StockCodeSC  Quantity\n",
       " 0    536365    SC85123A         6\n",
       " 1    536365     SC71053         6\n",
       " 2    536365    SC84406B         8\n",
       " 3    536365    SC84029G         6\n",
       " 4    536365    SC84029E         6)"
      ]
     },
     "execution_count": 422,
     "metadata": {},
     "output_type": "execute_result"
    }
   ],
   "source": [
    "# Q1-1\n",
    "invoices = pd.read_json(\"invoices.json\")\n",
    "items = pd.read_json(\"items.json\")\n",
    "purchases = pd.read_json(\"purchases.json\")\n",
    "invoices.head(), items.head(), purchases.head()"
   ]
  },
  {
   "cell_type": "code",
   "execution_count": 423,
   "metadata": {},
   "outputs": [
    {
     "name": "stdout",
     "output_type": "stream",
     "text": [
      "The fraction of invoices were shipped is: 0.8520988320548896\n"
     ]
    }
   ],
   "source": [
    "# Q1-2\n",
    "shipped_rows = [(\"C\" not in s) for s in invoices[\"InvoiceNo\"]]\n",
    "invoices_shipped = invoices[shipped_rows]\n",
    "print(\"The fraction of invoices were shipped is:\", len(invoices_shipped) / len(invoices))"
   ]
  },
  {
   "cell_type": "code",
   "execution_count": 424,
   "metadata": {},
   "outputs": [
    {
     "name": "stdout",
     "output_type": "stream",
     "text": [
      "There are 4373 unique customers.\n"
     ]
    }
   ],
   "source": [
    "# Q1-3\n",
    "print(\"There are\", len(invoices[\"CustomerID\"].unique()), \"unique customers.\")"
   ]
  },
  {
   "cell_type": "code",
   "execution_count": 425,
   "metadata": {},
   "outputs": [
    {
     "name": "stdout",
     "output_type": "stream",
     "text": [
      "The total number of unique items with a unit price greater than 2 is 2262\n"
     ]
    }
   ],
   "source": [
    "# Q1-4\n",
    "print(\"The total number of unique items with a unit price greater than 2 is\",\n",
    "      sum(items.drop_duplicates(subset=[\"StockCode\"])[\"UnitPrice\"] > 2) )"
   ]
  },
  {
   "cell_type": "code",
   "execution_count": 426,
   "metadata": {},
   "outputs": [
    {
     "name": "stdout",
     "output_type": "stream",
     "text": [
      "There are column(s) named ['CustomerID'] with null value in dataframe invoices.\n",
      "There are column(s) named ['Description'] with null value in dataframe items.\n",
      "There are column(s) named [] with null value in dataframe purchases.\n",
      "(The empty list means there is no column with null value in the dataframe.)\n"
     ]
    }
   ],
   "source": [
    "# Q1-5\n",
    "def isNullInColumn(df):\n",
    "    # return a name list of column with null value\n",
    "    isnull = [df[colname].isnull().values.any() for colname in df.columns]\n",
    "    return list(df.columns[isnull])\n",
    "\n",
    "print(\"There are column(s) named\", isNullInColumn(invoices), \"with null value in dataframe invoices.\")\n",
    "print(\"There are column(s) named\", isNullInColumn(items), \"with null value in dataframe items.\")\n",
    "print(\"There are column(s) named\", isNullInColumn(purchases), \"with null value in dataframe purchases.\")\n",
    "print(\"(The empty list means there is no column with null value in the dataframe.)\")"
   ]
  },
  {
   "cell_type": "code",
   "execution_count": 427,
   "metadata": {},
   "outputs": [],
   "source": [
    "# CAUTION!: you can also rerun the whole program after commenting these two lines,\n",
    "# the answer will be completely different!!!\n",
    "\n",
    "invoices = invoices.dropna()\n",
    "items = items.dropna() # drop the null value in every dataframe"
   ]
  },
  {
   "cell_type": "code",
   "execution_count": 428,
   "metadata": {},
   "outputs": [],
   "source": [
    "# Q1-6"
   ]
  },
  {
   "cell_type": "markdown",
   "metadata": {},
   "source": [
    "Looking closely on the three dataframes we load, we can discover that:\n",
    "\n",
    "+ Column *InvoiceNo* is shared by both dataframes `invoices` and `purchases`.\n",
    "\n",
    "+ Column *StockCode* in `items` has some connection to the column *StockCodeSC* in `purchases`.\n",
    "\n",
    "So I am going to merge the dataframes `invoices` and `purchases` with the same column *InvoiceNo*. Also, I can also explore the relationship between columns *StockCode* and *StockCodeSC* so that all three dataframes can be merge into one."
   ]
  },
  {
   "cell_type": "markdown",
   "metadata": {},
   "source": [
    "## Q2: Invoice Analysis"
   ]
  },
  {
   "cell_type": "code",
   "execution_count": 429,
   "metadata": {},
   "outputs": [
    {
     "name": "stdout",
     "output_type": "stream",
     "text": [
      "The top 10 customers with most shipped placed are: \n"
     ]
    },
    {
     "data": {
      "text/plain": [
       "CustomerID\n",
       "12748.0    211\n",
       "14911.0    202\n",
       "17841.0    124\n",
       "13089.0     97\n",
       "14606.0     95\n",
       "15311.0     91\n",
       "12971.0     86\n",
       "14646.0     74\n",
       "16029.0     63\n",
       "13408.0     62\n",
       "Name: InvoiceNo, dtype: int64"
      ]
     },
     "execution_count": 429,
     "metadata": {},
     "output_type": "execute_result"
    }
   ],
   "source": [
    "# Q2-1\n",
    "shipped_invoices_number = invoices_shipped.groupby(\"CustomerID\").count()[\"InvoiceNo\"]\n",
    "print(\"The top 10 customers with most shipped placed are: \")\n",
    "shipped_invoices_number.sort_values(ascending = False).head(10)"
   ]
  },
  {
   "cell_type": "code",
   "execution_count": 430,
   "metadata": {},
   "outputs": [
    {
     "name": "stdout",
     "output_type": "stream",
     "text": [
      "The top 10 customers with the average quantity of items per invoice per customer are: \n"
     ]
    },
    {
     "data": {
      "text/html": [
       "<div>\n",
       "<style scoped>\n",
       "    .dataframe tbody tr th:only-of-type {\n",
       "        vertical-align: middle;\n",
       "    }\n",
       "\n",
       "    .dataframe tbody tr th {\n",
       "        vertical-align: top;\n",
       "    }\n",
       "\n",
       "    .dataframe thead th {\n",
       "        text-align: right;\n",
       "    }\n",
       "</style>\n",
       "<table border=\"1\" class=\"dataframe\">\n",
       "  <thead>\n",
       "    <tr style=\"text-align: right;\">\n",
       "      <th></th>\n",
       "      <th></th>\n",
       "      <th>Quantity</th>\n",
       "    </tr>\n",
       "    <tr>\n",
       "      <th>CustomerID</th>\n",
       "      <th>InvoiceNo</th>\n",
       "      <th></th>\n",
       "    </tr>\n",
       "  </thead>\n",
       "  <tbody>\n",
       "    <tr>\n",
       "      <th>16446.0</th>\n",
       "      <th>581483</th>\n",
       "      <td>80995.0</td>\n",
       "    </tr>\n",
       "    <tr>\n",
       "      <th>12346.0</th>\n",
       "      <th>541431</th>\n",
       "      <td>74215.0</td>\n",
       "    </tr>\n",
       "    <tr>\n",
       "      <th>13256.0</th>\n",
       "      <th>578841</th>\n",
       "      <td>12540.0</td>\n",
       "    </tr>\n",
       "    <tr>\n",
       "      <th>13135.0</th>\n",
       "      <th>554868</th>\n",
       "      <td>4300.0</td>\n",
       "    </tr>\n",
       "    <tr>\n",
       "      <th>18087.0</th>\n",
       "      <th>544612</th>\n",
       "      <td>3906.0</td>\n",
       "    </tr>\n",
       "    <tr>\n",
       "      <th>14609.0</th>\n",
       "      <th>560599</th>\n",
       "      <td>3186.0</td>\n",
       "    </tr>\n",
       "    <tr>\n",
       "      <th>16308.0</th>\n",
       "      <th>573995</th>\n",
       "      <td>3000.0</td>\n",
       "    </tr>\n",
       "    <tr>\n",
       "      <th>16029.0</th>\n",
       "      <th>543669</th>\n",
       "      <td>2400.0</td>\n",
       "    </tr>\n",
       "    <tr>\n",
       "      <th>14646.0</th>\n",
       "      <th>573003</th>\n",
       "      <td>2400.0</td>\n",
       "    </tr>\n",
       "    <tr>\n",
       "      <th>14609.0</th>\n",
       "      <th>544152</th>\n",
       "      <td>2400.0</td>\n",
       "    </tr>\n",
       "  </tbody>\n",
       "</table>\n",
       "</div>"
      ],
      "text/plain": [
       "                      Quantity\n",
       "CustomerID InvoiceNo          \n",
       "16446.0    581483      80995.0\n",
       "12346.0    541431      74215.0\n",
       "13256.0    578841      12540.0\n",
       "13135.0    554868       4300.0\n",
       "18087.0    544612       3906.0\n",
       "14609.0    560599       3186.0\n",
       "16308.0    573995       3000.0\n",
       "16029.0    543669       2400.0\n",
       "14646.0    573003       2400.0\n",
       "14609.0    544152       2400.0"
      ]
     },
     "execution_count": 430,
     "metadata": {},
     "output_type": "execute_result"
    }
   ],
   "source": [
    "# Q2-2\n",
    "invoices_shipped_purchases = pd.merge(invoices_shipped, purchases, on = \"InvoiceNo\")\n",
    "avg_quantity = invoices_shipped_purchases.groupby([\"CustomerID\", \"InvoiceNo\"]).mean()\n",
    "print(\"The top 10 customers with the average quantity of items per invoice per customer are: \")\n",
    "avg_quantity.sort_values(by = \"Quantity\", ascending = False).head(10)"
   ]
  },
  {
   "cell_type": "code",
   "execution_count": 431,
   "metadata": {},
   "outputs": [
    {
     "data": {
      "text/html": [
       "<div>\n",
       "<style scoped>\n",
       "    .dataframe tbody tr th:only-of-type {\n",
       "        vertical-align: middle;\n",
       "    }\n",
       "\n",
       "    .dataframe tbody tr th {\n",
       "        vertical-align: top;\n",
       "    }\n",
       "\n",
       "    .dataframe thead th {\n",
       "        text-align: right;\n",
       "    }\n",
       "</style>\n",
       "<table border=\"1\" class=\"dataframe\">\n",
       "  <thead>\n",
       "    <tr style=\"text-align: right;\">\n",
       "      <th></th>\n",
       "      <th></th>\n",
       "      <th>Quantity</th>\n",
       "    </tr>\n",
       "    <tr>\n",
       "      <th>CustomerID</th>\n",
       "      <th>InvoiceNo</th>\n",
       "      <th></th>\n",
       "    </tr>\n",
       "  </thead>\n",
       "  <tbody>\n",
       "    <tr>\n",
       "      <th>12748.0</th>\n",
       "      <th>576389</th>\n",
       "      <td>1.0</td>\n",
       "    </tr>\n",
       "    <tr>\n",
       "      <th>17988.0</th>\n",
       "      <th>563229</th>\n",
       "      <td>1.0</td>\n",
       "    </tr>\n",
       "    <tr>\n",
       "      <th rowspan=\"4\" valign=\"top\">12748.0</th>\n",
       "      <th>541248</th>\n",
       "      <td>1.0</td>\n",
       "    </tr>\n",
       "    <tr>\n",
       "      <th>540251</th>\n",
       "      <td>1.0</td>\n",
       "    </tr>\n",
       "    <tr>\n",
       "      <th>539987</th>\n",
       "      <td>1.0</td>\n",
       "    </tr>\n",
       "    <tr>\n",
       "      <th>539921</th>\n",
       "      <td>1.0</td>\n",
       "    </tr>\n",
       "    <tr>\n",
       "      <th>13069.0</th>\n",
       "      <th>537048</th>\n",
       "      <td>1.0</td>\n",
       "    </tr>\n",
       "    <tr>\n",
       "      <th>14866.0</th>\n",
       "      <th>560868</th>\n",
       "      <td>1.0</td>\n",
       "    </tr>\n",
       "    <tr>\n",
       "      <th>17961.0</th>\n",
       "      <th>560913</th>\n",
       "      <td>1.0</td>\n",
       "    </tr>\n",
       "    <tr>\n",
       "      <th>14866.0</th>\n",
       "      <th>561368</th>\n",
       "      <td>1.0</td>\n",
       "    </tr>\n",
       "  </tbody>\n",
       "</table>\n",
       "</div>"
      ],
      "text/plain": [
       "                      Quantity\n",
       "CustomerID InvoiceNo          \n",
       "12748.0    576389          1.0\n",
       "17988.0    563229          1.0\n",
       "12748.0    541248          1.0\n",
       "           540251          1.0\n",
       "           539987          1.0\n",
       "           539921          1.0\n",
       "13069.0    537048          1.0\n",
       "14866.0    560868          1.0\n",
       "17961.0    560913          1.0\n",
       "14866.0    561368          1.0"
      ]
     },
     "execution_count": 431,
     "metadata": {},
     "output_type": "execute_result"
    }
   ],
   "source": [
    "# Q2-3\n",
    "avg_quantity.sort_values(by = \"Quantity\").head(10)"
   ]
  },
  {
   "cell_type": "markdown",
   "metadata": {},
   "source": [
    "From the ascending quantity per customer per invoice, we can find out that a customer with ID 12748 is the one that with the most shipped placed. Hence we can infer that there are certain possibility for that statement \" the more invoices a customer have, the smaller the average size of an invoice\" to be true. However, it should be detailed checked with the plots for `Quantity` and `InvoiceNum` according to the `CustomerID`."
   ]
  },
  {
   "cell_type": "markdown",
   "metadata": {},
   "source": [
    "# Q3: Item Analysis\n",
    "*The answers for the following questions will be directly shown in output without extra comment.*"
   ]
  },
  {
   "cell_type": "code",
   "execution_count": 432,
   "metadata": {},
   "outputs": [
    {
     "data": {
      "text/plain": [
       "2.51"
      ]
     },
     "execution_count": 432,
     "metadata": {},
     "output_type": "execute_result"
    }
   ],
   "source": [
    "# Q3-1\n",
    "items[\"UnitPrice\"].median()"
   ]
  },
  {
   "cell_type": "code",
   "execution_count": 433,
   "metadata": {},
   "outputs": [
    {
     "data": {
      "text/plain": [
       "0.06651258346173601"
      ]
     },
     "execution_count": 433,
     "metadata": {},
     "output_type": "execute_result"
    }
   ],
   "source": [
    "# Q3-2\n",
    "len(items[items[\"UnitPrice\"] > 10]) / len(items)"
   ]
  },
  {
   "cell_type": "code",
   "execution_count": 434,
   "metadata": {},
   "outputs": [
    {
     "data": {
      "image/png": "[encoded data removed]",
      "text/plain": [
       "<Figure size 432x288 with 1 Axes>"
      ]
     },
     "metadata": {
      "needs_background": "light"
     },
     "output_type": "display_data"
    }
   ],
   "source": [
    "# Q3-3\n",
    "plt.hist(items[\"UnitPrice\"], bins=10, range=(0, 30))\n",
    "plt.show()"
   ]
  },
  {
   "cell_type": "markdown",
   "metadata": {},
   "source": [
    "# Q4: Order Trends"
   ]
  },
  {
   "cell_type": "code",
   "execution_count": 435,
   "metadata": {},
   "outputs": [
    {
     "data": {
      "text/plain": [
       "StockCode\n",
       "84077     53264\n",
       "22197     48879\n",
       "85099B    45190\n",
       "84879     35366\n",
       "85123A    34330\n",
       "21212     33425\n",
       "23084     27094\n",
       "22492     25881\n",
       "22616     25333\n",
       "21977     24178\n",
       "Name: Quantity, dtype: int64"
      ]
     },
     "execution_count": 435,
     "metadata": {},
     "output_type": "execute_result"
    }
   ],
   "source": [
    "# Q4-1\n",
    "purchases[\"StockCode\"] = purchases[\"StockCodeSC\"].map(lambda x: x[2:])\n",
    "df_purchases_items = purchases.merge(items, on=\"StockCode\", how=\"outer\")\n",
    "df_all = df_purchases_items.merge(invoices, on='InvoiceNo', how='right') # merge all three dataframes\n",
    "\n",
    "df_all.groupby(\"StockCode\").sum()[\"Quantity\"].sort_values(ascending=False).head(10)"
   ]
  },
  {
   "cell_type": "code",
   "execution_count": 436,
   "metadata": {},
   "outputs": [
    {
     "data": {
      "text/plain": [
       "StockCode\n",
       "85123A    2085\n",
       "22423     1911\n",
       "85099B    1669\n",
       "47566     1423\n",
       "84879     1421\n",
       "20725     1363\n",
       "22720     1234\n",
       "POST      1197\n",
       "20727     1131\n",
       "22197     1122\n",
       "Name: InvoiceNo, dtype: int64"
      ]
     },
     "execution_count": 436,
     "metadata": {},
     "output_type": "execute_result"
    }
   ],
   "source": [
    "# Q4-2\n",
    "df_all.groupby(\"StockCode\").count()[\"InvoiceNo\"].sort_values(ascending=False).head(10)"
   ]
  },
  {
   "cell_type": "code",
   "execution_count": 437,
   "metadata": {},
   "outputs": [
    {
     "data": {
      "text/plain": [
       "InvoiceNo\n",
       "581483    210587.0000\n",
       "541431     96479.5000\n",
       "556255     37305.0000\n",
       "556917     34545.9125\n",
       "572035     32872.2000\n",
       "Name: Revenue, dtype: float64"
      ]
     },
     "execution_count": 437,
     "metadata": {},
     "output_type": "execute_result"
    }
   ],
   "source": [
    "# Q4-3\n",
    "df_all['Revenue'] = df_all['Quantity'] * df_all['UnitPrice'] * 1.25\n",
    "df_all.groupby('InvoiceNo').sum()['Revenue'].sort_values(ascending=False).head(5)"
   ]
  },
  {
   "cell_type": "markdown",
   "metadata": {},
   "source": [
    "# Q5: Customer Analysis"
   ]
  },
  {
   "cell_type": "code",
   "execution_count": 438,
   "metadata": {},
   "outputs": [
    {
     "data": {
      "text/html": [
       "<div>\n",
       "<style scoped>\n",
       "    .dataframe tbody tr th:only-of-type {\n",
       "        vertical-align: middle;\n",
       "    }\n",
       "\n",
       "    .dataframe tbody tr th {\n",
       "        vertical-align: top;\n",
       "    }\n",
       "\n",
       "    .dataframe thead th {\n",
       "        text-align: right;\n",
       "    }\n",
       "</style>\n",
       "<table border=\"1\" class=\"dataframe\">\n",
       "  <thead>\n",
       "    <tr style=\"text-align: right;\">\n",
       "      <th></th>\n",
       "      <th>Revenue</th>\n",
       "      <th>Q1</th>\n",
       "      <th>Q2</th>\n",
       "      <th>Q3</th>\n",
       "      <th>Q4</th>\n",
       "    </tr>\n",
       "    <tr>\n",
       "      <th>CustomerID</th>\n",
       "      <th></th>\n",
       "      <th></th>\n",
       "      <th></th>\n",
       "      <th></th>\n",
       "      <th></th>\n",
       "    </tr>\n",
       "  </thead>\n",
       "  <tbody>\n",
       "    <tr>\n",
       "      <th>12346.0</th>\n",
       "      <td>0.000</td>\n",
       "      <td>1</td>\n",
       "      <td>0</td>\n",
       "      <td>0</td>\n",
       "      <td>0</td>\n",
       "    </tr>\n",
       "    <tr>\n",
       "      <th>12347.0</th>\n",
       "      <td>6798.050</td>\n",
       "      <td>0</td>\n",
       "      <td>0</td>\n",
       "      <td>0</td>\n",
       "      <td>1</td>\n",
       "    </tr>\n",
       "    <tr>\n",
       "      <th>12348.0</th>\n",
       "      <td>2237.700</td>\n",
       "      <td>0</td>\n",
       "      <td>0</td>\n",
       "      <td>1</td>\n",
       "      <td>0</td>\n",
       "    </tr>\n",
       "    <tr>\n",
       "      <th>12349.0</th>\n",
       "      <td>2408.700</td>\n",
       "      <td>0</td>\n",
       "      <td>0</td>\n",
       "      <td>1</td>\n",
       "      <td>0</td>\n",
       "    </tr>\n",
       "    <tr>\n",
       "      <th>12350.0</th>\n",
       "      <td>510.050</td>\n",
       "      <td>0</td>\n",
       "      <td>1</td>\n",
       "      <td>0</td>\n",
       "      <td>0</td>\n",
       "    </tr>\n",
       "    <tr>\n",
       "      <th>...</th>\n",
       "      <td>...</td>\n",
       "      <td>...</td>\n",
       "      <td>...</td>\n",
       "      <td>...</td>\n",
       "      <td>...</td>\n",
       "    </tr>\n",
       "    <tr>\n",
       "      <th>18280.0</th>\n",
       "      <td>317.075</td>\n",
       "      <td>1</td>\n",
       "      <td>0</td>\n",
       "      <td>0</td>\n",
       "      <td>0</td>\n",
       "    </tr>\n",
       "    <tr>\n",
       "      <th>18281.0</th>\n",
       "      <td>84.350</td>\n",
       "      <td>1</td>\n",
       "      <td>0</td>\n",
       "      <td>0</td>\n",
       "      <td>0</td>\n",
       "    </tr>\n",
       "    <tr>\n",
       "      <th>18282.0</th>\n",
       "      <td>282.650</td>\n",
       "      <td>1</td>\n",
       "      <td>0</td>\n",
       "      <td>0</td>\n",
       "      <td>0</td>\n",
       "    </tr>\n",
       "    <tr>\n",
       "      <th>18283.0</th>\n",
       "      <td>2655.050</td>\n",
       "      <td>0</td>\n",
       "      <td>0</td>\n",
       "      <td>0</td>\n",
       "      <td>1</td>\n",
       "    </tr>\n",
       "    <tr>\n",
       "      <th>18287.0</th>\n",
       "      <td>3420.375</td>\n",
       "      <td>0</td>\n",
       "      <td>0</td>\n",
       "      <td>0</td>\n",
       "      <td>1</td>\n",
       "    </tr>\n",
       "  </tbody>\n",
       "</table>\n",
       "<p>4372 rows × 5 columns</p>\n",
       "</div>"
      ],
      "text/plain": [
       "             Revenue  Q1  Q2  Q3  Q4\n",
       "CustomerID                          \n",
       "12346.0        0.000   1   0   0   0\n",
       "12347.0     6798.050   0   0   0   1\n",
       "12348.0     2237.700   0   0   1   0\n",
       "12349.0     2408.700   0   0   1   0\n",
       "12350.0      510.050   0   1   0   0\n",
       "...              ...  ..  ..  ..  ..\n",
       "18280.0      317.075   1   0   0   0\n",
       "18281.0       84.350   1   0   0   0\n",
       "18282.0      282.650   1   0   0   0\n",
       "18283.0     2655.050   0   0   0   1\n",
       "18287.0     3420.375   0   0   0   1\n",
       "\n",
       "[4372 rows x 5 columns]"
      ]
     },
     "execution_count": 438,
     "metadata": {},
     "output_type": "execute_result"
    }
   ],
   "source": [
    "# Q5-1\n",
    "df_revenue = df_all.groupby(\"CustomerID\").sum()\n",
    "bins = df_revenue[\"Revenue\"].quantile([0, .25, .5, .75, 1])\n",
    "df_revenue[\"Revenue_level\"] = pd.cut(df_revenue[\"Revenue\"], bins, labels=[\"Q1\", \"Q2\", \"Q3\", \"Q4\"])\n",
    "df_revenue_dummies = pd.concat([df_revenue[\"Revenue\"], pd.get_dummies(df_revenue[\"Revenue_level\"])], axis = 1)\n",
    "df_revenue_dummies"
   ]
  },
  {
   "cell_type": "code",
   "execution_count": 439,
   "metadata": {},
   "outputs": [
    {
     "data": {
      "text/plain": [
       "Revenue_level\n",
       "Q1    2.600350e+05\n",
       "Q2    7.359469e+05\n",
       "Q3    1.712705e+06\n",
       "Q4    1.004517e+07\n",
       "Name: Revenue, dtype: float64"
      ]
     },
     "execution_count": 439,
     "metadata": {},
     "output_type": "execute_result"
    }
   ],
   "source": [
    "# Q5-2\n",
    "df_revenue.groupby(\"Revenue_level\").sum()[\"Revenue\"]"
   ]
  },
  {
   "cell_type": "code",
   "execution_count": 440,
   "metadata": {},
   "outputs": [
    {
     "data": {
      "text/html": [
       "<div>\n",
       "<style scoped>\n",
       "    .dataframe tbody tr th:only-of-type {\n",
       "        vertical-align: middle;\n",
       "    }\n",
       "\n",
       "    .dataframe tbody tr th {\n",
       "        vertical-align: top;\n",
       "    }\n",
       "\n",
       "    .dataframe thead th {\n",
       "        text-align: right;\n",
       "    }\n",
       "</style>\n",
       "<table border=\"1\" class=\"dataframe\">\n",
       "  <thead>\n",
       "    <tr style=\"text-align: right;\">\n",
       "      <th>Revenue_level</th>\n",
       "      <th>Q1</th>\n",
       "      <th>Q2</th>\n",
       "      <th>Q3</th>\n",
       "      <th>Q4</th>\n",
       "    </tr>\n",
       "    <tr>\n",
       "      <th>StockCode</th>\n",
       "      <th></th>\n",
       "      <th></th>\n",
       "      <th></th>\n",
       "      <th></th>\n",
       "    </tr>\n",
       "  </thead>\n",
       "  <tbody>\n",
       "    <tr>\n",
       "      <th>10002</th>\n",
       "      <td>1.000000</td>\n",
       "      <td>7.000000</td>\n",
       "      <td>8.166667</td>\n",
       "      <td>18.825000</td>\n",
       "    </tr>\n",
       "    <tr>\n",
       "      <th>10080</th>\n",
       "      <td>NaN</td>\n",
       "      <td>24.000000</td>\n",
       "      <td>7.750000</td>\n",
       "      <td>14.750000</td>\n",
       "    </tr>\n",
       "    <tr>\n",
       "      <th>10120</th>\n",
       "      <td>3.000000</td>\n",
       "      <td>4.000000</td>\n",
       "      <td>5.333333</td>\n",
       "      <td>8.187500</td>\n",
       "    </tr>\n",
       "    <tr>\n",
       "      <th>10123C</th>\n",
       "      <td>1.000000</td>\n",
       "      <td>3.000000</td>\n",
       "      <td>1.000000</td>\n",
       "      <td>NaN</td>\n",
       "    </tr>\n",
       "    <tr>\n",
       "      <th>10124A</th>\n",
       "      <td>3.500000</td>\n",
       "      <td>NaN</td>\n",
       "      <td>1.000000</td>\n",
       "      <td>4.000000</td>\n",
       "    </tr>\n",
       "    <tr>\n",
       "      <th>...</th>\n",
       "      <td>...</td>\n",
       "      <td>...</td>\n",
       "      <td>...</td>\n",
       "      <td>...</td>\n",
       "    </tr>\n",
       "    <tr>\n",
       "      <th>D</th>\n",
       "      <td>NaN</td>\n",
       "      <td>NaN</td>\n",
       "      <td>-1.000000</td>\n",
       "      <td>-15.893333</td>\n",
       "    </tr>\n",
       "    <tr>\n",
       "      <th>DOT</th>\n",
       "      <td>NaN</td>\n",
       "      <td>NaN</td>\n",
       "      <td>NaN</td>\n",
       "      <td>1.000000</td>\n",
       "    </tr>\n",
       "    <tr>\n",
       "      <th>M</th>\n",
       "      <td>-37.274510</td>\n",
       "      <td>1.255319</td>\n",
       "      <td>4.103448</td>\n",
       "      <td>16.567376</td>\n",
       "    </tr>\n",
       "    <tr>\n",
       "      <th>PADS</th>\n",
       "      <td>NaN</td>\n",
       "      <td>1.000000</td>\n",
       "      <td>NaN</td>\n",
       "      <td>1.000000</td>\n",
       "    </tr>\n",
       "    <tr>\n",
       "      <th>POST</th>\n",
       "      <td>0.754717</td>\n",
       "      <td>1.815126</td>\n",
       "      <td>2.020161</td>\n",
       "      <td>2.897040</td>\n",
       "    </tr>\n",
       "  </tbody>\n",
       "</table>\n",
       "<p>3684 rows × 4 columns</p>\n",
       "</div>"
      ],
      "text/plain": [
       "Revenue_level         Q1         Q2        Q3         Q4\n",
       "StockCode                                               \n",
       "10002           1.000000   7.000000  8.166667  18.825000\n",
       "10080                NaN  24.000000  7.750000  14.750000\n",
       "10120           3.000000   4.000000  5.333333   8.187500\n",
       "10123C          1.000000   3.000000  1.000000        NaN\n",
       "10124A          3.500000        NaN  1.000000   4.000000\n",
       "...                  ...        ...       ...        ...\n",
       "D                    NaN        NaN -1.000000 -15.893333\n",
       "DOT                  NaN        NaN       NaN   1.000000\n",
       "M             -37.274510   1.255319  4.103448  16.567376\n",
       "PADS                 NaN   1.000000       NaN   1.000000\n",
       "POST            0.754717   1.815126  2.020161   2.897040\n",
       "\n",
       "[3684 rows x 4 columns]"
      ]
     },
     "execution_count": 440,
     "metadata": {},
     "output_type": "execute_result"
    }
   ],
   "source": [
    "# Q5-3\n",
    "df_pivot = df_revenue[[\"Revenue\", \"Revenue_level\"]].merge(df_all[['CustomerID', 'Quantity', 'StockCode']], how='right', on='CustomerID')\n",
    "df_pivot.pivot_table(index='StockCode', columns='Revenue_level', values='Quantity', aggfunc=np.mean)"
   ]
  },
  {
   "cell_type": "code",
   "execution_count": null,
   "metadata": {},
   "outputs": [],
   "source": []
  }
 ],
 "metadata": {
  "kernelspec": {
   "display_name": "Python 3",
   "language": "python",
   "name": "python3"
  },
  "language_info": {
   "codemirror_mode": {
    "name": "ipython",
    "version": 3
   },
   "file_extension": ".py",
   "mimetype": "text/x-python",
   "name": "python",
   "nbconvert_exporter": "python",
   "pygments_lexer": "ipython3",
   "version": "3.8.5"
  }
 },
 "nbformat": 4,
 "nbformat_minor": 4
}
