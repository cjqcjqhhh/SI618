{
 "cells": [
  {
   "cell_type": "markdown",
   "metadata": {
    "colab_type": "text",
    "id": "h_ict6b-qxLD"
   },
   "source": [
    "Let's learn more about pandas! Let's load the appropriate library\n",
    "# Initialize"
   ]
  },
  {
   "cell_type": "code",
   "execution_count": 1,
   "metadata": {
    "colab": {},
    "colab_type": "code",
    "id": "MHMdV0wyFX6X"
   },
   "outputs": [],
   "source": [
    "import pandas as pd\n",
    "import numpy as np"
   ]
  },
  {
   "cell_type": "markdown",
   "metadata": {
    "colab_type": "text",
    "id": "gU76-U0ftZWw"
   },
   "source": [
    "<font color='red'>To-do:</font> Load nfl_football_profiles.json to pandas df named nfl\n",
    "\n",
    "\n"
   ]
  },
  {
   "cell_type": "code",
   "execution_count": 2,
   "metadata": {},
   "outputs": [
    {
     "data": {
      "text/html": [
       "<div>\n",
       "<style scoped>\n",
       "    .dataframe tbody tr th:only-of-type {\n",
       "        vertical-align: middle;\n",
       "    }\n",
       "\n",
       "    .dataframe tbody tr th {\n",
       "        vertical-align: top;\n",
       "    }\n",
       "\n",
       "    .dataframe thead th {\n",
       "        text-align: right;\n",
       "    }\n",
       "</style>\n",
       "<table border=\"1\" class=\"dataframe\">\n",
       "  <thead>\n",
       "    <tr style=\"text-align: right;\">\n",
       "      <th></th>\n",
       "      <th>player_id</th>\n",
       "      <th>name</th>\n",
       "      <th>position</th>\n",
       "      <th>height</th>\n",
       "      <th>weight</th>\n",
       "      <th>current_team</th>\n",
       "      <th>birth_date</th>\n",
       "      <th>birth_place</th>\n",
       "      <th>death_date</th>\n",
       "      <th>college</th>\n",
       "      <th>high_school</th>\n",
       "      <th>draft_team</th>\n",
       "      <th>draft_round</th>\n",
       "      <th>draft_position</th>\n",
       "      <th>draft_year</th>\n",
       "      <th>current_salary</th>\n",
       "      <th>hof_induction_year</th>\n",
       "    </tr>\n",
       "  </thead>\n",
       "  <tbody>\n",
       "    <tr>\n",
       "      <th>0</th>\n",
       "      <td>1809</td>\n",
       "      <td>Robert Blackmon</td>\n",
       "      <td>DB</td>\n",
       "      <td>6-0</td>\n",
       "      <td>208.0</td>\n",
       "      <td>None</td>\n",
       "      <td>1967-05-12</td>\n",
       "      <td>Bay City, TX</td>\n",
       "      <td>None</td>\n",
       "      <td>Baylor</td>\n",
       "      <td>Van Vleck, TX</td>\n",
       "      <td>Seattle Seahawks</td>\n",
       "      <td>2.0</td>\n",
       "      <td>34.0</td>\n",
       "      <td>1990.0</td>\n",
       "      <td>None</td>\n",
       "      <td>NaN</td>\n",
       "    </tr>\n",
       "    <tr>\n",
       "      <th>1</th>\n",
       "      <td>23586</td>\n",
       "      <td>Dean Wells</td>\n",
       "      <td>LB</td>\n",
       "      <td>6-3</td>\n",
       "      <td>248.0</td>\n",
       "      <td>None</td>\n",
       "      <td>1970-07-20</td>\n",
       "      <td>Louisville, KY</td>\n",
       "      <td>None</td>\n",
       "      <td>Kentucky</td>\n",
       "      <td>Holy Cross, KY</td>\n",
       "      <td>Seattle Seahawks</td>\n",
       "      <td>4.0</td>\n",
       "      <td>85.0</td>\n",
       "      <td>1993.0</td>\n",
       "      <td>None</td>\n",
       "      <td>NaN</td>\n",
       "    </tr>\n",
       "    <tr>\n",
       "      <th>2</th>\n",
       "      <td>355</td>\n",
       "      <td>Kiko Alonso</td>\n",
       "      <td>ILB</td>\n",
       "      <td>6-3</td>\n",
       "      <td>238.0</td>\n",
       "      <td>Miami Dolphins</td>\n",
       "      <td>1990-08-14</td>\n",
       "      <td>Newton, MA</td>\n",
       "      <td>None</td>\n",
       "      <td>Oregon</td>\n",
       "      <td>Los Gatos, CA</td>\n",
       "      <td>Buffalo Bills</td>\n",
       "      <td>2.0</td>\n",
       "      <td>46.0</td>\n",
       "      <td>2013.0</td>\n",
       "      <td>1,075,000</td>\n",
       "      <td>NaN</td>\n",
       "    </tr>\n",
       "    <tr>\n",
       "      <th>3</th>\n",
       "      <td>18182</td>\n",
       "      <td>Steve Ramsey</td>\n",
       "      <td>QB</td>\n",
       "      <td>6-2</td>\n",
       "      <td>210.0</td>\n",
       "      <td>None</td>\n",
       "      <td>1948-04-22</td>\n",
       "      <td>Dallas, TX</td>\n",
       "      <td>1999-10-15</td>\n",
       "      <td>North Texas</td>\n",
       "      <td>W.W. Samuell, TX</td>\n",
       "      <td>New Orleans Saints</td>\n",
       "      <td>5.0</td>\n",
       "      <td>126.0</td>\n",
       "      <td>1970.0</td>\n",
       "      <td>None</td>\n",
       "      <td>NaN</td>\n",
       "    </tr>\n",
       "    <tr>\n",
       "      <th>4</th>\n",
       "      <td>16250</td>\n",
       "      <td>Cory Nelms</td>\n",
       "      <td>CB</td>\n",
       "      <td>6-0</td>\n",
       "      <td>195.0</td>\n",
       "      <td>None</td>\n",
       "      <td>1988-02-27</td>\n",
       "      <td>Neptune, NJ</td>\n",
       "      <td>None</td>\n",
       "      <td>Miami (FL)</td>\n",
       "      <td>Neptune, NJ</td>\n",
       "      <td>None</td>\n",
       "      <td>NaN</td>\n",
       "      <td>NaN</td>\n",
       "      <td>NaN</td>\n",
       "      <td>None</td>\n",
       "      <td>NaN</td>\n",
       "    </tr>\n",
       "    <tr>\n",
       "      <th>...</th>\n",
       "      <td>...</td>\n",
       "      <td>...</td>\n",
       "      <td>...</td>\n",
       "      <td>...</td>\n",
       "      <td>...</td>\n",
       "      <td>...</td>\n",
       "      <td>...</td>\n",
       "      <td>...</td>\n",
       "      <td>...</td>\n",
       "      <td>...</td>\n",
       "      <td>...</td>\n",
       "      <td>...</td>\n",
       "      <td>...</td>\n",
       "      <td>...</td>\n",
       "      <td>...</td>\n",
       "      <td>...</td>\n",
       "      <td>...</td>\n",
       "    </tr>\n",
       "    <tr>\n",
       "      <th>25038</th>\n",
       "      <td>17925</td>\n",
       "      <td>Felto Prewitt</td>\n",
       "      <td>C-LB</td>\n",
       "      <td>5-11</td>\n",
       "      <td>207.0</td>\n",
       "      <td>None</td>\n",
       "      <td>1924-05-17</td>\n",
       "      <td>Corsicana, TX</td>\n",
       "      <td>1998-03-15</td>\n",
       "      <td>Tulsa</td>\n",
       "      <td>Corsicana, TX</td>\n",
       "      <td>Philadelphia Eagles</td>\n",
       "      <td>6.0</td>\n",
       "      <td>48.0</td>\n",
       "      <td>1946.0</td>\n",
       "      <td>None</td>\n",
       "      <td>NaN</td>\n",
       "    </tr>\n",
       "    <tr>\n",
       "      <th>25039</th>\n",
       "      <td>10762</td>\n",
       "      <td>Eddie Jackson</td>\n",
       "      <td>DB</td>\n",
       "      <td>6-0</td>\n",
       "      <td>190.0</td>\n",
       "      <td>None</td>\n",
       "      <td>1980-12-19</td>\n",
       "      <td>Americus, GA</td>\n",
       "      <td>None</td>\n",
       "      <td>Arkansas</td>\n",
       "      <td>Richardson, TX</td>\n",
       "      <td>None</td>\n",
       "      <td>NaN</td>\n",
       "      <td>NaN</td>\n",
       "      <td>NaN</td>\n",
       "      <td>None</td>\n",
       "      <td>NaN</td>\n",
       "    </tr>\n",
       "    <tr>\n",
       "      <th>25040</th>\n",
       "      <td>19343</td>\n",
       "      <td>Ron Sabal</td>\n",
       "      <td>T-G</td>\n",
       "      <td>6-3</td>\n",
       "      <td>245.0</td>\n",
       "      <td>None</td>\n",
       "      <td>1936-07-23</td>\n",
       "      <td>Chicago, IL</td>\n",
       "      <td>None</td>\n",
       "      <td>Purdue</td>\n",
       "      <td>St. Rita of Cascia, IL</td>\n",
       "      <td>Philadelphia Eagles</td>\n",
       "      <td>19.0</td>\n",
       "      <td>220.0</td>\n",
       "      <td>1958.0</td>\n",
       "      <td>None</td>\n",
       "      <td>NaN</td>\n",
       "    </tr>\n",
       "    <tr>\n",
       "      <th>25041</th>\n",
       "      <td>4880</td>\n",
       "      <td>Darrel Crutchfield</td>\n",
       "      <td>DB</td>\n",
       "      <td>6-0</td>\n",
       "      <td>177.0</td>\n",
       "      <td>None</td>\n",
       "      <td>1979-02-26</td>\n",
       "      <td>San Diego, CA</td>\n",
       "      <td>None</td>\n",
       "      <td>Clemson</td>\n",
       "      <td>William M. Raines, FL</td>\n",
       "      <td>None</td>\n",
       "      <td>NaN</td>\n",
       "      <td>NaN</td>\n",
       "      <td>NaN</td>\n",
       "      <td>None</td>\n",
       "      <td>NaN</td>\n",
       "    </tr>\n",
       "    <tr>\n",
       "      <th>25042</th>\n",
       "      <td>23865</td>\n",
       "      <td>Will Whitticker</td>\n",
       "      <td>G</td>\n",
       "      <td>6-5</td>\n",
       "      <td>338.0</td>\n",
       "      <td>None</td>\n",
       "      <td>1982-08-02</td>\n",
       "      <td>Evansville, IN</td>\n",
       "      <td>None</td>\n",
       "      <td>Michigan St.</td>\n",
       "      <td>Marion, IN</td>\n",
       "      <td>Green Bay Packers</td>\n",
       "      <td>7.0</td>\n",
       "      <td>246.0</td>\n",
       "      <td>2005.0</td>\n",
       "      <td>None</td>\n",
       "      <td>NaN</td>\n",
       "    </tr>\n",
       "  </tbody>\n",
       "</table>\n",
       "<p>25043 rows × 17 columns</p>\n",
       "</div>"
      ],
      "text/plain": [
       "       player_id                name position height  weight    current_team  \\\n",
       "0           1809     Robert Blackmon       DB    6-0   208.0            None   \n",
       "1          23586          Dean Wells       LB    6-3   248.0            None   \n",
       "2            355         Kiko Alonso      ILB    6-3   238.0  Miami Dolphins   \n",
       "3          18182        Steve Ramsey       QB    6-2   210.0            None   \n",
       "4          16250          Cory Nelms       CB    6-0   195.0            None   \n",
       "...          ...                 ...      ...    ...     ...             ...   \n",
       "25038      17925      Felto Prewitt      C-LB   5-11   207.0            None   \n",
       "25039      10762       Eddie Jackson       DB    6-0   190.0            None   \n",
       "25040      19343           Ron Sabal      T-G    6-3   245.0            None   \n",
       "25041       4880  Darrel Crutchfield       DB    6-0   177.0            None   \n",
       "25042      23865     Will Whitticker        G    6-5   338.0            None   \n",
       "\n",
       "       birth_date     birth_place  death_date       college  \\\n",
       "0      1967-05-12    Bay City, TX        None        Baylor   \n",
       "1      1970-07-20  Louisville, KY        None      Kentucky   \n",
       "2      1990-08-14      Newton, MA        None        Oregon   \n",
       "3      1948-04-22      Dallas, TX  1999-10-15   North Texas   \n",
       "4      1988-02-27     Neptune, NJ        None    Miami (FL)   \n",
       "...           ...             ...         ...           ...   \n",
       "25038  1924-05-17   Corsicana, TX  1998-03-15         Tulsa   \n",
       "25039  1980-12-19    Americus, GA        None      Arkansas   \n",
       "25040  1936-07-23     Chicago, IL        None        Purdue   \n",
       "25041  1979-02-26   San Diego, CA        None       Clemson   \n",
       "25042  1982-08-02  Evansville, IN        None  Michigan St.   \n",
       "\n",
       "                  high_school           draft_team  draft_round  \\\n",
       "0               Van Vleck, TX     Seattle Seahawks          2.0   \n",
       "1              Holy Cross, KY     Seattle Seahawks          4.0   \n",
       "2               Los Gatos, CA        Buffalo Bills          2.0   \n",
       "3            W.W. Samuell, TX   New Orleans Saints          5.0   \n",
       "4                 Neptune, NJ                 None          NaN   \n",
       "...                       ...                  ...          ...   \n",
       "25038           Corsicana, TX  Philadelphia Eagles          6.0   \n",
       "25039          Richardson, TX                 None          NaN   \n",
       "25040  St. Rita of Cascia, IL  Philadelphia Eagles         19.0   \n",
       "25041   William M. Raines, FL                 None          NaN   \n",
       "25042              Marion, IN    Green Bay Packers          7.0   \n",
       "\n",
       "       draft_position  draft_year current_salary  hof_induction_year  \n",
       "0                34.0      1990.0           None                 NaN  \n",
       "1                85.0      1993.0           None                 NaN  \n",
       "2                46.0      2013.0      1,075,000                 NaN  \n",
       "3               126.0      1970.0           None                 NaN  \n",
       "4                 NaN         NaN           None                 NaN  \n",
       "...               ...         ...            ...                 ...  \n",
       "25038            48.0      1946.0           None                 NaN  \n",
       "25039             NaN         NaN           None                 NaN  \n",
       "25040           220.0      1958.0           None                 NaN  \n",
       "25041             NaN         NaN           None                 NaN  \n",
       "25042           246.0      2005.0           None                 NaN  \n",
       "\n",
       "[25043 rows x 17 columns]"
      ]
     },
     "execution_count": 2,
     "metadata": {},
     "output_type": "execute_result"
    }
   ],
   "source": [
    "nfl = pd.read_json('nfl_football_profiles.json')\n",
    "nfl"
   ]
  },
  {
   "cell_type": "markdown",
   "metadata": {
    "colab_type": "text",
    "id": "0ItOuid97rc8"
   },
   "source": [
    "Lets clean up the data:\n",
    "Let's remove all the commas in the current_salary column in a new column called salary"
   ]
  },
  {
   "cell_type": "code",
   "execution_count": 3,
   "metadata": {
    "colab": {},
    "colab_type": "code",
    "id": "nCkaEzn_7qnm"
   },
   "outputs": [],
   "source": [
    "nfl['salary'] = nfl['current_salary'].str.replace(',', '')"
   ]
  },
  {
   "cell_type": "markdown",
   "metadata": {
    "colab_type": "text",
    "id": "8KOiOlqO8iLQ"
   },
   "source": [
    "Let's clean this up further by converting the data type to a float"
   ]
  },
  {
   "cell_type": "code",
   "execution_count": 4,
   "metadata": {
    "colab": {},
    "colab_type": "code",
    "id": "nwE5RCSZ8RJq"
   },
   "outputs": [],
   "source": [
    "nfl['salary'] = nfl['salary'].astype(float)"
   ]
  },
  {
   "cell_type": "code",
   "execution_count": 5,
   "metadata": {
    "colab": {},
    "colab_type": "code",
    "id": "cXgeFIlK8q4F"
   },
   "outputs": [
    {
     "data": {
      "text/plain": [
       "0          NaN\n",
       "1          NaN\n",
       "2    1075000.0\n",
       "3          NaN\n",
       "4          NaN\n",
       "5          NaN\n",
       "6    1762000.0\n",
       "7          NaN\n",
       "8          NaN\n",
       "9          NaN\n",
       "Name: salary, dtype: float64"
      ]
     },
     "execution_count": 5,
     "metadata": {},
     "output_type": "execute_result"
    }
   ],
   "source": [
    "nfl['salary'].head(10)"
   ]
  },
  {
   "cell_type": "markdown",
   "metadata": {
    "colab_type": "text",
    "id": "C5PUTFtJ87aX"
   },
   "source": [
    "<font color='red'>To-do:</font> Remove all NaN values in salary from the nfl df into a new df called nfl_salary_cleaned"
   ]
  },
  {
   "cell_type": "code",
   "execution_count": 6,
   "metadata": {},
   "outputs": [
    {
     "data": {
      "text/plain": [
       "2      1075000.0\n",
       "6      1762000.0\n",
       "13      774294.0\n",
       "37     6750000.0\n",
       "53     3750000.0\n",
       "57      907337.0\n",
       "90      615000.0\n",
       "106    4650000.0\n",
       "113     465000.0\n",
       "114    2746000.0\n",
       "Name: salary, dtype: float64"
      ]
     },
     "execution_count": 6,
     "metadata": {},
     "output_type": "execute_result"
    }
   ],
   "source": [
    "nfl_salary_cleaned = nfl.dropna(subset=['salary'])\n",
    "# nfl_salary_cleaned['salary'].isna().sum() == 0\n",
    "nfl_salary_cleaned['salary'].head(10) # show the cleaned dataframe"
   ]
  },
  {
   "cell_type": "markdown",
   "metadata": {
    "colab_type": "text",
    "id": "2qNZJaFe-y7N"
   },
   "source": [
    "# Dummy variables and discretizing salaries"
   ]
  },
  {
   "cell_type": "markdown",
   "metadata": {
    "colab_type": "text",
    "id": "9C1CVM9J_Adr"
   },
   "source": [
    "<font color='red'>To-do:</font> Using the same NFL dataset, lets discretize the salaries. Let's create bins by splitting salaries into five equally sized groups (hint: use pd.Series.quantiles and np.linspace)"
   ]
  },
  {
   "cell_type": "code",
   "execution_count": 7,
   "metadata": {
    "colab": {},
    "colab_type": "code",
    "id": "92adY17u-_PW"
   },
   "outputs": [
    {
     "data": {
      "text/plain": [
       "0.0       38294.0\n",
       "0.2      465000.0\n",
       "0.4      615000.0\n",
       "0.6      800000.0\n",
       "0.8     1797000.0\n",
       "1.0    23943600.0\n",
       "Name: salary, dtype: float64"
      ]
     },
     "execution_count": 7,
     "metadata": {},
     "output_type": "execute_result"
    }
   ],
   "source": [
    "bins = nfl_salary_cleaned['salary'].quantile([0, .2, .4, .6, .8, 1])\n",
    "bins"
   ]
  },
  {
   "cell_type": "markdown",
   "metadata": {
    "colab_type": "text",
    "id": "Q_6JTAk6AHiX"
   },
   "source": [
    "Using these bins that we set, we can set labels to them and have them categorized by that bin by using pd.cut()"
   ]
  },
  {
   "cell_type": "code",
   "execution_count": 8,
   "metadata": {
    "colab": {
     "base_uri": "https://localhost:8080/",
     "height": 221
    },
    "colab_type": "code",
    "executionInfo": {
     "elapsed": 450,
     "status": "ok",
     "timestamp": 1599755754780,
     "user": {
      "displayName": "Kevin Lee",
      "photoUrl": "https://lh3.googleusercontent.com/a-/AOh14Gi-Bzlj5PkYle1VXcuH3tD0oB_eYMp8TFinoIcH=s64",
      "userId": "17607607416881687332"
     },
     "user_tz": 240
    },
    "id": "4zW1cVoG_WB6",
    "outputId": "74ddc7e9-0c21-4491-aaec-bb17ae2d02b5"
   },
   "outputs": [
    {
     "data": {
      "text/plain": [
       "2      d6\n",
       "6      d6\n",
       "13     d4\n",
       "37     d8\n",
       "53     d8\n",
       "57     d6\n",
       "90     d2\n",
       "106    d8\n",
       "113    d0\n",
       "114    d8\n",
       "Name: salary, dtype: category\n",
       "Categories (5, object): ['d0' < 'd2' < 'd4' < 'd6' < 'd8']"
      ]
     },
     "execution_count": 8,
     "metadata": {},
     "output_type": "execute_result"
    }
   ],
   "source": [
    "pd.cut(nfl_salary_cleaned['salary'],bins,labels=['d0','d2','d4','d6','d8'])[0:10]"
   ]
  },
  {
   "cell_type": "markdown",
   "metadata": {
    "colab_type": "text",
    "id": "mr5XCFWnANYN"
   },
   "source": [
    "Similarly, we can create dummy variables to categorize our labels and bins into an organized dataframe by using pd.get_dummies(). It will display whether a player fits into our labels based on their salary bin range."
   ]
  },
  {
   "cell_type": "code",
   "execution_count": 9,
   "metadata": {
    "colab": {},
    "colab_type": "code",
    "id": "mtcXsec9_mlA"
   },
   "outputs": [],
   "source": [
    "dummy_variable = pd.get_dummies(pd.cut(nfl_salary_cleaned['salary'],bins,labels=['d0','d2','d4','d6','d8']))"
   ]
  },
  {
   "cell_type": "code",
   "execution_count": 10,
   "metadata": {
    "colab": {
     "base_uri": "https://localhost:8080/",
     "height": 204
    },
    "colab_type": "code",
    "executionInfo": {
     "elapsed": 518,
     "status": "ok",
     "timestamp": 1599755759592,
     "user": {
      "displayName": "Kevin Lee",
      "photoUrl": "https://lh3.googleusercontent.com/a-/AOh14Gi-Bzlj5PkYle1VXcuH3tD0oB_eYMp8TFinoIcH=s64",
      "userId": "17607607416881687332"
     },
     "user_tz": 240
    },
    "id": "UKxoBGbu_res",
    "outputId": "7941c3c2-82f6-4cef-e43d-656191a8ba44"
   },
   "outputs": [
    {
     "data": {
      "text/html": [
       "<div>\n",
       "<style scoped>\n",
       "    .dataframe tbody tr th:only-of-type {\n",
       "        vertical-align: middle;\n",
       "    }\n",
       "\n",
       "    .dataframe tbody tr th {\n",
       "        vertical-align: top;\n",
       "    }\n",
       "\n",
       "    .dataframe thead th {\n",
       "        text-align: right;\n",
       "    }\n",
       "</style>\n",
       "<table border=\"1\" class=\"dataframe\">\n",
       "  <thead>\n",
       "    <tr style=\"text-align: right;\">\n",
       "      <th></th>\n",
       "      <th>d0</th>\n",
       "      <th>d2</th>\n",
       "      <th>d4</th>\n",
       "      <th>d6</th>\n",
       "      <th>d8</th>\n",
       "    </tr>\n",
       "  </thead>\n",
       "  <tbody>\n",
       "    <tr>\n",
       "      <th>2</th>\n",
       "      <td>0</td>\n",
       "      <td>0</td>\n",
       "      <td>0</td>\n",
       "      <td>1</td>\n",
       "      <td>0</td>\n",
       "    </tr>\n",
       "    <tr>\n",
       "      <th>6</th>\n",
       "      <td>0</td>\n",
       "      <td>0</td>\n",
       "      <td>0</td>\n",
       "      <td>1</td>\n",
       "      <td>0</td>\n",
       "    </tr>\n",
       "    <tr>\n",
       "      <th>13</th>\n",
       "      <td>0</td>\n",
       "      <td>0</td>\n",
       "      <td>1</td>\n",
       "      <td>0</td>\n",
       "      <td>0</td>\n",
       "    </tr>\n",
       "    <tr>\n",
       "      <th>37</th>\n",
       "      <td>0</td>\n",
       "      <td>0</td>\n",
       "      <td>0</td>\n",
       "      <td>0</td>\n",
       "      <td>1</td>\n",
       "    </tr>\n",
       "    <tr>\n",
       "      <th>53</th>\n",
       "      <td>0</td>\n",
       "      <td>0</td>\n",
       "      <td>0</td>\n",
       "      <td>0</td>\n",
       "      <td>1</td>\n",
       "    </tr>\n",
       "  </tbody>\n",
       "</table>\n",
       "</div>"
      ],
      "text/plain": [
       "    d0  d2  d4  d6  d8\n",
       "2    0   0   0   1   0\n",
       "6    0   0   0   1   0\n",
       "13   0   0   1   0   0\n",
       "37   0   0   0   0   1\n",
       "53   0   0   0   0   1"
      ]
     },
     "execution_count": 10,
     "metadata": {},
     "output_type": "execute_result"
    }
   ],
   "source": [
    "dummy_variable.head()"
   ]
  },
  {
   "cell_type": "markdown",
   "metadata": {
    "colab_type": "text",
    "id": "xd9q8cM3FG_H"
   },
   "source": [
    "# Joining and Merging Datasets"
   ]
  },
  {
   "cell_type": "markdown",
   "metadata": {
    "colab_type": "text",
    "id": "Qnw4Bo5-Nq6Q"
   },
   "source": [
    "Let's create some simple dataframes"
   ]
  },
  {
   "cell_type": "code",
   "execution_count": 11,
   "metadata": {
    "colab": {},
    "colab_type": "code",
    "id": "xhrrw_mWNvCf"
   },
   "outputs": [],
   "source": [
    "drinks1 = pd.DataFrame({'Drinks': ['Coca-Cola', 'Sprite', 'Fanta', 'Root-Beer', 'Dr. Pepper'],\n",
    "                   'Prices': [0.99, 1.49, 1.99, 2.49, 5],\n",
    "                   'id': ['D01', 'D02', 'D03', 'D04', 'D05']})"
   ]
  },
  {
   "cell_type": "code",
   "execution_count": 12,
   "metadata": {
    "colab": {
     "base_uri": "https://localhost:8080/",
     "height": 204
    },
    "colab_type": "code",
    "executionInfo": {
     "elapsed": 312,
     "status": "ok",
     "timestamp": 1599695177523,
     "user": {
      "displayName": "Kevin Lee",
      "photoUrl": "https://lh3.googleusercontent.com/a-/AOh14Gi-Bzlj5PkYle1VXcuH3tD0oB_eYMp8TFinoIcH=s64",
      "userId": "17607607416881687332"
     },
     "user_tz": 240
    },
    "id": "m72YNCgIOws1",
    "outputId": "bff1c207-6090-4601-839c-1c1bbf0f86e6"
   },
   "outputs": [
    {
     "data": {
      "text/html": [
       "<div>\n",
       "<style scoped>\n",
       "    .dataframe tbody tr th:only-of-type {\n",
       "        vertical-align: middle;\n",
       "    }\n",
       "\n",
       "    .dataframe tbody tr th {\n",
       "        vertical-align: top;\n",
       "    }\n",
       "\n",
       "    .dataframe thead th {\n",
       "        text-align: right;\n",
       "    }\n",
       "</style>\n",
       "<table border=\"1\" class=\"dataframe\">\n",
       "  <thead>\n",
       "    <tr style=\"text-align: right;\">\n",
       "      <th></th>\n",
       "      <th>Drinks</th>\n",
       "      <th>Prices</th>\n",
       "      <th>id</th>\n",
       "    </tr>\n",
       "  </thead>\n",
       "  <tbody>\n",
       "    <tr>\n",
       "      <th>0</th>\n",
       "      <td>Coca-Cola</td>\n",
       "      <td>0.99</td>\n",
       "      <td>D01</td>\n",
       "    </tr>\n",
       "    <tr>\n",
       "      <th>1</th>\n",
       "      <td>Sprite</td>\n",
       "      <td>1.49</td>\n",
       "      <td>D02</td>\n",
       "    </tr>\n",
       "    <tr>\n",
       "      <th>2</th>\n",
       "      <td>Fanta</td>\n",
       "      <td>1.99</td>\n",
       "      <td>D03</td>\n",
       "    </tr>\n",
       "    <tr>\n",
       "      <th>3</th>\n",
       "      <td>Root-Beer</td>\n",
       "      <td>2.49</td>\n",
       "      <td>D04</td>\n",
       "    </tr>\n",
       "    <tr>\n",
       "      <th>4</th>\n",
       "      <td>Dr. Pepper</td>\n",
       "      <td>5.00</td>\n",
       "      <td>D05</td>\n",
       "    </tr>\n",
       "  </tbody>\n",
       "</table>\n",
       "</div>"
      ],
      "text/plain": [
       "       Drinks  Prices   id\n",
       "0   Coca-Cola    0.99  D01\n",
       "1      Sprite    1.49  D02\n",
       "2       Fanta    1.99  D03\n",
       "3   Root-Beer    2.49  D04\n",
       "4  Dr. Pepper    5.00  D05"
      ]
     },
     "execution_count": 12,
     "metadata": {},
     "output_type": "execute_result"
    }
   ],
   "source": [
    "drinks1.head()"
   ]
  },
  {
   "cell_type": "code",
   "execution_count": 13,
   "metadata": {
    "colab": {},
    "colab_type": "code",
    "id": "WA5g4dUzO0UD"
   },
   "outputs": [],
   "source": [
    "drinks2 = pd.DataFrame({'Drinks': ['Squirt', 'Ginger-Ale', 'Cream-Soda', 'Pepsi'],\n",
    "                   'Prices': [0.49, 0.99, 1.99, 1.49],\n",
    "                   'id': ['D06', 'D07', 'D08', 'D09']})"
   ]
  },
  {
   "cell_type": "code",
   "execution_count": 14,
   "metadata": {
    "colab": {
     "base_uri": "https://localhost:8080/",
     "height": 173
    },
    "colab_type": "code",
    "executionInfo": {
     "elapsed": 363,
     "status": "ok",
     "timestamp": 1599695138351,
     "user": {
      "displayName": "Kevin Lee",
      "photoUrl": "https://lh3.googleusercontent.com/a-/AOh14Gi-Bzlj5PkYle1VXcuH3tD0oB_eYMp8TFinoIcH=s64",
      "userId": "17607607416881687332"
     },
     "user_tz": 240
    },
    "id": "a9h4qnjXQpWU",
    "outputId": "1a4bceed-94f9-43a5-fd70-5bfd2a372894"
   },
   "outputs": [
    {
     "data": {
      "text/html": [
       "<div>\n",
       "<style scoped>\n",
       "    .dataframe tbody tr th:only-of-type {\n",
       "        vertical-align: middle;\n",
       "    }\n",
       "\n",
       "    .dataframe tbody tr th {\n",
       "        vertical-align: top;\n",
       "    }\n",
       "\n",
       "    .dataframe thead th {\n",
       "        text-align: right;\n",
       "    }\n",
       "</style>\n",
       "<table border=\"1\" class=\"dataframe\">\n",
       "  <thead>\n",
       "    <tr style=\"text-align: right;\">\n",
       "      <th></th>\n",
       "      <th>Drinks</th>\n",
       "      <th>Prices</th>\n",
       "      <th>id</th>\n",
       "    </tr>\n",
       "  </thead>\n",
       "  <tbody>\n",
       "    <tr>\n",
       "      <th>0</th>\n",
       "      <td>Squirt</td>\n",
       "      <td>0.49</td>\n",
       "      <td>D06</td>\n",
       "    </tr>\n",
       "    <tr>\n",
       "      <th>1</th>\n",
       "      <td>Ginger-Ale</td>\n",
       "      <td>0.99</td>\n",
       "      <td>D07</td>\n",
       "    </tr>\n",
       "    <tr>\n",
       "      <th>2</th>\n",
       "      <td>Cream-Soda</td>\n",
       "      <td>1.99</td>\n",
       "      <td>D08</td>\n",
       "    </tr>\n",
       "    <tr>\n",
       "      <th>3</th>\n",
       "      <td>Pepsi</td>\n",
       "      <td>1.49</td>\n",
       "      <td>D09</td>\n",
       "    </tr>\n",
       "  </tbody>\n",
       "</table>\n",
       "</div>"
      ],
      "text/plain": [
       "       Drinks  Prices   id\n",
       "0      Squirt    0.49  D06\n",
       "1  Ginger-Ale    0.99  D07\n",
       "2  Cream-Soda    1.99  D08\n",
       "3       Pepsi    1.49  D09"
      ]
     },
     "execution_count": 14,
     "metadata": {},
     "output_type": "execute_result"
    }
   ],
   "source": [
    "drinks2.head()"
   ]
  },
  {
   "cell_type": "markdown",
   "metadata": {
    "colab_type": "text",
    "id": "bR_1eDb6QsDz"
   },
   "source": [
    "<font color='red'>To-do:</font> Concatenate drinks1 and drinks2 on rows, but ignore indexes. Show all 9 rows on the df"
   ]
  },
  {
   "cell_type": "code",
   "execution_count": 15,
   "metadata": {},
   "outputs": [
    {
     "data": {
      "text/html": [
       "<div>\n",
       "<style scoped>\n",
       "    .dataframe tbody tr th:only-of-type {\n",
       "        vertical-align: middle;\n",
       "    }\n",
       "\n",
       "    .dataframe tbody tr th {\n",
       "        vertical-align: top;\n",
       "    }\n",
       "\n",
       "    .dataframe thead th {\n",
       "        text-align: right;\n",
       "    }\n",
       "</style>\n",
       "<table border=\"1\" class=\"dataframe\">\n",
       "  <thead>\n",
       "    <tr style=\"text-align: right;\">\n",
       "      <th></th>\n",
       "      <th>Drinks</th>\n",
       "      <th>Prices</th>\n",
       "      <th>id</th>\n",
       "    </tr>\n",
       "  </thead>\n",
       "  <tbody>\n",
       "    <tr>\n",
       "      <th>0</th>\n",
       "      <td>Coca-Cola</td>\n",
       "      <td>0.99</td>\n",
       "      <td>D01</td>\n",
       "    </tr>\n",
       "    <tr>\n",
       "      <th>1</th>\n",
       "      <td>Sprite</td>\n",
       "      <td>1.49</td>\n",
       "      <td>D02</td>\n",
       "    </tr>\n",
       "    <tr>\n",
       "      <th>2</th>\n",
       "      <td>Fanta</td>\n",
       "      <td>1.99</td>\n",
       "      <td>D03</td>\n",
       "    </tr>\n",
       "    <tr>\n",
       "      <th>3</th>\n",
       "      <td>Root-Beer</td>\n",
       "      <td>2.49</td>\n",
       "      <td>D04</td>\n",
       "    </tr>\n",
       "    <tr>\n",
       "      <th>4</th>\n",
       "      <td>Dr. Pepper</td>\n",
       "      <td>5.00</td>\n",
       "      <td>D05</td>\n",
       "    </tr>\n",
       "    <tr>\n",
       "      <th>5</th>\n",
       "      <td>Squirt</td>\n",
       "      <td>0.49</td>\n",
       "      <td>D06</td>\n",
       "    </tr>\n",
       "    <tr>\n",
       "      <th>6</th>\n",
       "      <td>Ginger-Ale</td>\n",
       "      <td>0.99</td>\n",
       "      <td>D07</td>\n",
       "    </tr>\n",
       "    <tr>\n",
       "      <th>7</th>\n",
       "      <td>Cream-Soda</td>\n",
       "      <td>1.99</td>\n",
       "      <td>D08</td>\n",
       "    </tr>\n",
       "    <tr>\n",
       "      <th>8</th>\n",
       "      <td>Pepsi</td>\n",
       "      <td>1.49</td>\n",
       "      <td>D09</td>\n",
       "    </tr>\n",
       "  </tbody>\n",
       "</table>\n",
       "</div>"
      ],
      "text/plain": [
       "       Drinks  Prices   id\n",
       "0   Coca-Cola    0.99  D01\n",
       "1      Sprite    1.49  D02\n",
       "2       Fanta    1.99  D03\n",
       "3   Root-Beer    2.49  D04\n",
       "4  Dr. Pepper    5.00  D05\n",
       "5      Squirt    0.49  D06\n",
       "6  Ginger-Ale    0.99  D07\n",
       "7  Cream-Soda    1.99  D08\n",
       "8       Pepsi    1.49  D09"
      ]
     },
     "execution_count": 15,
     "metadata": {},
     "output_type": "execute_result"
    }
   ],
   "source": [
    "pd.concat([drinks1, drinks2], ignore_index=True)"
   ]
  },
  {
   "cell_type": "markdown",
   "metadata": {
    "colab_type": "text",
    "id": "h6RG15tRGltz"
   },
   "source": [
    "Now let's practice joining tables. Load in title.ratings.tsv and title.basics.tsv. <font color='red'>These files are included in the zipped file you downloaded with your lab instructions. </font>"
   ]
  },
  {
   "cell_type": "code",
   "execution_count": 16,
   "metadata": {
    "colab": {},
    "colab_type": "code",
    "id": "vllwqTvcGwkN"
   },
   "outputs": [],
   "source": [
    "ratings = pd.read_csv('title.ratings.tsv', sep='\\t')"
   ]
  },
  {
   "cell_type": "code",
   "execution_count": 17,
   "metadata": {
    "colab": {
     "base_uri": "https://localhost:8080/",
     "height": 204
    },
    "colab_type": "code",
    "executionInfo": {
     "elapsed": 329,
     "status": "ok",
     "timestamp": 1600097831675,
     "user": {
      "displayName": "Kevin Lee",
      "photoUrl": "https://lh3.googleusercontent.com/a-/AOh14Gi-Bzlj5PkYle1VXcuH3tD0oB_eYMp8TFinoIcH=s64",
      "userId": "17607607416881687332"
     },
     "user_tz": 240
    },
    "id": "kIjePgntHLuI",
    "outputId": "82b665fe-e3ae-4a3c-b862-4a0febf6d0f9"
   },
   "outputs": [
    {
     "data": {
      "text/html": [
       "<div>\n",
       "<style scoped>\n",
       "    .dataframe tbody tr th:only-of-type {\n",
       "        vertical-align: middle;\n",
       "    }\n",
       "\n",
       "    .dataframe tbody tr th {\n",
       "        vertical-align: top;\n",
       "    }\n",
       "\n",
       "    .dataframe thead th {\n",
       "        text-align: right;\n",
       "    }\n",
       "</style>\n",
       "<table border=\"1\" class=\"dataframe\">\n",
       "  <thead>\n",
       "    <tr style=\"text-align: right;\">\n",
       "      <th></th>\n",
       "      <th>tconst</th>\n",
       "      <th>averageRating</th>\n",
       "      <th>numVotes</th>\n",
       "    </tr>\n",
       "  </thead>\n",
       "  <tbody>\n",
       "    <tr>\n",
       "      <th>0</th>\n",
       "      <td>tt0000001</td>\n",
       "      <td>5.6</td>\n",
       "      <td>1646</td>\n",
       "    </tr>\n",
       "    <tr>\n",
       "      <th>1</th>\n",
       "      <td>tt0000002</td>\n",
       "      <td>6.1</td>\n",
       "      <td>198</td>\n",
       "    </tr>\n",
       "    <tr>\n",
       "      <th>2</th>\n",
       "      <td>tt0000003</td>\n",
       "      <td>6.5</td>\n",
       "      <td>1345</td>\n",
       "    </tr>\n",
       "    <tr>\n",
       "      <th>3</th>\n",
       "      <td>tt0000004</td>\n",
       "      <td>6.2</td>\n",
       "      <td>120</td>\n",
       "    </tr>\n",
       "    <tr>\n",
       "      <th>4</th>\n",
       "      <td>tt0000005</td>\n",
       "      <td>6.1</td>\n",
       "      <td>2131</td>\n",
       "    </tr>\n",
       "  </tbody>\n",
       "</table>\n",
       "</div>"
      ],
      "text/plain": [
       "      tconst  averageRating  numVotes\n",
       "0  tt0000001            5.6      1646\n",
       "1  tt0000002            6.1       198\n",
       "2  tt0000003            6.5      1345\n",
       "3  tt0000004            6.2       120\n",
       "4  tt0000005            6.1      2131"
      ]
     },
     "execution_count": 17,
     "metadata": {},
     "output_type": "execute_result"
    }
   ],
   "source": [
    "ratings.head()"
   ]
  },
  {
   "cell_type": "code",
   "execution_count": 18,
   "metadata": {
    "colab": {
     "base_uri": "https://localhost:8080/",
     "height": 71
    },
    "colab_type": "code",
    "executionInfo": {
     "elapsed": 26728,
     "status": "ok",
     "timestamp": 1600097860039,
     "user": {
      "displayName": "Kevin Lee",
      "photoUrl": "https://lh3.googleusercontent.com/a-/AOh14Gi-Bzlj5PkYle1VXcuH3tD0oB_eYMp8TFinoIcH=s64",
      "userId": "17607607416881687332"
     },
     "user_tz": 240
    },
    "id": "ebJKDdrmLrEV",
    "outputId": "65603d38-29b2-4890-a1ba-dca1d55f5124"
   },
   "outputs": [
    {
     "name": "stderr",
     "output_type": "stream",
     "text": [
      "D:\\Software\\anaconda3\\lib\\site-packages\\IPython\\core\\interactiveshell.py:3146: DtypeWarning: Columns (5) have mixed types.Specify dtype option on import or set low_memory=False.\n",
      "  has_raised = await self.run_ast_nodes(code_ast.body, cell_name,\n"
     ]
    }
   ],
   "source": [
    "titles = pd.read_csv('title.basics.tsv', sep='\\t')"
   ]
  },
  {
   "cell_type": "code",
   "execution_count": 19,
   "metadata": {
    "colab": {
     "base_uri": "https://localhost:8080/",
     "height": 221
    },
    "colab_type": "code",
    "executionInfo": {
     "elapsed": 24873,
     "status": "ok",
     "timestamp": 1600097860041,
     "user": {
      "displayName": "Kevin Lee",
      "photoUrl": "https://lh3.googleusercontent.com/a-/AOh14Gi-Bzlj5PkYle1VXcuH3tD0oB_eYMp8TFinoIcH=s64",
      "userId": "17607607416881687332"
     },
     "user_tz": 240
    },
    "id": "Ds-m6jZDLymQ",
    "outputId": "51f02e43-26b9-47a5-8e8a-ffc397acd492"
   },
   "outputs": [
    {
     "data": {
      "text/html": [
       "<div>\n",
       "<style scoped>\n",
       "    .dataframe tbody tr th:only-of-type {\n",
       "        vertical-align: middle;\n",
       "    }\n",
       "\n",
       "    .dataframe tbody tr th {\n",
       "        vertical-align: top;\n",
       "    }\n",
       "\n",
       "    .dataframe thead th {\n",
       "        text-align: right;\n",
       "    }\n",
       "</style>\n",
       "<table border=\"1\" class=\"dataframe\">\n",
       "  <thead>\n",
       "    <tr style=\"text-align: right;\">\n",
       "      <th></th>\n",
       "      <th>tconst</th>\n",
       "      <th>titleType</th>\n",
       "      <th>primaryTitle</th>\n",
       "      <th>originalTitle</th>\n",
       "      <th>isAdult</th>\n",
       "      <th>startYear</th>\n",
       "      <th>endYear</th>\n",
       "      <th>runtimeMinutes</th>\n",
       "      <th>genres</th>\n",
       "    </tr>\n",
       "  </thead>\n",
       "  <tbody>\n",
       "    <tr>\n",
       "      <th>0</th>\n",
       "      <td>tt0000001</td>\n",
       "      <td>short</td>\n",
       "      <td>Carmencita</td>\n",
       "      <td>Carmencita</td>\n",
       "      <td>0</td>\n",
       "      <td>1894</td>\n",
       "      <td>\\N</td>\n",
       "      <td>1</td>\n",
       "      <td>Documentary,Short</td>\n",
       "    </tr>\n",
       "    <tr>\n",
       "      <th>1</th>\n",
       "      <td>tt0000002</td>\n",
       "      <td>short</td>\n",
       "      <td>Le clown et ses chiens</td>\n",
       "      <td>Le clown et ses chiens</td>\n",
       "      <td>0</td>\n",
       "      <td>1892</td>\n",
       "      <td>\\N</td>\n",
       "      <td>5</td>\n",
       "      <td>Animation,Short</td>\n",
       "    </tr>\n",
       "    <tr>\n",
       "      <th>2</th>\n",
       "      <td>tt0000003</td>\n",
       "      <td>short</td>\n",
       "      <td>Pauvre Pierrot</td>\n",
       "      <td>Pauvre Pierrot</td>\n",
       "      <td>0</td>\n",
       "      <td>1892</td>\n",
       "      <td>\\N</td>\n",
       "      <td>4</td>\n",
       "      <td>Animation,Comedy,Romance</td>\n",
       "    </tr>\n",
       "    <tr>\n",
       "      <th>3</th>\n",
       "      <td>tt0000004</td>\n",
       "      <td>short</td>\n",
       "      <td>Un bon bock</td>\n",
       "      <td>Un bon bock</td>\n",
       "      <td>0</td>\n",
       "      <td>1892</td>\n",
       "      <td>\\N</td>\n",
       "      <td>12</td>\n",
       "      <td>Animation,Short</td>\n",
       "    </tr>\n",
       "    <tr>\n",
       "      <th>4</th>\n",
       "      <td>tt0000005</td>\n",
       "      <td>short</td>\n",
       "      <td>Blacksmith Scene</td>\n",
       "      <td>Blacksmith Scene</td>\n",
       "      <td>0</td>\n",
       "      <td>1893</td>\n",
       "      <td>\\N</td>\n",
       "      <td>1</td>\n",
       "      <td>Comedy,Short</td>\n",
       "    </tr>\n",
       "  </tbody>\n",
       "</table>\n",
       "</div>"
      ],
      "text/plain": [
       "      tconst titleType            primaryTitle           originalTitle  \\\n",
       "0  tt0000001     short              Carmencita              Carmencita   \n",
       "1  tt0000002     short  Le clown et ses chiens  Le clown et ses chiens   \n",
       "2  tt0000003     short          Pauvre Pierrot          Pauvre Pierrot   \n",
       "3  tt0000004     short             Un bon bock             Un bon bock   \n",
       "4  tt0000005     short        Blacksmith Scene        Blacksmith Scene   \n",
       "\n",
       "   isAdult startYear endYear runtimeMinutes                    genres  \n",
       "0        0      1894      \\N              1         Documentary,Short  \n",
       "1        0      1892      \\N              5           Animation,Short  \n",
       "2        0      1892      \\N              4  Animation,Comedy,Romance  \n",
       "3        0      1892      \\N             12           Animation,Short  \n",
       "4        0      1893      \\N              1              Comedy,Short  "
      ]
     },
     "execution_count": 19,
     "metadata": {},
     "output_type": "execute_result"
    }
   ],
   "source": [
    "titles.head()"
   ]
  },
  {
   "cell_type": "markdown",
   "metadata": {
    "colab_type": "text",
    "id": "Guk9OUcMMGpu"
   },
   "source": [
    "Notice that on titles and ratings, tconst is the same. We can therefore join these two dataframe using that column as index."
   ]
  },
  {
   "cell_type": "markdown",
   "metadata": {
    "colab_type": "text",
    "id": "vrLe3kJAMQpn"
   },
   "source": [
    "<font color='red'>To-do:</font> Merge ratings and titles in a dataframe called imdb_info on tconst. In a markdown cell, explain what kind of join this is and why you chose to use it."
   ]
  },
  {
   "cell_type": "code",
   "execution_count": 30,
   "metadata": {},
   "outputs": [
    {
     "data": {
      "text/html": [
       "<div>\n",
       "<style scoped>\n",
       "    .dataframe tbody tr th:only-of-type {\n",
       "        vertical-align: middle;\n",
       "    }\n",
       "\n",
       "    .dataframe tbody tr th {\n",
       "        vertical-align: top;\n",
       "    }\n",
       "\n",
       "    .dataframe thead th {\n",
       "        text-align: right;\n",
       "    }\n",
       "</style>\n",
       "<table border=\"1\" class=\"dataframe\">\n",
       "  <thead>\n",
       "    <tr style=\"text-align: right;\">\n",
       "      <th></th>\n",
       "      <th>tconst</th>\n",
       "      <th>averageRating</th>\n",
       "      <th>numVotes</th>\n",
       "      <th>titleType</th>\n",
       "      <th>primaryTitle</th>\n",
       "      <th>originalTitle</th>\n",
       "      <th>isAdult</th>\n",
       "      <th>startYear</th>\n",
       "      <th>endYear</th>\n",
       "      <th>runtimeMinutes</th>\n",
       "      <th>genres</th>\n",
       "    </tr>\n",
       "  </thead>\n",
       "  <tbody>\n",
       "    <tr>\n",
       "      <th>0</th>\n",
       "      <td>tt0000001</td>\n",
       "      <td>5.6</td>\n",
       "      <td>1646</td>\n",
       "      <td>short</td>\n",
       "      <td>Carmencita</td>\n",
       "      <td>Carmencita</td>\n",
       "      <td>0</td>\n",
       "      <td>1894</td>\n",
       "      <td>\\N</td>\n",
       "      <td>1</td>\n",
       "      <td>Documentary,Short</td>\n",
       "    </tr>\n",
       "    <tr>\n",
       "      <th>1</th>\n",
       "      <td>tt0000002</td>\n",
       "      <td>6.1</td>\n",
       "      <td>198</td>\n",
       "      <td>short</td>\n",
       "      <td>Le clown et ses chiens</td>\n",
       "      <td>Le clown et ses chiens</td>\n",
       "      <td>0</td>\n",
       "      <td>1892</td>\n",
       "      <td>\\N</td>\n",
       "      <td>5</td>\n",
       "      <td>Animation,Short</td>\n",
       "    </tr>\n",
       "    <tr>\n",
       "      <th>2</th>\n",
       "      <td>tt0000003</td>\n",
       "      <td>6.5</td>\n",
       "      <td>1345</td>\n",
       "      <td>short</td>\n",
       "      <td>Pauvre Pierrot</td>\n",
       "      <td>Pauvre Pierrot</td>\n",
       "      <td>0</td>\n",
       "      <td>1892</td>\n",
       "      <td>\\N</td>\n",
       "      <td>4</td>\n",
       "      <td>Animation,Comedy,Romance</td>\n",
       "    </tr>\n",
       "    <tr>\n",
       "      <th>3</th>\n",
       "      <td>tt0000004</td>\n",
       "      <td>6.2</td>\n",
       "      <td>120</td>\n",
       "      <td>short</td>\n",
       "      <td>Un bon bock</td>\n",
       "      <td>Un bon bock</td>\n",
       "      <td>0</td>\n",
       "      <td>1892</td>\n",
       "      <td>\\N</td>\n",
       "      <td>12</td>\n",
       "      <td>Animation,Short</td>\n",
       "    </tr>\n",
       "    <tr>\n",
       "      <th>4</th>\n",
       "      <td>tt0000005</td>\n",
       "      <td>6.1</td>\n",
       "      <td>2131</td>\n",
       "      <td>short</td>\n",
       "      <td>Blacksmith Scene</td>\n",
       "      <td>Blacksmith Scene</td>\n",
       "      <td>0</td>\n",
       "      <td>1893</td>\n",
       "      <td>\\N</td>\n",
       "      <td>1</td>\n",
       "      <td>Comedy,Short</td>\n",
       "    </tr>\n",
       "    <tr>\n",
       "      <th>...</th>\n",
       "      <td>...</td>\n",
       "      <td>...</td>\n",
       "      <td>...</td>\n",
       "      <td>...</td>\n",
       "      <td>...</td>\n",
       "      <td>...</td>\n",
       "      <td>...</td>\n",
       "      <td>...</td>\n",
       "      <td>...</td>\n",
       "      <td>...</td>\n",
       "      <td>...</td>\n",
       "    </tr>\n",
       "    <tr>\n",
       "      <th>1071724</th>\n",
       "      <td>tt9916580</td>\n",
       "      <td>7.2</td>\n",
       "      <td>5</td>\n",
       "      <td>tvEpisode</td>\n",
       "      <td>Horrid Henry Horrid Boy?</td>\n",
       "      <td>Horrid Henry Horrid Boy?</td>\n",
       "      <td>0</td>\n",
       "      <td>2012</td>\n",
       "      <td>\\N</td>\n",
       "      <td>10</td>\n",
       "      <td>Animation,Comedy,Family</td>\n",
       "    </tr>\n",
       "    <tr>\n",
       "      <th>1071725</th>\n",
       "      <td>tt9916690</td>\n",
       "      <td>6.6</td>\n",
       "      <td>5</td>\n",
       "      <td>tvEpisode</td>\n",
       "      <td>Horrid Henry Delivers the Milk</td>\n",
       "      <td>Horrid Henry Delivers the Milk</td>\n",
       "      <td>0</td>\n",
       "      <td>2012</td>\n",
       "      <td>\\N</td>\n",
       "      <td>\\N</td>\n",
       "      <td>Animation,Comedy,Family</td>\n",
       "    </tr>\n",
       "    <tr>\n",
       "      <th>1071726</th>\n",
       "      <td>tt9916720</td>\n",
       "      <td>5.8</td>\n",
       "      <td>60</td>\n",
       "      <td>short</td>\n",
       "      <td>The Nun 2</td>\n",
       "      <td>The Nun 2</td>\n",
       "      <td>0</td>\n",
       "      <td>2019</td>\n",
       "      <td>\\N</td>\n",
       "      <td>10</td>\n",
       "      <td>Comedy,Horror,Mystery</td>\n",
       "    </tr>\n",
       "    <tr>\n",
       "      <th>1071727</th>\n",
       "      <td>tt9916766</td>\n",
       "      <td>6.9</td>\n",
       "      <td>14</td>\n",
       "      <td>tvEpisode</td>\n",
       "      <td>Episode #10.15</td>\n",
       "      <td>Episode #10.15</td>\n",
       "      <td>0</td>\n",
       "      <td>2019</td>\n",
       "      <td>\\N</td>\n",
       "      <td>43</td>\n",
       "      <td>Family,Reality-TV</td>\n",
       "    </tr>\n",
       "    <tr>\n",
       "      <th>1071728</th>\n",
       "      <td>tt9916778</td>\n",
       "      <td>7.3</td>\n",
       "      <td>24</td>\n",
       "      <td>tvEpisode</td>\n",
       "      <td>Escape</td>\n",
       "      <td>Escape</td>\n",
       "      <td>0</td>\n",
       "      <td>2019</td>\n",
       "      <td>\\N</td>\n",
       "      <td>\\N</td>\n",
       "      <td>Drama</td>\n",
       "    </tr>\n",
       "  </tbody>\n",
       "</table>\n",
       "<p>1071729 rows × 11 columns</p>\n",
       "</div>"
      ],
      "text/plain": [
       "            tconst  averageRating  numVotes  titleType  \\\n",
       "0        tt0000001            5.6      1646      short   \n",
       "1        tt0000002            6.1       198      short   \n",
       "2        tt0000003            6.5      1345      short   \n",
       "3        tt0000004            6.2       120      short   \n",
       "4        tt0000005            6.1      2131      short   \n",
       "...            ...            ...       ...        ...   \n",
       "1071724  tt9916580            7.2         5  tvEpisode   \n",
       "1071725  tt9916690            6.6         5  tvEpisode   \n",
       "1071726  tt9916720            5.8        60      short   \n",
       "1071727  tt9916766            6.9        14  tvEpisode   \n",
       "1071728  tt9916778            7.3        24  tvEpisode   \n",
       "\n",
       "                           primaryTitle                   originalTitle  \\\n",
       "0                            Carmencita                      Carmencita   \n",
       "1                Le clown et ses chiens          Le clown et ses chiens   \n",
       "2                        Pauvre Pierrot                  Pauvre Pierrot   \n",
       "3                           Un bon bock                     Un bon bock   \n",
       "4                      Blacksmith Scene                Blacksmith Scene   \n",
       "...                                 ...                             ...   \n",
       "1071724        Horrid Henry Horrid Boy?        Horrid Henry Horrid Boy?   \n",
       "1071725  Horrid Henry Delivers the Milk  Horrid Henry Delivers the Milk   \n",
       "1071726                       The Nun 2                       The Nun 2   \n",
       "1071727                  Episode #10.15                  Episode #10.15   \n",
       "1071728                          Escape                          Escape   \n",
       "\n",
       "         isAdult startYear endYear runtimeMinutes                    genres  \n",
       "0              0      1894      \\N              1         Documentary,Short  \n",
       "1              0      1892      \\N              5           Animation,Short  \n",
       "2              0      1892      \\N              4  Animation,Comedy,Romance  \n",
       "3              0      1892      \\N             12           Animation,Short  \n",
       "4              0      1893      \\N              1              Comedy,Short  \n",
       "...          ...       ...     ...            ...                       ...  \n",
       "1071724        0      2012      \\N             10   Animation,Comedy,Family  \n",
       "1071725        0      2012      \\N             \\N   Animation,Comedy,Family  \n",
       "1071726        0      2019      \\N             10     Comedy,Horror,Mystery  \n",
       "1071727        0      2019      \\N             43         Family,Reality-TV  \n",
       "1071728        0      2019      \\N             \\N                     Drama  \n",
       "\n",
       "[1071729 rows x 11 columns]"
      ]
     },
     "execution_count": 30,
     "metadata": {},
     "output_type": "execute_result"
    }
   ],
   "source": [
    "imdb_info = pd.merge(ratings, titles, on = 'tconst')\n",
    "imdb_info"
   ]
  },
  {
   "cell_type": "markdown",
   "metadata": {},
   "source": [
    "It is an `inner join` since we keep only matching rows in column `tconst` in both tables. The reason why I choose the `inner join` method lies in that the data in selected rows are aviliable for both tables. As a result, we will get a complete tables without missin infomations, which is convenient for the future operations."
   ]
  },
  {
   "cell_type": "markdown",
   "metadata": {
    "colab_type": "text",
    "id": "_9mVmVanTFsi"
   },
   "source": [
    "<font color='red'>To-do:</font> In a markdown cell, explain the difference between an inner join, outer join, right join, and left join."
   ]
  },
  {
   "cell_type": "markdown",
   "metadata": {},
   "source": [
    "The difference between four kinds of join are:\n",
    "+ `inner join`: returns rows when there is a match in both tables.\n",
    "+ `left join`: returns all rows from the left table, even if there are no matches in the right table.\n",
    "+ `right join`: returns all rows from the right table, even if there are no matches in the left table.\n",
    "+ `outer join`: aka `full join` or `full outer join`, combines the results of both left and right outer joins.\n",
    "\n",
    "(Ref: https://stackoverflow.com/questions/5706437/whats-the-difference-between-inner-join-left-join-right-join-and-full-join)"
   ]
  },
  {
   "cell_type": "markdown",
   "metadata": {
    "colab_type": "text",
    "id": "iX4_9PsjR6xq"
   },
   "source": [
    "<font color='red'>To-do:</font> What is the difference between pd.concat and pd.merge?"
   ]
  },
  {
   "cell_type": "markdown",
   "metadata": {},
   "source": [
    "The major difference is that `pd.concat` is used to append one or more dataframes while `pd.merge` is used for combining two dataframes according to the common columns. "
   ]
  },
  {
   "cell_type": "markdown",
   "metadata": {
    "colab_type": "text",
    "id": "Lsm9e-H2nWyh"
   },
   "source": [
    "# Exploding, manipulation and grouping practice, YAY!"
   ]
  },
  {
   "cell_type": "markdown",
   "metadata": {
    "colab_type": "text",
    "id": "SaWUa4fSneeu"
   },
   "source": [
    "Let's look at the genres in our imdb_info df. Use explode function to create a row per genre, title pair. (Similar to Q14 in HW1). There also appears to be '\\N' tacked onto each of the cells. Let's also get rid of that. "
   ]
  },
  {
   "cell_type": "code",
   "execution_count": 73,
   "metadata": {
    "colab": {
     "base_uri": "https://localhost:8080/",
     "height": 409
    },
    "colab_type": "code",
    "executionInfo": {
     "elapsed": 3188,
     "status": "error",
     "timestamp": 1599761694272,
     "user": {
      "displayName": "Kevin Lee",
      "photoUrl": "https://lh3.googleusercontent.com/a-/AOh14Gi-Bzlj5PkYle1VXcuH3tD0oB_eYMp8TFinoIcH=s64",
      "userId": "17607607416881687332"
     },
     "user_tz": 240
    },
    "id": "xHh9YdlBnd-4",
    "outputId": "2ea860a6-cbfa-4b20-e266-9ea2e759efe6"
   },
   "outputs": [],
   "source": [
    "imdb_info.genres = imdb_info.genres.str.extract(r'([a-zA-Z,]*)')\n",
    "imdb_info.loc[:,\"genre_list\"] = imdb_info.apply(lambda x: str(x[\"genres\"]).split(\",\"),axis=1)\n",
    "df_genre = imdb_info.explode(\"genre_list\")\n",
    "df_genre.rename(columns={'genre_list':'genre'}, inplace=True)"
   ]
  },
  {
   "cell_type": "code",
   "execution_count": 74,
   "metadata": {},
   "outputs": [
    {
     "data": {
      "text/html": [
       "<div>\n",
       "<style scoped>\n",
       "    .dataframe tbody tr th:only-of-type {\n",
       "        vertical-align: middle;\n",
       "    }\n",
       "\n",
       "    .dataframe tbody tr th {\n",
       "        vertical-align: top;\n",
       "    }\n",
       "\n",
       "    .dataframe thead th {\n",
       "        text-align: right;\n",
       "    }\n",
       "</style>\n",
       "<table border=\"1\" class=\"dataframe\">\n",
       "  <thead>\n",
       "    <tr style=\"text-align: right;\">\n",
       "      <th></th>\n",
       "      <th>tconst</th>\n",
       "      <th>averageRating</th>\n",
       "      <th>numVotes</th>\n",
       "      <th>titleType</th>\n",
       "      <th>primaryTitle</th>\n",
       "      <th>originalTitle</th>\n",
       "      <th>isAdult</th>\n",
       "      <th>startYear</th>\n",
       "      <th>endYear</th>\n",
       "      <th>runtimeMinutes</th>\n",
       "      <th>genres</th>\n",
       "      <th>genre_list</th>\n",
       "    </tr>\n",
       "  </thead>\n",
       "  <tbody>\n",
       "    <tr>\n",
       "      <th>0</th>\n",
       "      <td>tt0000001</td>\n",
       "      <td>5.6</td>\n",
       "      <td>1646</td>\n",
       "      <td>short</td>\n",
       "      <td>Carmencita</td>\n",
       "      <td>Carmencita</td>\n",
       "      <td>0</td>\n",
       "      <td>1894</td>\n",
       "      <td>\\N</td>\n",
       "      <td>1</td>\n",
       "      <td>Documentary,Short</td>\n",
       "      <td>[Documentary, Short]</td>\n",
       "    </tr>\n",
       "    <tr>\n",
       "      <th>1</th>\n",
       "      <td>tt0000002</td>\n",
       "      <td>6.1</td>\n",
       "      <td>198</td>\n",
       "      <td>short</td>\n",
       "      <td>Le clown et ses chiens</td>\n",
       "      <td>Le clown et ses chiens</td>\n",
       "      <td>0</td>\n",
       "      <td>1892</td>\n",
       "      <td>\\N</td>\n",
       "      <td>5</td>\n",
       "      <td>Animation,Short</td>\n",
       "      <td>[Animation, Short]</td>\n",
       "    </tr>\n",
       "    <tr>\n",
       "      <th>2</th>\n",
       "      <td>tt0000003</td>\n",
       "      <td>6.5</td>\n",
       "      <td>1345</td>\n",
       "      <td>short</td>\n",
       "      <td>Pauvre Pierrot</td>\n",
       "      <td>Pauvre Pierrot</td>\n",
       "      <td>0</td>\n",
       "      <td>1892</td>\n",
       "      <td>\\N</td>\n",
       "      <td>4</td>\n",
       "      <td>Animation,Comedy,Romance</td>\n",
       "      <td>[Animation, Comedy, Romance]</td>\n",
       "    </tr>\n",
       "    <tr>\n",
       "      <th>3</th>\n",
       "      <td>tt0000004</td>\n",
       "      <td>6.2</td>\n",
       "      <td>120</td>\n",
       "      <td>short</td>\n",
       "      <td>Un bon bock</td>\n",
       "      <td>Un bon bock</td>\n",
       "      <td>0</td>\n",
       "      <td>1892</td>\n",
       "      <td>\\N</td>\n",
       "      <td>12</td>\n",
       "      <td>Animation,Short</td>\n",
       "      <td>[Animation, Short]</td>\n",
       "    </tr>\n",
       "    <tr>\n",
       "      <th>4</th>\n",
       "      <td>tt0000005</td>\n",
       "      <td>6.1</td>\n",
       "      <td>2131</td>\n",
       "      <td>short</td>\n",
       "      <td>Blacksmith Scene</td>\n",
       "      <td>Blacksmith Scene</td>\n",
       "      <td>0</td>\n",
       "      <td>1893</td>\n",
       "      <td>\\N</td>\n",
       "      <td>1</td>\n",
       "      <td>Comedy,Short</td>\n",
       "      <td>[Comedy, Short]</td>\n",
       "    </tr>\n",
       "  </tbody>\n",
       "</table>\n",
       "</div>"
      ],
      "text/plain": [
       "      tconst  averageRating  numVotes titleType            primaryTitle  \\\n",
       "0  tt0000001            5.6      1646     short              Carmencita   \n",
       "1  tt0000002            6.1       198     short  Le clown et ses chiens   \n",
       "2  tt0000003            6.5      1345     short          Pauvre Pierrot   \n",
       "3  tt0000004            6.2       120     short             Un bon bock   \n",
       "4  tt0000005            6.1      2131     short        Blacksmith Scene   \n",
       "\n",
       "            originalTitle  isAdult startYear endYear runtimeMinutes  \\\n",
       "0              Carmencita        0      1894      \\N              1   \n",
       "1  Le clown et ses chiens        0      1892      \\N              5   \n",
       "2          Pauvre Pierrot        0      1892      \\N              4   \n",
       "3             Un bon bock        0      1892      \\N             12   \n",
       "4        Blacksmith Scene        0      1893      \\N              1   \n",
       "\n",
       "                     genres                    genre_list  \n",
       "0         Documentary,Short          [Documentary, Short]  \n",
       "1           Animation,Short            [Animation, Short]  \n",
       "2  Animation,Comedy,Romance  [Animation, Comedy, Romance]  \n",
       "3           Animation,Short            [Animation, Short]  \n",
       "4              Comedy,Short               [Comedy, Short]  "
      ]
     },
     "execution_count": 74,
     "metadata": {},
     "output_type": "execute_result"
    }
   ],
   "source": [
    "imdb_info.head()"
   ]
  },
  {
   "cell_type": "markdown",
   "metadata": {
    "colab_type": "text",
    "id": "tPQyN-vW8F9G"
   },
   "source": [
    "Looking at runtimeMinutes, we see that its type is object."
   ]
  },
  {
   "cell_type": "code",
   "execution_count": 75,
   "metadata": {
    "colab": {
     "base_uri": "https://localhost:8080/",
     "height": 119
    },
    "colab_type": "code",
    "executionInfo": {
     "elapsed": 267,
     "status": "ok",
     "timestamp": 1599761696758,
     "user": {
      "displayName": "Kevin Lee",
      "photoUrl": "https://lh3.googleusercontent.com/a-/AOh14Gi-Bzlj5PkYle1VXcuH3tD0oB_eYMp8TFinoIcH=s64",
      "userId": "17607607416881687332"
     },
     "user_tz": 240
    },
    "id": "cpsIQYDx8B2s",
    "outputId": "4116e414-b911-462e-a994-67b332e3882f"
   },
   "outputs": [
    {
     "data": {
      "text/plain": [
       "0           1\n",
       "0           1\n",
       "1           5\n",
       "1           5\n",
       "2           4\n",
       "           ..\n",
       "1071726    10\n",
       "1071726    10\n",
       "1071727    43\n",
       "1071727    43\n",
       "1071728    \\N\n",
       "Name: runtimeMinutes, Length: 2075472, dtype: object"
      ]
     },
     "execution_count": 75,
     "metadata": {},
     "output_type": "execute_result"
    }
   ],
   "source": [
    "df_genre['runtimeMinutes']"
   ]
  },
  {
   "cell_type": "markdown",
   "metadata": {
    "colab_type": "text",
    "id": "RPpK42-F9_mX"
   },
   "source": [
    "We want to fix the data up a bit more. There appears to be '\\\\N' tacked onto the end of runtimeMinutes. Let's just grab the number in each of the cells by using some regex"
   ]
  },
  {
   "cell_type": "markdown",
   "metadata": {
    "colab_type": "text",
    "id": "uS86YNg6GRtQ"
   },
   "source": [
    "<font color='red'>To-do:</font> Extract the numeric values from the runtimeMinutes column. (HINT: use .str.extract())"
   ]
  },
  {
   "cell_type": "code",
   "execution_count": 84,
   "metadata": {},
   "outputs": [
    {
     "data": {
      "text/plain": [
       "0            1\n",
       "0            1\n",
       "1            5\n",
       "1            5\n",
       "2            4\n",
       "          ... \n",
       "1071726     10\n",
       "1071726     10\n",
       "1071727     43\n",
       "1071727     43\n",
       "1071728    NaN\n",
       "Name: runtimeMinutes, Length: 2075472, dtype: object"
      ]
     },
     "execution_count": 84,
     "metadata": {},
     "output_type": "execute_result"
    }
   ],
   "source": [
    "df_genre[\"runtimeMinutes\"] = df_genre[\"runtimeMinutes\"].str.extract('(\\d+)')\n",
    "df_genre[\"runtimeMinutes\"]\n",
    "# df_genre = df_genre.assign(runtimeMinutes = lambda x: x[\"runtimeMinutes\"].str.extract('(\\d+)'))\n",
    "# df_genre[\"runtimeMinutes\"]"
   ]
  },
  {
   "cell_type": "markdown",
   "metadata": {
    "colab_type": "text",
    "id": "hhmdqtW28480"
   },
   "source": [
    "<font color='red'>To-do:</font> Change the object dtype of runtimeMinutes to float."
   ]
  },
  {
   "cell_type": "code",
   "execution_count": 85,
   "metadata": {},
   "outputs": [
    {
     "data": {
      "text/plain": [
       "0           1.0\n",
       "0           1.0\n",
       "1           5.0\n",
       "1           5.0\n",
       "2           4.0\n",
       "           ... \n",
       "1071726    10.0\n",
       "1071726    10.0\n",
       "1071727    43.0\n",
       "1071727    43.0\n",
       "1071728     NaN\n",
       "Name: runtimeMinutes, Length: 2075472, dtype: float64"
      ]
     },
     "execution_count": 85,
     "metadata": {},
     "output_type": "execute_result"
    }
   ],
   "source": [
    "df_genre[\"runtimeMinutes\"] = df_genre[\"runtimeMinutes\"].str.extract('(\\d+)').astype(float)\n",
    "df_genre[\"runtimeMinutes\"]"
   ]
  },
  {
   "cell_type": "markdown",
   "metadata": {
    "colab_type": "text",
    "id": "QKIUGva8EuCe"
   },
   "source": [
    "Let's practice using some groupby on the dataset. Let's look at the df by grouping by the average rating"
   ]
  },
  {
   "cell_type": "code",
   "execution_count": 86,
   "metadata": {
    "colab": {
     "base_uri": "https://localhost:8080/",
     "height": 450
    },
    "colab_type": "code",
    "executionInfo": {
     "elapsed": 666,
     "status": "ok",
     "timestamp": 1599761710694,
     "user": {
      "displayName": "Kevin Lee",
      "photoUrl": "https://lh3.googleusercontent.com/a-/AOh14Gi-Bzlj5PkYle1VXcuH3tD0oB_eYMp8TFinoIcH=s64",
      "userId": "17607607416881687332"
     },
     "user_tz": 240
    },
    "id": "GiO2RRyLEzYo",
    "outputId": "0ad9a335-5d8d-427b-ec66-66e22cf183d7"
   },
   "outputs": [
    {
     "data": {
      "text/html": [
       "<div>\n",
       "<style scoped>\n",
       "    .dataframe tbody tr th:only-of-type {\n",
       "        vertical-align: middle;\n",
       "    }\n",
       "\n",
       "    .dataframe tbody tr th {\n",
       "        vertical-align: top;\n",
       "    }\n",
       "\n",
       "    .dataframe thead th {\n",
       "        text-align: right;\n",
       "    }\n",
       "</style>\n",
       "<table border=\"1\" class=\"dataframe\">\n",
       "  <thead>\n",
       "    <tr style=\"text-align: right;\">\n",
       "      <th></th>\n",
       "      <th>numVotes</th>\n",
       "      <th>isAdult</th>\n",
       "      <th>runtimeMinutes</th>\n",
       "    </tr>\n",
       "    <tr>\n",
       "      <th>averageRating</th>\n",
       "      <th></th>\n",
       "      <th></th>\n",
       "      <th></th>\n",
       "    </tr>\n",
       "  </thead>\n",
       "  <tbody>\n",
       "    <tr>\n",
       "      <th>1.0</th>\n",
       "      <td>208524</td>\n",
       "      <td>4</td>\n",
       "      <td>26444.0</td>\n",
       "    </tr>\n",
       "    <tr>\n",
       "      <th>1.1</th>\n",
       "      <td>34632</td>\n",
       "      <td>9</td>\n",
       "      <td>11054.0</td>\n",
       "    </tr>\n",
       "    <tr>\n",
       "      <th>1.2</th>\n",
       "      <td>37745</td>\n",
       "      <td>9</td>\n",
       "      <td>14083.0</td>\n",
       "    </tr>\n",
       "    <tr>\n",
       "      <th>1.3</th>\n",
       "      <td>133439</td>\n",
       "      <td>9</td>\n",
       "      <td>15836.0</td>\n",
       "    </tr>\n",
       "    <tr>\n",
       "      <th>1.4</th>\n",
       "      <td>250526</td>\n",
       "      <td>3</td>\n",
       "      <td>17615.0</td>\n",
       "    </tr>\n",
       "    <tr>\n",
       "      <th>...</th>\n",
       "      <td>...</td>\n",
       "      <td>...</td>\n",
       "      <td>...</td>\n",
       "    </tr>\n",
       "    <tr>\n",
       "      <th>9.6</th>\n",
       "      <td>2590258</td>\n",
       "      <td>44</td>\n",
       "      <td>82023.0</td>\n",
       "    </tr>\n",
       "    <tr>\n",
       "      <th>9.7</th>\n",
       "      <td>2603109</td>\n",
       "      <td>17</td>\n",
       "      <td>43255.0</td>\n",
       "    </tr>\n",
       "    <tr>\n",
       "      <th>9.8</th>\n",
       "      <td>1293387</td>\n",
       "      <td>35</td>\n",
       "      <td>40721.0</td>\n",
       "    </tr>\n",
       "    <tr>\n",
       "      <th>9.9</th>\n",
       "      <td>2526855</td>\n",
       "      <td>11</td>\n",
       "      <td>14948.0</td>\n",
       "    </tr>\n",
       "    <tr>\n",
       "      <th>10.0</th>\n",
       "      <td>403865</td>\n",
       "      <td>40</td>\n",
       "      <td>21242.0</td>\n",
       "    </tr>\n",
       "  </tbody>\n",
       "</table>\n",
       "<p>91 rows × 3 columns</p>\n",
       "</div>"
      ],
      "text/plain": [
       "               numVotes  isAdult  runtimeMinutes\n",
       "averageRating                                   \n",
       "1.0              208524        4         26444.0\n",
       "1.1               34632        9         11054.0\n",
       "1.2               37745        9         14083.0\n",
       "1.3              133439        9         15836.0\n",
       "1.4              250526        3         17615.0\n",
       "...                 ...      ...             ...\n",
       "9.6             2590258       44         82023.0\n",
       "9.7             2603109       17         43255.0\n",
       "9.8             1293387       35         40721.0\n",
       "9.9             2526855       11         14948.0\n",
       "10.0             403865       40         21242.0\n",
       "\n",
       "[91 rows x 3 columns]"
      ]
     },
     "execution_count": 86,
     "metadata": {},
     "output_type": "execute_result"
    }
   ],
   "source": [
    "df_genre.groupby('averageRating').sum()"
   ]
  },
  {
   "cell_type": "markdown",
   "metadata": {
    "colab_type": "text",
    "id": "UttGyKpX7VIe"
   },
   "source": [
    "<font color='red'>To-do:</font> Find the average number of votes for averageRating for each genre. Find the first quartile."
   ]
  },
  {
   "cell_type": "code",
   "execution_count": 98,
   "metadata": {},
   "outputs": [
    {
     "name": "stdout",
     "output_type": "stream",
     "text": [
      "The average number of votes for each averageRating and each genre: \n",
      " averageRating  genre    \n",
      "1.0                           21.318182\n",
      "               Action        873.742424\n",
      "               Adult           7.666667\n",
      "               Adventure      10.389222\n",
      "               Animation       6.783133\n",
      "                               ...     \n",
      "10.0           Short           9.912548\n",
      "               Sport          10.793103\n",
      "               Talk           14.391509\n",
      "               Thriller     3993.833333\n",
      "               War            61.500000\n",
      "Name: numVotes, Length: 2579, dtype: float64\n",
      "--------------------------------------------------------------------------------------------\n",
      "The first quantile of votes for each averageRating and each genre: \n",
      " averageRating  genre    \n",
      "1.0                          8.25\n",
      "               Action        7.00\n",
      "               Adult         6.50\n",
      "               Adventure     6.00\n",
      "               Animation     6.00\n",
      "                            ...  \n",
      "10.0           Short         5.00\n",
      "               Sport         7.25\n",
      "               Talk          6.75\n",
      "               Thriller      5.00\n",
      "               War          34.75\n",
      "Name: numVotes, Length: 2579, dtype: float64\n"
     ]
    }
   ],
   "source": [
    "avgNumVotes_avgRate_genre = df_genre.groupby([\"averageRating\", \"genre\"]).mean()[\"numVotes\"]\n",
    "qNumVotes_avgRate_genre = df_genre.groupby([\"averageRating\", \"genre\"]).quantile(q = 0.25)[\"numVotes\"]\n",
    "\n",
    "print(\"The average number of votes for each averageRating and each genre: \\n\", avgNumVotes_avgRate_genre)\n",
    "print(\"--------------------------------------------------------------------------------------------\")\n",
    "print(\"The first quantile of votes for each averageRating and each genre: \\n\", qNumVotes_avgRate_genre)"
   ]
  },
  {
   "cell_type": "markdown",
   "metadata": {
    "colab_type": "text",
    "id": "T8ZHXqh978Sx"
   },
   "source": [
    "<font color='red'>To-do:</font> What is the total number of votes for each genre, for each start year? (hint - use groupby)"
   ]
  },
  {
   "cell_type": "code",
   "execution_count": 99,
   "metadata": {},
   "outputs": [
    {
     "name": "stdout",
     "output_type": "stream",
     "text": [
      "The total number of votes for each genre and each startYear: \n",
      " startYear  genre    \n",
      "1892       Animation    1663\n",
      "           Comedy       1345\n",
      "           Romance      1345\n",
      "           Short         318\n",
      "1893       Comedy       2131\n",
      "                        ... \n",
      "\\N         Short         179\n",
      "           Sport         100\n",
      "           Talk           37\n",
      "           Thriller      725\n",
      "           nan            10\n",
      "Name: numVotes, Length: 4903, dtype: int64\n"
     ]
    }
   ],
   "source": [
    "totNumVotes_startYear_genre = df_genre.groupby([\"startYear\", \"genre\"]).sum()[\"numVotes\"]\n",
    "print(\"The total number of votes for each genre and each startYear: \\n\", totNumVotes_startYear_genre)"
   ]
  },
  {
   "cell_type": "markdown",
   "metadata": {},
   "source": [
    "# Analysis on Child Opportunity Index"
   ]
  },
  {
   "cell_type": "markdown",
   "metadata": {},
   "source": [
    "Now let's analyse the child opportunity dataset from the lecture with the tools we've learnt today. But, first let's load the Child Opportunity Index json file from the lecture. Column descriptions can be found at this [link](https://data.diversitydatakids.org/dataset/coi20-child-opportunity-index-2-0-database/resource/f16fff12-b1e5-4f60-85d3-3a0ededa30a0)"
   ]
  },
  {
   "cell_type": "code",
   "execution_count": 100,
   "metadata": {},
   "outputs": [],
   "source": [
    "opportunity = pd.read_json('raw.json')"
   ]
  },
  {
   "cell_type": "markdown",
   "metadata": {},
   "source": [
    "<font color='red'>To-do:</font>  Create a dataframe that shows the min, average and maximum median household income in census tracts that belong to a top 100 metropolitan area and those that don't (hint: use groupby and apply to do this)"
   ]
  },
  {
   "cell_type": "code",
   "execution_count": 101,
   "metadata": {},
   "outputs": [
    {
     "data": {
      "text/html": [
       "<div>\n",
       "<style scoped>\n",
       "    .dataframe tbody tr th:only-of-type {\n",
       "        vertical-align: middle;\n",
       "    }\n",
       "\n",
       "    .dataframe tbody tr th {\n",
       "        vertical-align: top;\n",
       "    }\n",
       "\n",
       "    .dataframe thead th {\n",
       "        text-align: right;\n",
       "    }\n",
       "</style>\n",
       "<table border=\"1\" class=\"dataframe\">\n",
       "  <thead>\n",
       "    <tr style=\"text-align: right;\">\n",
       "      <th></th>\n",
       "      <th>geoid</th>\n",
       "      <th>year</th>\n",
       "      <th>in100</th>\n",
       "      <th>msaid15</th>\n",
       "      <th>msaname15</th>\n",
       "      <th>countyfips</th>\n",
       "      <th>statefips</th>\n",
       "      <th>stateusps</th>\n",
       "      <th>pop</th>\n",
       "      <th>ED_APENR</th>\n",
       "      <th>...</th>\n",
       "      <th>HE_SUPRFND</th>\n",
       "      <th>HE_RSEI</th>\n",
       "      <th>SE_POVRATE</th>\n",
       "      <th>SE_PUBLIC</th>\n",
       "      <th>SE_HOME</th>\n",
       "      <th>SE_OCC</th>\n",
       "      <th>SE_MHE</th>\n",
       "      <th>SE_EMPRAT</th>\n",
       "      <th>SE_JOBPROX</th>\n",
       "      <th>SE_SINGLE</th>\n",
       "    </tr>\n",
       "  </thead>\n",
       "  <tbody>\n",
       "    <tr>\n",
       "      <th>0</th>\n",
       "      <td>1001020100</td>\n",
       "      <td>2010</td>\n",
       "      <td>0.0</td>\n",
       "      <td>33860.0</td>\n",
       "      <td>Montgomery, AL Metro Area</td>\n",
       "      <td>1001</td>\n",
       "      <td>1</td>\n",
       "      <td>AL</td>\n",
       "      <td>424</td>\n",
       "      <td>0.349463</td>\n",
       "      <td>...</td>\n",
       "      <td>-13.815511</td>\n",
       "      <td>5.933720</td>\n",
       "      <td>9.240363</td>\n",
       "      <td>14.398734</td>\n",
       "      <td>84.335442</td>\n",
       "      <td>27.972027</td>\n",
       "      <td>60321.0</td>\n",
       "      <td>68.187744</td>\n",
       "      <td>5.224787</td>\n",
       "      <td>17.256638</td>\n",
       "    </tr>\n",
       "    <tr>\n",
       "      <th>1</th>\n",
       "      <td>1001020100</td>\n",
       "      <td>2015</td>\n",
       "      <td>0.0</td>\n",
       "      <td>33860.0</td>\n",
       "      <td>Montgomery, AL Metro Area</td>\n",
       "      <td>1001</td>\n",
       "      <td>1</td>\n",
       "      <td>AL</td>\n",
       "      <td>414</td>\n",
       "      <td>0.252991</td>\n",
       "      <td>...</td>\n",
       "      <td>-13.815511</td>\n",
       "      <td>7.015026</td>\n",
       "      <td>10.677506</td>\n",
       "      <td>12.068965</td>\n",
       "      <td>75.198936</td>\n",
       "      <td>38.479000</td>\n",
       "      <td>67826.0</td>\n",
       "      <td>82.987556</td>\n",
       "      <td>1.052632</td>\n",
       "      <td>26.556019</td>\n",
       "    </tr>\n",
       "    <tr>\n",
       "      <th>2</th>\n",
       "      <td>1001020200</td>\n",
       "      <td>2010</td>\n",
       "      <td>0.0</td>\n",
       "      <td>33860.0</td>\n",
       "      <td>Montgomery, AL Metro Area</td>\n",
       "      <td>1001</td>\n",
       "      <td>1</td>\n",
       "      <td>AL</td>\n",
       "      <td>497</td>\n",
       "      <td>0.350239</td>\n",
       "      <td>...</td>\n",
       "      <td>-13.815511</td>\n",
       "      <td>6.083863</td>\n",
       "      <td>10.511090</td>\n",
       "      <td>13.028169</td>\n",
       "      <td>58.568073</td>\n",
       "      <td>40.000000</td>\n",
       "      <td>44039.0</td>\n",
       "      <td>59.521217</td>\n",
       "      <td>1.727862</td>\n",
       "      <td>48.818897</td>\n",
       "    </tr>\n",
       "    <tr>\n",
       "      <th>3</th>\n",
       "      <td>1001020200</td>\n",
       "      <td>2015</td>\n",
       "      <td>0.0</td>\n",
       "      <td>33860.0</td>\n",
       "      <td>Montgomery, AL Metro Area</td>\n",
       "      <td>1001</td>\n",
       "      <td>1</td>\n",
       "      <td>AL</td>\n",
       "      <td>508</td>\n",
       "      <td>0.253207</td>\n",
       "      <td>...</td>\n",
       "      <td>-13.815511</td>\n",
       "      <td>7.306938</td>\n",
       "      <td>22.413794</td>\n",
       "      <td>24.137930</td>\n",
       "      <td>61.941254</td>\n",
       "      <td>30.516430</td>\n",
       "      <td>41287.0</td>\n",
       "      <td>60.339661</td>\n",
       "      <td>0.931315</td>\n",
       "      <td>47.470818</td>\n",
       "    </tr>\n",
       "    <tr>\n",
       "      <th>4</th>\n",
       "      <td>1001020300</td>\n",
       "      <td>2010</td>\n",
       "      <td>0.0</td>\n",
       "      <td>33860.0</td>\n",
       "      <td>Montgomery, AL Metro Area</td>\n",
       "      <td>1001</td>\n",
       "      <td>1</td>\n",
       "      <td>AL</td>\n",
       "      <td>878</td>\n",
       "      <td>0.349768</td>\n",
       "      <td>...</td>\n",
       "      <td>-13.815511</td>\n",
       "      <td>6.162114</td>\n",
       "      <td>11.823454</td>\n",
       "      <td>9.035088</td>\n",
       "      <td>76.315788</td>\n",
       "      <td>31.036932</td>\n",
       "      <td>46002.0</td>\n",
       "      <td>82.875099</td>\n",
       "      <td>1.788375</td>\n",
       "      <td>31.969309</td>\n",
       "    </tr>\n",
       "    <tr>\n",
       "      <th>...</th>\n",
       "      <td>...</td>\n",
       "      <td>...</td>\n",
       "      <td>...</td>\n",
       "      <td>...</td>\n",
       "      <td>...</td>\n",
       "      <td>...</td>\n",
       "      <td>...</td>\n",
       "      <td>...</td>\n",
       "      <td>...</td>\n",
       "      <td>...</td>\n",
       "      <td>...</td>\n",
       "      <td>...</td>\n",
       "      <td>...</td>\n",
       "      <td>...</td>\n",
       "      <td>...</td>\n",
       "      <td>...</td>\n",
       "      <td>...</td>\n",
       "      <td>...</td>\n",
       "      <td>...</td>\n",
       "      <td>...</td>\n",
       "      <td>...</td>\n",
       "    </tr>\n",
       "    <tr>\n",
       "      <th>146107</th>\n",
       "      <td>56043000302</td>\n",
       "      <td>2015</td>\n",
       "      <td>NaN</td>\n",
       "      <td>NaN</td>\n",
       "      <td>None</td>\n",
       "      <td>56043</td>\n",
       "      <td>56</td>\n",
       "      <td>WY</td>\n",
       "      <td>706</td>\n",
       "      <td>0.221675</td>\n",
       "      <td>...</td>\n",
       "      <td>-13.815511</td>\n",
       "      <td>5.326058</td>\n",
       "      <td>14.899487</td>\n",
       "      <td>8.024072</td>\n",
       "      <td>76.028084</td>\n",
       "      <td>32.825882</td>\n",
       "      <td>52214.0</td>\n",
       "      <td>70.059875</td>\n",
       "      <td>7.700206</td>\n",
       "      <td>12.012987</td>\n",
       "    </tr>\n",
       "    <tr>\n",
       "      <th>146108</th>\n",
       "      <td>56045951100</td>\n",
       "      <td>2010</td>\n",
       "      <td>NaN</td>\n",
       "      <td>NaN</td>\n",
       "      <td>None</td>\n",
       "      <td>56045</td>\n",
       "      <td>56</td>\n",
       "      <td>WY</td>\n",
       "      <td>638</td>\n",
       "      <td>0.000000</td>\n",
       "      <td>...</td>\n",
       "      <td>-13.815511</td>\n",
       "      <td>1.225840</td>\n",
       "      <td>10.197711</td>\n",
       "      <td>3.453947</td>\n",
       "      <td>80.838814</td>\n",
       "      <td>26.534653</td>\n",
       "      <td>68768.0</td>\n",
       "      <td>70.643524</td>\n",
       "      <td>31.721613</td>\n",
       "      <td>25.000000</td>\n",
       "    </tr>\n",
       "    <tr>\n",
       "      <th>146109</th>\n",
       "      <td>56045951100</td>\n",
       "      <td>2015</td>\n",
       "      <td>NaN</td>\n",
       "      <td>NaN</td>\n",
       "      <td>None</td>\n",
       "      <td>56045</td>\n",
       "      <td>56</td>\n",
       "      <td>WY</td>\n",
       "      <td>577</td>\n",
       "      <td>0.192535</td>\n",
       "      <td>...</td>\n",
       "      <td>-13.815511</td>\n",
       "      <td>0.469633</td>\n",
       "      <td>12.532808</td>\n",
       "      <td>4.201102</td>\n",
       "      <td>78.925621</td>\n",
       "      <td>32.217308</td>\n",
       "      <td>62435.0</td>\n",
       "      <td>73.387695</td>\n",
       "      <td>23.780487</td>\n",
       "      <td>33.514984</td>\n",
       "    </tr>\n",
       "    <tr>\n",
       "      <th>146110</th>\n",
       "      <td>56045951300</td>\n",
       "      <td>2010</td>\n",
       "      <td>NaN</td>\n",
       "      <td>NaN</td>\n",
       "      <td>None</td>\n",
       "      <td>56045</td>\n",
       "      <td>56</td>\n",
       "      <td>WY</td>\n",
       "      <td>954</td>\n",
       "      <td>0.000000</td>\n",
       "      <td>...</td>\n",
       "      <td>-13.815511</td>\n",
       "      <td>4.060935</td>\n",
       "      <td>16.489092</td>\n",
       "      <td>5.855339</td>\n",
       "      <td>77.324913</td>\n",
       "      <td>25.696268</td>\n",
       "      <td>50070.0</td>\n",
       "      <td>84.599152</td>\n",
       "      <td>17.847338</td>\n",
       "      <td>35.205181</td>\n",
       "    </tr>\n",
       "    <tr>\n",
       "      <th>146111</th>\n",
       "      <td>56045951300</td>\n",
       "      <td>2015</td>\n",
       "      <td>NaN</td>\n",
       "      <td>NaN</td>\n",
       "      <td>None</td>\n",
       "      <td>56045</td>\n",
       "      <td>56</td>\n",
       "      <td>WY</td>\n",
       "      <td>922</td>\n",
       "      <td>0.000000</td>\n",
       "      <td>...</td>\n",
       "      <td>-13.815511</td>\n",
       "      <td>3.086356</td>\n",
       "      <td>15.929919</td>\n",
       "      <td>8.381503</td>\n",
       "      <td>74.624275</td>\n",
       "      <td>31.743422</td>\n",
       "      <td>54074.0</td>\n",
       "      <td>82.461784</td>\n",
       "      <td>17.639902</td>\n",
       "      <td>33.479214</td>\n",
       "    </tr>\n",
       "  </tbody>\n",
       "</table>\n",
       "<p>146112 rows × 38 columns</p>\n",
       "</div>"
      ],
      "text/plain": [
       "              geoid  year  in100  msaid15                  msaname15  \\\n",
       "0        1001020100  2010    0.0  33860.0  Montgomery, AL Metro Area   \n",
       "1        1001020100  2015    0.0  33860.0  Montgomery, AL Metro Area   \n",
       "2        1001020200  2010    0.0  33860.0  Montgomery, AL Metro Area   \n",
       "3        1001020200  2015    0.0  33860.0  Montgomery, AL Metro Area   \n",
       "4        1001020300  2010    0.0  33860.0  Montgomery, AL Metro Area   \n",
       "...             ...   ...    ...      ...                        ...   \n",
       "146107  56043000302  2015    NaN      NaN                       None   \n",
       "146108  56045951100  2010    NaN      NaN                       None   \n",
       "146109  56045951100  2015    NaN      NaN                       None   \n",
       "146110  56045951300  2010    NaN      NaN                       None   \n",
       "146111  56045951300  2015    NaN      NaN                       None   \n",
       "\n",
       "        countyfips  statefips stateusps  pop  ED_APENR  ...  HE_SUPRFND  \\\n",
       "0             1001          1        AL  424  0.349463  ...  -13.815511   \n",
       "1             1001          1        AL  414  0.252991  ...  -13.815511   \n",
       "2             1001          1        AL  497  0.350239  ...  -13.815511   \n",
       "3             1001          1        AL  508  0.253207  ...  -13.815511   \n",
       "4             1001          1        AL  878  0.349768  ...  -13.815511   \n",
       "...            ...        ...       ...  ...       ...  ...         ...   \n",
       "146107       56043         56        WY  706  0.221675  ...  -13.815511   \n",
       "146108       56045         56        WY  638  0.000000  ...  -13.815511   \n",
       "146109       56045         56        WY  577  0.192535  ...  -13.815511   \n",
       "146110       56045         56        WY  954  0.000000  ...  -13.815511   \n",
       "146111       56045         56        WY  922  0.000000  ...  -13.815511   \n",
       "\n",
       "         HE_RSEI  SE_POVRATE  SE_PUBLIC    SE_HOME     SE_OCC   SE_MHE  \\\n",
       "0       5.933720    9.240363  14.398734  84.335442  27.972027  60321.0   \n",
       "1       7.015026   10.677506  12.068965  75.198936  38.479000  67826.0   \n",
       "2       6.083863   10.511090  13.028169  58.568073  40.000000  44039.0   \n",
       "3       7.306938   22.413794  24.137930  61.941254  30.516430  41287.0   \n",
       "4       6.162114   11.823454   9.035088  76.315788  31.036932  46002.0   \n",
       "...          ...         ...        ...        ...        ...      ...   \n",
       "146107  5.326058   14.899487   8.024072  76.028084  32.825882  52214.0   \n",
       "146108  1.225840   10.197711   3.453947  80.838814  26.534653  68768.0   \n",
       "146109  0.469633   12.532808   4.201102  78.925621  32.217308  62435.0   \n",
       "146110  4.060935   16.489092   5.855339  77.324913  25.696268  50070.0   \n",
       "146111  3.086356   15.929919   8.381503  74.624275  31.743422  54074.0   \n",
       "\n",
       "        SE_EMPRAT  SE_JOBPROX  SE_SINGLE  \n",
       "0       68.187744    5.224787  17.256638  \n",
       "1       82.987556    1.052632  26.556019  \n",
       "2       59.521217    1.727862  48.818897  \n",
       "3       60.339661    0.931315  47.470818  \n",
       "4       82.875099    1.788375  31.969309  \n",
       "...           ...         ...        ...  \n",
       "146107  70.059875    7.700206  12.012987  \n",
       "146108  70.643524   31.721613  25.000000  \n",
       "146109  73.387695   23.780487  33.514984  \n",
       "146110  84.599152   17.847338  35.205181  \n",
       "146111  82.461784   17.639902  33.479214  \n",
       "\n",
       "[146112 rows x 38 columns]"
      ]
     },
     "execution_count": 101,
     "metadata": {},
     "output_type": "execute_result"
    }
   ],
   "source": [
    "opportunity"
   ]
  },
  {
   "cell_type": "code",
   "execution_count": 126,
   "metadata": {},
   "outputs": [
    {
     "name": "stdout",
     "output_type": "stream",
     "text": [
      "The min, average and maximum median household income belong to a top 100 metro or not are: \n",
      " in100\n",
      "0.0    2499.0\n",
      "1.0    2499.0\n",
      "Name: SE_MHE, dtype: float64 \n",
      " in100\n",
      "0.0    51280.497588\n",
      "1.0    67220.144778\n",
      "Name: SE_MHE, dtype: float64 \n",
      " in100\n",
      "0.0    254394.0\n",
      "1.0    266907.0\n",
      "Name: SE_MHE, dtype: float64\n",
      "(The result does not include those located outside a metro- or micropolitan area.)\n"
     ]
    }
   ],
   "source": [
    "# the column related: in100(in top 100 metropolitan area), SE_MHE(median household income)\n",
    "# In this question, I do not think apply function is necessary \n",
    "# or if there is a way to apply multiple functions?\n",
    "min_MHE = opportunity.groupby([\"in100\"]).apply(min)[\"SE_MHE\"]\n",
    "mean_MHE = opportunity.groupby([\"in100\"]).mean()[\"SE_MHE\"]\n",
    "max_MHE = opportunity.groupby([\"in100\"]).apply(max)[\"SE_MHE\"]\n",
    "print(\"The min, average and maximum median household income belong to a top 100 metro or not are: \\n\", \n",
    "     min_MHE, \"\\n\", mean_MHE, \"\\n\", max_MHE)\n",
    "print(\"(The result does not include those located outside a metro- or micropolitan area.)\")"
   ]
  },
  {
   "cell_type": "markdown",
   "metadata": {},
   "source": [
    "<font color='red'>To-do:</font> Create a a new column in the dataframe by bucketing the median household income into 4 equal sized in terms of number of rows groups (hint use pd.Series.quantile function) \"low_mhe\",\"low-medium_mhe\", \"high-medium_mhe\", and \"high_mhe\". "
   ]
  },
  {
   "cell_type": "code",
   "execution_count": 119,
   "metadata": {},
   "outputs": [
    {
     "data": {
      "text/html": [
       "<div>\n",
       "<style scoped>\n",
       "    .dataframe tbody tr th:only-of-type {\n",
       "        vertical-align: middle;\n",
       "    }\n",
       "\n",
       "    .dataframe tbody tr th {\n",
       "        vertical-align: top;\n",
       "    }\n",
       "\n",
       "    .dataframe thead th {\n",
       "        text-align: right;\n",
       "    }\n",
       "</style>\n",
       "<table border=\"1\" class=\"dataframe\">\n",
       "  <thead>\n",
       "    <tr style=\"text-align: right;\">\n",
       "      <th></th>\n",
       "      <th>geoid</th>\n",
       "      <th>year</th>\n",
       "      <th>in100</th>\n",
       "      <th>msaid15</th>\n",
       "      <th>msaname15</th>\n",
       "      <th>countyfips</th>\n",
       "      <th>statefips</th>\n",
       "      <th>stateusps</th>\n",
       "      <th>pop</th>\n",
       "      <th>ED_APENR</th>\n",
       "      <th>...</th>\n",
       "      <th>HE_RSEI</th>\n",
       "      <th>SE_POVRATE</th>\n",
       "      <th>SE_PUBLIC</th>\n",
       "      <th>SE_HOME</th>\n",
       "      <th>SE_OCC</th>\n",
       "      <th>SE_MHE</th>\n",
       "      <th>SE_EMPRAT</th>\n",
       "      <th>SE_JOBPROX</th>\n",
       "      <th>SE_SINGLE</th>\n",
       "      <th>MHE_level</th>\n",
       "    </tr>\n",
       "  </thead>\n",
       "  <tbody>\n",
       "    <tr>\n",
       "      <th>0</th>\n",
       "      <td>1001020100</td>\n",
       "      <td>2010</td>\n",
       "      <td>0.0</td>\n",
       "      <td>33860.0</td>\n",
       "      <td>Montgomery, AL Metro Area</td>\n",
       "      <td>1001</td>\n",
       "      <td>1</td>\n",
       "      <td>AL</td>\n",
       "      <td>424</td>\n",
       "      <td>0.349463</td>\n",
       "      <td>...</td>\n",
       "      <td>5.933720</td>\n",
       "      <td>9.240363</td>\n",
       "      <td>14.398734</td>\n",
       "      <td>84.335442</td>\n",
       "      <td>27.972027</td>\n",
       "      <td>60321.0</td>\n",
       "      <td>68.187744</td>\n",
       "      <td>5.224787</td>\n",
       "      <td>17.256638</td>\n",
       "      <td>high-medium_mhe</td>\n",
       "    </tr>\n",
       "    <tr>\n",
       "      <th>1</th>\n",
       "      <td>1001020100</td>\n",
       "      <td>2015</td>\n",
       "      <td>0.0</td>\n",
       "      <td>33860.0</td>\n",
       "      <td>Montgomery, AL Metro Area</td>\n",
       "      <td>1001</td>\n",
       "      <td>1</td>\n",
       "      <td>AL</td>\n",
       "      <td>414</td>\n",
       "      <td>0.252991</td>\n",
       "      <td>...</td>\n",
       "      <td>7.015026</td>\n",
       "      <td>10.677506</td>\n",
       "      <td>12.068965</td>\n",
       "      <td>75.198936</td>\n",
       "      <td>38.479000</td>\n",
       "      <td>67826.0</td>\n",
       "      <td>82.987556</td>\n",
       "      <td>1.052632</td>\n",
       "      <td>26.556019</td>\n",
       "      <td>high-medium_mhe</td>\n",
       "    </tr>\n",
       "    <tr>\n",
       "      <th>2</th>\n",
       "      <td>1001020200</td>\n",
       "      <td>2010</td>\n",
       "      <td>0.0</td>\n",
       "      <td>33860.0</td>\n",
       "      <td>Montgomery, AL Metro Area</td>\n",
       "      <td>1001</td>\n",
       "      <td>1</td>\n",
       "      <td>AL</td>\n",
       "      <td>497</td>\n",
       "      <td>0.350239</td>\n",
       "      <td>...</td>\n",
       "      <td>6.083863</td>\n",
       "      <td>10.511090</td>\n",
       "      <td>13.028169</td>\n",
       "      <td>58.568073</td>\n",
       "      <td>40.000000</td>\n",
       "      <td>44039.0</td>\n",
       "      <td>59.521217</td>\n",
       "      <td>1.727862</td>\n",
       "      <td>48.818897</td>\n",
       "      <td>low-medium_mhe</td>\n",
       "    </tr>\n",
       "    <tr>\n",
       "      <th>3</th>\n",
       "      <td>1001020200</td>\n",
       "      <td>2015</td>\n",
       "      <td>0.0</td>\n",
       "      <td>33860.0</td>\n",
       "      <td>Montgomery, AL Metro Area</td>\n",
       "      <td>1001</td>\n",
       "      <td>1</td>\n",
       "      <td>AL</td>\n",
       "      <td>508</td>\n",
       "      <td>0.253207</td>\n",
       "      <td>...</td>\n",
       "      <td>7.306938</td>\n",
       "      <td>22.413794</td>\n",
       "      <td>24.137930</td>\n",
       "      <td>61.941254</td>\n",
       "      <td>30.516430</td>\n",
       "      <td>41287.0</td>\n",
       "      <td>60.339661</td>\n",
       "      <td>0.931315</td>\n",
       "      <td>47.470818</td>\n",
       "      <td>low-medium_mhe</td>\n",
       "    </tr>\n",
       "    <tr>\n",
       "      <th>4</th>\n",
       "      <td>1001020300</td>\n",
       "      <td>2010</td>\n",
       "      <td>0.0</td>\n",
       "      <td>33860.0</td>\n",
       "      <td>Montgomery, AL Metro Area</td>\n",
       "      <td>1001</td>\n",
       "      <td>1</td>\n",
       "      <td>AL</td>\n",
       "      <td>878</td>\n",
       "      <td>0.349768</td>\n",
       "      <td>...</td>\n",
       "      <td>6.162114</td>\n",
       "      <td>11.823454</td>\n",
       "      <td>9.035088</td>\n",
       "      <td>76.315788</td>\n",
       "      <td>31.036932</td>\n",
       "      <td>46002.0</td>\n",
       "      <td>82.875099</td>\n",
       "      <td>1.788375</td>\n",
       "      <td>31.969309</td>\n",
       "      <td>low-medium_mhe</td>\n",
       "    </tr>\n",
       "  </tbody>\n",
       "</table>\n",
       "<p>5 rows × 39 columns</p>\n",
       "</div>"
      ],
      "text/plain": [
       "        geoid  year  in100  msaid15                  msaname15  countyfips  \\\n",
       "0  1001020100  2010    0.0  33860.0  Montgomery, AL Metro Area        1001   \n",
       "1  1001020100  2015    0.0  33860.0  Montgomery, AL Metro Area        1001   \n",
       "2  1001020200  2010    0.0  33860.0  Montgomery, AL Metro Area        1001   \n",
       "3  1001020200  2015    0.0  33860.0  Montgomery, AL Metro Area        1001   \n",
       "4  1001020300  2010    0.0  33860.0  Montgomery, AL Metro Area        1001   \n",
       "\n",
       "   statefips stateusps  pop  ED_APENR  ...   HE_RSEI  SE_POVRATE  SE_PUBLIC  \\\n",
       "0          1        AL  424  0.349463  ...  5.933720    9.240363  14.398734   \n",
       "1          1        AL  414  0.252991  ...  7.015026   10.677506  12.068965   \n",
       "2          1        AL  497  0.350239  ...  6.083863   10.511090  13.028169   \n",
       "3          1        AL  508  0.253207  ...  7.306938   22.413794  24.137930   \n",
       "4          1        AL  878  0.349768  ...  6.162114   11.823454   9.035088   \n",
       "\n",
       "     SE_HOME     SE_OCC   SE_MHE  SE_EMPRAT  SE_JOBPROX  SE_SINGLE  \\\n",
       "0  84.335442  27.972027  60321.0  68.187744    5.224787  17.256638   \n",
       "1  75.198936  38.479000  67826.0  82.987556    1.052632  26.556019   \n",
       "2  58.568073  40.000000  44039.0  59.521217    1.727862  48.818897   \n",
       "3  61.941254  30.516430  41287.0  60.339661    0.931315  47.470818   \n",
       "4  76.315788  31.036932  46002.0  82.875099    1.788375  31.969309   \n",
       "\n",
       "         MHE_level  \n",
       "0  high-medium_mhe  \n",
       "1  high-medium_mhe  \n",
       "2   low-medium_mhe  \n",
       "3   low-medium_mhe  \n",
       "4   low-medium_mhe  \n",
       "\n",
       "[5 rows x 39 columns]"
      ]
     },
     "execution_count": 119,
     "metadata": {},
     "output_type": "execute_result"
    }
   ],
   "source": [
    "bins = opportunity[\"SE_MHE\"].quantile([0, .25, .5, .75, 1])\n",
    "opportunity[\"MHE_level\"] = pd.cut(opportunity[\"SE_MHE\"], \n",
    "                                  bins, \n",
    "                                  labels=[\"low_mhe\",\"low-medium_mhe\", \"high-medium_mhe\", \"high_mhe\"])\n",
    "opportunity.head()"
   ]
  },
  {
   "cell_type": "markdown",
   "metadata": {},
   "source": [
    "<font color='red'>To-do:</font> Now create a table such that the index corresponds to whether a census tract belongs to top 100 metropolitan area, the columns correspond to the median household income bucket and the values correspond to average third-grade math proficiency. As a challenge, consider what you may be able say about (i) the relationship between household income and math proficiency of children as a whole and (ii) how this relationship differs between big cities and elsewehere?"
   ]
  },
  {
   "cell_type": "code",
   "execution_count": 130,
   "metadata": {},
   "outputs": [
    {
     "name": "stdout",
     "output_type": "stream",
     "text": [
      "The average third-grade math proficiency according to location and MHE level is: \n",
      " in100  MHE_level      \n",
      "0.0    low_mhe            205.024781\n",
      "       low-medium_mhe     220.900619\n",
      "       high-medium_mhe    229.021845\n",
      "       high_mhe           242.240327\n",
      "1.0    low_mhe            177.554489\n",
      "       low-medium_mhe     205.821513\n",
      "       high-medium_mhe    224.600362\n",
      "       high_mhe           257.436952\n",
      "Name: ED_MATH, dtype: float64\n",
      "(The result does not include those located outside a metro- or micropolitan area.)\n"
     ]
    }
   ],
   "source": [
    "# the column related: in100(in top 100 metropolitan area), \n",
    "# SE_MHE(median household income), ED_MATH(Third grade math proficiency)\n",
    "\n",
    "MATH_gb_in100_MHE = opportunity.groupby([\"in100\", \"MHE_level\"]).mean()[\"ED_MATH\"]\n",
    "print(\"The average third-grade math proficiency according to location and MHE level is: \\n\", \n",
    "     MATH_gb_in100_MHE)\n",
    "print(\"(The result does not include those located outside a metro- or micropolitan area.)\")"
   ]
  },
  {
   "cell_type": "markdown",
   "metadata": {},
   "source": [
    "Answer:\n",
    "\n",
    "(i) The higher household income a family has, the higher math proficiency its children appears to be in.\n",
    "\n",
    "(ii) For big cities (`in100` = 1), there exist a larger difference of math proficiency from different levels of household income. In another word, children in larger cities appears to have a larger gap of math proficiency according to which MHE level they belong to. However, the difference of math proficiency appears to be smaller than bigger cities."
   ]
  },
  {
   "cell_type": "code",
   "execution_count": null,
   "metadata": {},
   "outputs": [],
   "source": []
  }
 ],
 "metadata": {
  "colab": {
   "collapsed_sections": [
    "h_ict6b-qxLD",
    "2qNZJaFe-y7N",
    "xd9q8cM3FG_H",
    "Lsm9e-H2nWyh"
   ],
   "name": "si618_Lab2.ipynb",
   "provenance": [],
   "toc_visible": true
  },
  "interpreter": {
   "hash": "ccfad3a08567331d09d2432bee1b50cab695c9379824f131d2e64405b63b07b1"
  },
  "kernelspec": {
   "display_name": "Python 3",
   "language": "python",
   "name": "python3"
  },
  "language_info": {
   "codemirror_mode": {
    "name": "ipython",
    "version": 3
   },
   "file_extension": ".py",
   "mimetype": "text/x-python",
   "name": "python",
   "nbconvert_exporter": "python",
   "pygments_lexer": "ipython3",
   "version": "3.8.5"
  }
 },
 "nbformat": 4,
 "nbformat_minor": 4
}
