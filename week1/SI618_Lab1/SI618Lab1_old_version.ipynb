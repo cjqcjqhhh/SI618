{
 "cells": [
  {
   "cell_type": "markdown",
   "metadata": {},
   "source": [
    "Let's start by important the appropriate libraries."
   ]
  },
  {
   "cell_type": "code",
   "execution_count": 77,
   "metadata": {},
   "outputs": [],
   "source": [
    "import pandas as pd"
   ]
  },
  {
   "cell_type": "code",
   "execution_count": 78,
   "metadata": {},
   "outputs": [],
   "source": [
    "import numpy as np"
   ]
  },
  {
   "cell_type": "markdown",
   "metadata": {},
   "source": [
    "<font color='red'>To-do:</font> Insert a cell in markdown mode and write \"This is a markdown example\" in italics."
   ]
  },
  {
   "cell_type": "markdown",
   "metadata": {},
   "source": [
    "*This is a markdown example*"
   ]
  },
  {
   "cell_type": "markdown",
   "metadata": {},
   "source": [
    "### Initialization\n",
    "You can create a Series by passing a list of values. By default, pandas will create an integer index."
   ]
  },
  {
   "cell_type": "code",
   "execution_count": 79,
   "metadata": {},
   "outputs": [
    {
     "data": {
      "text/plain": [
       "0    1.0\n",
       "1    3.0\n",
       "2    5.0\n",
       "3    NaN\n",
       "4    6.0\n",
       "5    8.0\n",
       "dtype: float64"
      ]
     },
     "execution_count": 79,
     "metadata": {},
     "output_type": "execute_result"
    }
   ],
   "source": [
    "s = pd.Series([1,3,5,np.nan,6,8])\n",
    "s"
   ]
  },
  {
   "cell_type": "markdown",
   "metadata": {},
   "source": [
    "Let's create another Series"
   ]
  },
  {
   "cell_type": "code",
   "execution_count": 80,
   "metadata": {},
   "outputs": [],
   "source": [
    "s2 = pd.Series([\"1\", \"10\", \"3\", \"44\"])"
   ]
  },
  {
   "cell_type": "code",
   "execution_count": 81,
   "metadata": {},
   "outputs": [],
   "source": [
    "import random\n",
    "s3 = pd.Series([random.randint(0,5) for i in range(10)])"
   ]
  },
  {
   "cell_type": "markdown",
   "metadata": {},
   "source": [
    "<font color='red'>To-do:</font> Insert a new cell above this one and create a new series, s3, with 10 random numbers between 0 and 5"
   ]
  },
  {
   "cell_type": "markdown",
   "metadata": {},
   "source": [
    "<font color='red'>To-do:</font> If you aim to store integers, string is an inefficient data type. Let's convert this series to the appropriate data type and store the result in s4. Display s4."
   ]
  },
  {
   "cell_type": "code",
   "execution_count": 82,
   "metadata": {},
   "outputs": [
    {
     "data": {
      "text/plain": [
       "0     1\n",
       "1    10\n",
       "2     3\n",
       "3    44\n",
       "dtype: int32"
      ]
     },
     "execution_count": 82,
     "metadata": {},
     "output_type": "execute_result"
    }
   ],
   "source": [
    "s4 = s2.astype(int)\n",
    "s4"
   ]
  },
  {
   "cell_type": "markdown",
   "metadata": {},
   "source": [
    "You can also use pandas to create an series of datetime objects. Let’s make one for the week beginning January 25th, 2015:"
   ]
  },
  {
   "cell_type": "code",
   "execution_count": 83,
   "metadata": {},
   "outputs": [
    {
     "data": {
      "text/plain": [
       "DatetimeIndex(['2015-01-25', '2015-01-26', '2015-01-27', '2015-01-28',\n",
       "               '2015-01-29', '2015-01-30', '2015-01-31'],\n",
       "              dtype='datetime64[ns]', freq='D')"
      ]
     },
     "execution_count": 83,
     "metadata": {},
     "output_type": "execute_result"
    }
   ],
   "source": [
    "dates = pd.date_range('20150125',periods=7)\n",
    "dates"
   ]
  },
  {
   "cell_type": "markdown",
   "metadata": {},
   "source": [
    "<font color='red'>To-do:</font> The date-range functionality can do more! Insert a new cell below this one and create a new dates2 DatetimeIndex object that starts at 4PM on September 1, 2021, that repeats weekly 15 times . Display the result."
   ]
  },
  {
   "cell_type": "code",
   "execution_count": 84,
   "metadata": {},
   "outputs": [
    {
     "data": {
      "text/plain": [
       "DatetimeIndex(['2021-09-05 16:00:00', '2021-09-12 16:00:00',\n",
       "               '2021-09-19 16:00:00', '2021-09-26 16:00:00',\n",
       "               '2021-10-03 16:00:00', '2021-10-10 16:00:00',\n",
       "               '2021-10-17 16:00:00', '2021-10-24 16:00:00',\n",
       "               '2021-10-31 16:00:00', '2021-11-07 16:00:00',\n",
       "               '2021-11-14 16:00:00', '2021-11-21 16:00:00',\n",
       "               '2021-11-28 16:00:00', '2021-12-05 16:00:00',\n",
       "               '2021-12-12 16:00:00'],\n",
       "              dtype='datetime64[ns]', freq='W-SUN')"
      ]
     },
     "execution_count": 84,
     "metadata": {},
     "output_type": "execute_result"
    }
   ],
   "source": [
    "import datetime\n",
    "start_date = datetime.datetime(2021, 9, 1, 16, 0)\n",
    "dates2 = pd.date_range(start_date, periods = 15, freq = \"W\")\n",
    "dates2"
   ]
  },
  {
   "cell_type": "markdown",
   "metadata": {},
   "source": [
    "Now we’ll create a DataFrame using the dates array as our index, fill it with some random values using numpy, and give the columns some labels."
   ]
  },
  {
   "cell_type": "code",
   "execution_count": 85,
   "metadata": {
    "scrolled": true
   },
   "outputs": [
    {
     "data": {
      "text/html": [
       "<div>\n",
       "<style scoped>\n",
       "    .dataframe tbody tr th:only-of-type {\n",
       "        vertical-align: middle;\n",
       "    }\n",
       "\n",
       "    .dataframe tbody tr th {\n",
       "        vertical-align: top;\n",
       "    }\n",
       "\n",
       "    .dataframe thead th {\n",
       "        text-align: right;\n",
       "    }\n",
       "</style>\n",
       "<table border=\"1\" class=\"dataframe\">\n",
       "  <thead>\n",
       "    <tr style=\"text-align: right;\">\n",
       "      <th></th>\n",
       "      <th>col1</th>\n",
       "      <th>col2</th>\n",
       "      <th>col4</th>\n",
       "      <th>col3</th>\n",
       "    </tr>\n",
       "  </thead>\n",
       "  <tbody>\n",
       "    <tr>\n",
       "      <th>2015-01-25</th>\n",
       "      <td>0.132419</td>\n",
       "      <td>1.112387</td>\n",
       "      <td>-1.351644</td>\n",
       "      <td>0.622150</td>\n",
       "    </tr>\n",
       "    <tr>\n",
       "      <th>2015-01-26</th>\n",
       "      <td>0.551210</td>\n",
       "      <td>-0.721437</td>\n",
       "      <td>-0.821639</td>\n",
       "      <td>-1.040171</td>\n",
       "    </tr>\n",
       "    <tr>\n",
       "      <th>2015-01-27</th>\n",
       "      <td>-3.066199</td>\n",
       "      <td>-1.494748</td>\n",
       "      <td>-0.171880</td>\n",
       "      <td>0.455236</td>\n",
       "    </tr>\n",
       "    <tr>\n",
       "      <th>2015-01-28</th>\n",
       "      <td>-0.931278</td>\n",
       "      <td>0.992433</td>\n",
       "      <td>0.477195</td>\n",
       "      <td>0.868746</td>\n",
       "    </tr>\n",
       "    <tr>\n",
       "      <th>2015-01-29</th>\n",
       "      <td>0.007473</td>\n",
       "      <td>-1.428318</td>\n",
       "      <td>-0.654668</td>\n",
       "      <td>0.389609</td>\n",
       "    </tr>\n",
       "    <tr>\n",
       "      <th>2015-01-30</th>\n",
       "      <td>0.239541</td>\n",
       "      <td>1.071332</td>\n",
       "      <td>0.693687</td>\n",
       "      <td>0.395706</td>\n",
       "    </tr>\n",
       "    <tr>\n",
       "      <th>2015-01-31</th>\n",
       "      <td>-1.940643</td>\n",
       "      <td>-1.365024</td>\n",
       "      <td>-0.056047</td>\n",
       "      <td>-2.457060</td>\n",
       "    </tr>\n",
       "  </tbody>\n",
       "</table>\n",
       "</div>"
      ],
      "text/plain": [
       "                col1      col2      col4      col3\n",
       "2015-01-25  0.132419  1.112387 -1.351644  0.622150\n",
       "2015-01-26  0.551210 -0.721437 -0.821639 -1.040171\n",
       "2015-01-27 -3.066199 -1.494748 -0.171880  0.455236\n",
       "2015-01-28 -0.931278  0.992433  0.477195  0.868746\n",
       "2015-01-29  0.007473 -1.428318 -0.654668  0.389609\n",
       "2015-01-30  0.239541  1.071332  0.693687  0.395706\n",
       "2015-01-31 -1.940643 -1.365024 -0.056047 -2.457060"
      ]
     },
     "execution_count": 85,
     "metadata": {},
     "output_type": "execute_result"
    }
   ],
   "source": [
    "df = pd.DataFrame(np.random.randn(7,4), index=dates, columns=['col1','col2','col4','col3'])\n",
    "df"
   ]
  },
  {
   "cell_type": "markdown",
   "metadata": {},
   "source": [
    "<font color='red'>To-do:</font> Now create df2 that uses dates2 as its index. Use the same set of columns ('col1','col2','col4','col3')."
   ]
  },
  {
   "cell_type": "code",
   "execution_count": 86,
   "metadata": {},
   "outputs": [
    {
     "data": {
      "text/html": [
       "<div>\n",
       "<style scoped>\n",
       "    .dataframe tbody tr th:only-of-type {\n",
       "        vertical-align: middle;\n",
       "    }\n",
       "\n",
       "    .dataframe tbody tr th {\n",
       "        vertical-align: top;\n",
       "    }\n",
       "\n",
       "    .dataframe thead th {\n",
       "        text-align: right;\n",
       "    }\n",
       "</style>\n",
       "<table border=\"1\" class=\"dataframe\">\n",
       "  <thead>\n",
       "    <tr style=\"text-align: right;\">\n",
       "      <th></th>\n",
       "      <th>col1</th>\n",
       "      <th>col2</th>\n",
       "      <th>col4</th>\n",
       "      <th>col3</th>\n",
       "    </tr>\n",
       "  </thead>\n",
       "  <tbody>\n",
       "    <tr>\n",
       "      <th>2021-09-05 16:00:00</th>\n",
       "      <td>1.562635</td>\n",
       "      <td>-0.710652</td>\n",
       "      <td>0.575682</td>\n",
       "      <td>-0.031795</td>\n",
       "    </tr>\n",
       "    <tr>\n",
       "      <th>2021-09-12 16:00:00</th>\n",
       "      <td>-1.448286</td>\n",
       "      <td>-0.039087</td>\n",
       "      <td>0.001811</td>\n",
       "      <td>0.099392</td>\n",
       "    </tr>\n",
       "    <tr>\n",
       "      <th>2021-09-19 16:00:00</th>\n",
       "      <td>0.180702</td>\n",
       "      <td>0.693268</td>\n",
       "      <td>0.356155</td>\n",
       "      <td>-1.094452</td>\n",
       "    </tr>\n",
       "    <tr>\n",
       "      <th>2021-09-26 16:00:00</th>\n",
       "      <td>-2.157729</td>\n",
       "      <td>-0.758493</td>\n",
       "      <td>-2.009010</td>\n",
       "      <td>0.781928</td>\n",
       "    </tr>\n",
       "    <tr>\n",
       "      <th>2021-10-03 16:00:00</th>\n",
       "      <td>0.437708</td>\n",
       "      <td>-0.443544</td>\n",
       "      <td>-0.660354</td>\n",
       "      <td>1.104733</td>\n",
       "    </tr>\n",
       "    <tr>\n",
       "      <th>2021-10-10 16:00:00</th>\n",
       "      <td>-1.425657</td>\n",
       "      <td>0.501557</td>\n",
       "      <td>-0.005280</td>\n",
       "      <td>0.554903</td>\n",
       "    </tr>\n",
       "    <tr>\n",
       "      <th>2021-10-17 16:00:00</th>\n",
       "      <td>0.791421</td>\n",
       "      <td>-0.653847</td>\n",
       "      <td>-0.559359</td>\n",
       "      <td>2.318529</td>\n",
       "    </tr>\n",
       "    <tr>\n",
       "      <th>2021-10-24 16:00:00</th>\n",
       "      <td>-0.453007</td>\n",
       "      <td>-1.690149</td>\n",
       "      <td>-0.385619</td>\n",
       "      <td>0.199696</td>\n",
       "    </tr>\n",
       "    <tr>\n",
       "      <th>2021-10-31 16:00:00</th>\n",
       "      <td>0.500273</td>\n",
       "      <td>0.285085</td>\n",
       "      <td>-0.315206</td>\n",
       "      <td>-1.724247</td>\n",
       "    </tr>\n",
       "    <tr>\n",
       "      <th>2021-11-07 16:00:00</th>\n",
       "      <td>-0.025939</td>\n",
       "      <td>-0.939415</td>\n",
       "      <td>0.691047</td>\n",
       "      <td>0.866765</td>\n",
       "    </tr>\n",
       "    <tr>\n",
       "      <th>2021-11-14 16:00:00</th>\n",
       "      <td>-0.456320</td>\n",
       "      <td>0.090135</td>\n",
       "      <td>1.184989</td>\n",
       "      <td>-1.209700</td>\n",
       "    </tr>\n",
       "    <tr>\n",
       "      <th>2021-11-21 16:00:00</th>\n",
       "      <td>-1.023213</td>\n",
       "      <td>-2.436086</td>\n",
       "      <td>0.798384</td>\n",
       "      <td>-0.088224</td>\n",
       "    </tr>\n",
       "    <tr>\n",
       "      <th>2021-11-28 16:00:00</th>\n",
       "      <td>1.023786</td>\n",
       "      <td>0.615030</td>\n",
       "      <td>-0.411781</td>\n",
       "      <td>0.147136</td>\n",
       "    </tr>\n",
       "    <tr>\n",
       "      <th>2021-12-05 16:00:00</th>\n",
       "      <td>-0.290809</td>\n",
       "      <td>-1.066685</td>\n",
       "      <td>0.779950</td>\n",
       "      <td>0.881381</td>\n",
       "    </tr>\n",
       "    <tr>\n",
       "      <th>2021-12-12 16:00:00</th>\n",
       "      <td>0.219873</td>\n",
       "      <td>-0.147370</td>\n",
       "      <td>1.028911</td>\n",
       "      <td>-1.086468</td>\n",
       "    </tr>\n",
       "  </tbody>\n",
       "</table>\n",
       "</div>"
      ],
      "text/plain": [
       "                         col1      col2      col4      col3\n",
       "2021-09-05 16:00:00  1.562635 -0.710652  0.575682 -0.031795\n",
       "2021-09-12 16:00:00 -1.448286 -0.039087  0.001811  0.099392\n",
       "2021-09-19 16:00:00  0.180702  0.693268  0.356155 -1.094452\n",
       "2021-09-26 16:00:00 -2.157729 -0.758493 -2.009010  0.781928\n",
       "2021-10-03 16:00:00  0.437708 -0.443544 -0.660354  1.104733\n",
       "2021-10-10 16:00:00 -1.425657  0.501557 -0.005280  0.554903\n",
       "2021-10-17 16:00:00  0.791421 -0.653847 -0.559359  2.318529\n",
       "2021-10-24 16:00:00 -0.453007 -1.690149 -0.385619  0.199696\n",
       "2021-10-31 16:00:00  0.500273  0.285085 -0.315206 -1.724247\n",
       "2021-11-07 16:00:00 -0.025939 -0.939415  0.691047  0.866765\n",
       "2021-11-14 16:00:00 -0.456320  0.090135  1.184989 -1.209700\n",
       "2021-11-21 16:00:00 -1.023213 -2.436086  0.798384 -0.088224\n",
       "2021-11-28 16:00:00  1.023786  0.615030 -0.411781  0.147136\n",
       "2021-12-05 16:00:00 -0.290809 -1.066685  0.779950  0.881381\n",
       "2021-12-12 16:00:00  0.219873 -0.147370  1.028911 -1.086468"
      ]
     },
     "execution_count": 86,
     "metadata": {},
     "output_type": "execute_result"
    }
   ],
   "source": [
    "df2 = pd.DataFrame(np.random.randn(15,4), index=dates2, columns=['col1','col2','col4','col3'])\n",
    "df2"
   ]
  },
  {
   "cell_type": "markdown",
   "metadata": {},
   "source": [
    "It can also be useful to know how to create a DataFrame from a dict of objects. This comes in particularly handy when working with JSON-like structures."
   ]
  },
  {
   "cell_type": "code",
   "execution_count": 54,
   "metadata": {},
   "outputs": [
    {
     "data": {
      "text/html": [
       "<div>\n",
       "<style scoped>\n",
       "    .dataframe tbody tr th:only-of-type {\n",
       "        vertical-align: middle;\n",
       "    }\n",
       "\n",
       "    .dataframe tbody tr th {\n",
       "        vertical-align: top;\n",
       "    }\n",
       "\n",
       "    .dataframe thead th {\n",
       "        text-align: right;\n",
       "    }\n",
       "</style>\n",
       "<table border=\"1\" class=\"dataframe\">\n",
       "  <thead>\n",
       "    <tr style=\"text-align: right;\">\n",
       "      <th></th>\n",
       "      <th>A</th>\n",
       "      <th>B</th>\n",
       "      <th>C</th>\n",
       "      <th>D</th>\n",
       "      <th>E</th>\n",
       "      <th>F</th>\n",
       "    </tr>\n",
       "  </thead>\n",
       "  <tbody>\n",
       "    <tr>\n",
       "      <th>0</th>\n",
       "      <td>1.0</td>\n",
       "      <td>2013-01-02</td>\n",
       "      <td>1.0</td>\n",
       "      <td>3</td>\n",
       "      <td>test</td>\n",
       "      <td>foo</td>\n",
       "    </tr>\n",
       "    <tr>\n",
       "      <th>1</th>\n",
       "      <td>1.0</td>\n",
       "      <td>2013-01-02</td>\n",
       "      <td>1.0</td>\n",
       "      <td>3</td>\n",
       "      <td>train</td>\n",
       "      <td>foo</td>\n",
       "    </tr>\n",
       "    <tr>\n",
       "      <th>2</th>\n",
       "      <td>1.0</td>\n",
       "      <td>2013-01-02</td>\n",
       "      <td>1.0</td>\n",
       "      <td>3</td>\n",
       "      <td>test</td>\n",
       "      <td>foo</td>\n",
       "    </tr>\n",
       "    <tr>\n",
       "      <th>3</th>\n",
       "      <td>1.0</td>\n",
       "      <td>2013-01-02</td>\n",
       "      <td>1.0</td>\n",
       "      <td>3</td>\n",
       "      <td>train</td>\n",
       "      <td>foo</td>\n",
       "    </tr>\n",
       "  </tbody>\n",
       "</table>\n",
       "</div>"
      ],
      "text/plain": [
       "     A          B    C  D      E    F\n",
       "0  1.0 2013-01-02  1.0  3   test  foo\n",
       "1  1.0 2013-01-02  1.0  3  train  foo\n",
       "2  1.0 2013-01-02  1.0  3   test  foo\n",
       "3  1.0 2013-01-02  1.0  3  train  foo"
      ]
     },
     "execution_count": 54,
     "metadata": {},
     "output_type": "execute_result"
    }
   ],
   "source": [
    "df3 = pd.DataFrame({ 'A' : 1.,\n",
    "                            'B' : pd.Timestamp('20130102'),\n",
    "                            'C' : pd.Series(1,index=list(range(4)),dtype='float32'),\n",
    "                            'D' : np.array([3] * 4,dtype='int32'),\n",
    "                            'E' : pd.Categorical([\"test\",\"train\",\"test\",\"train\"]),\n",
    "                            'F' : 'foo' })\n",
    "df3"
   ]
  },
  {
   "cell_type": "markdown",
   "metadata": {},
   "source": [
    "<font color='red'>To-do:</font> Below we are trying to create another DataFrame df4. But there are some mistakes. Correct these mistakes to make sure the code compiles. Do not edit column c2.\n",
    "\n",
    "???"
   ]
  },
  {
   "cell_type": "code",
   "execution_count": 98,
   "metadata": {},
   "outputs": [
    {
     "name": "stdout",
     "output_type": "stream",
     "text": [
      "Python 3.9.7\n"
     ]
    }
   ],
   "source": [
    "!python3 --version"
   ]
  },
  {
   "cell_type": "code",
   "execution_count": 100,
   "metadata": {},
   "outputs": [
    {
     "ename": "ValueError",
     "evalue": "arrays must all be same length",
     "output_type": "error",
     "traceback": [
      "\u001b[1;31m---------------------------------------------------------------------------\u001b[0m",
      "\u001b[1;31mValueError\u001b[0m                                Traceback (most recent call last)",
      "\u001b[1;32m<ipython-input-100-3bd6b8a31e48>\u001b[0m in \u001b[0;36m<module>\u001b[1;34m\u001b[0m\n\u001b[1;32m----> 1\u001b[1;33m df4 = pd.DataFrame({\"c1\":[ ],\n\u001b[0m\u001b[0;32m      2\u001b[0m                     \u001b[1;34m\"c2\"\u001b[0m\u001b[1;33m:\u001b[0m \u001b[1;33m[\u001b[0m\u001b[1;36m1.2\u001b[0m\u001b[1;33m,\u001b[0m \u001b[1;36m0.5\u001b[0m\u001b[1;33m,\u001b[0m \u001b[1;34m\"tree\"\u001b[0m\u001b[1;33m]\u001b[0m\u001b[1;33m,\u001b[0m\u001b[1;33m\u001b[0m\u001b[1;33m\u001b[0m\u001b[0m\n\u001b[0;32m      3\u001b[0m                     \u001b[1;34m\"c3\"\u001b[0m\u001b[1;33m:\u001b[0m \u001b[1;33m{\u001b[0m\u001b[1;32mTrue\u001b[0m\u001b[1;33m,\u001b[0m \u001b[1;32mFalse\u001b[0m\u001b[1;33m,\u001b[0m \u001b[1;32mTrue\u001b[0m\u001b[1;33m}\u001b[0m\u001b[1;33m\u001b[0m\u001b[1;33m\u001b[0m\u001b[0m\n\u001b[0;32m      4\u001b[0m                    })\n",
      "\u001b[1;32mD:\\Software\\anaconda3\\lib\\site-packages\\pandas\\core\\frame.py\u001b[0m in \u001b[0;36m__init__\u001b[1;34m(self, data, index, columns, dtype, copy)\u001b[0m\n\u001b[0;32m    466\u001b[0m \u001b[1;33m\u001b[0m\u001b[0m\n\u001b[0;32m    467\u001b[0m         \u001b[1;32melif\u001b[0m \u001b[0misinstance\u001b[0m\u001b[1;33m(\u001b[0m\u001b[0mdata\u001b[0m\u001b[1;33m,\u001b[0m \u001b[0mdict\u001b[0m\u001b[1;33m)\u001b[0m\u001b[1;33m:\u001b[0m\u001b[1;33m\u001b[0m\u001b[1;33m\u001b[0m\u001b[0m\n\u001b[1;32m--> 468\u001b[1;33m             \u001b[0mmgr\u001b[0m \u001b[1;33m=\u001b[0m \u001b[0minit_dict\u001b[0m\u001b[1;33m(\u001b[0m\u001b[0mdata\u001b[0m\u001b[1;33m,\u001b[0m \u001b[0mindex\u001b[0m\u001b[1;33m,\u001b[0m \u001b[0mcolumns\u001b[0m\u001b[1;33m,\u001b[0m \u001b[0mdtype\u001b[0m\u001b[1;33m=\u001b[0m\u001b[0mdtype\u001b[0m\u001b[1;33m)\u001b[0m\u001b[1;33m\u001b[0m\u001b[1;33m\u001b[0m\u001b[0m\n\u001b[0m\u001b[0;32m    469\u001b[0m         \u001b[1;32melif\u001b[0m \u001b[0misinstance\u001b[0m\u001b[1;33m(\u001b[0m\u001b[0mdata\u001b[0m\u001b[1;33m,\u001b[0m \u001b[0mma\u001b[0m\u001b[1;33m.\u001b[0m\u001b[0mMaskedArray\u001b[0m\u001b[1;33m)\u001b[0m\u001b[1;33m:\u001b[0m\u001b[1;33m\u001b[0m\u001b[1;33m\u001b[0m\u001b[0m\n\u001b[0;32m    470\u001b[0m             \u001b[1;32mimport\u001b[0m \u001b[0mnumpy\u001b[0m\u001b[1;33m.\u001b[0m\u001b[0mma\u001b[0m\u001b[1;33m.\u001b[0m\u001b[0mmrecords\u001b[0m \u001b[1;32mas\u001b[0m \u001b[0mmrecords\u001b[0m\u001b[1;33m\u001b[0m\u001b[1;33m\u001b[0m\u001b[0m\n",
      "\u001b[1;32mD:\\Software\\anaconda3\\lib\\site-packages\\pandas\\core\\internals\\construction.py\u001b[0m in \u001b[0;36minit_dict\u001b[1;34m(data, index, columns, dtype)\u001b[0m\n\u001b[0;32m    281\u001b[0m             \u001b[0marr\u001b[0m \u001b[1;32mif\u001b[0m \u001b[1;32mnot\u001b[0m \u001b[0mis_datetime64tz_dtype\u001b[0m\u001b[1;33m(\u001b[0m\u001b[0marr\u001b[0m\u001b[1;33m)\u001b[0m \u001b[1;32melse\u001b[0m \u001b[0marr\u001b[0m\u001b[1;33m.\u001b[0m\u001b[0mcopy\u001b[0m\u001b[1;33m(\u001b[0m\u001b[1;33m)\u001b[0m \u001b[1;32mfor\u001b[0m \u001b[0marr\u001b[0m \u001b[1;32min\u001b[0m \u001b[0marrays\u001b[0m\u001b[1;33m\u001b[0m\u001b[1;33m\u001b[0m\u001b[0m\n\u001b[0;32m    282\u001b[0m         ]\n\u001b[1;32m--> 283\u001b[1;33m     \u001b[1;32mreturn\u001b[0m \u001b[0marrays_to_mgr\u001b[0m\u001b[1;33m(\u001b[0m\u001b[0marrays\u001b[0m\u001b[1;33m,\u001b[0m \u001b[0mdata_names\u001b[0m\u001b[1;33m,\u001b[0m \u001b[0mindex\u001b[0m\u001b[1;33m,\u001b[0m \u001b[0mcolumns\u001b[0m\u001b[1;33m,\u001b[0m \u001b[0mdtype\u001b[0m\u001b[1;33m=\u001b[0m\u001b[0mdtype\u001b[0m\u001b[1;33m)\u001b[0m\u001b[1;33m\u001b[0m\u001b[1;33m\u001b[0m\u001b[0m\n\u001b[0m\u001b[0;32m    284\u001b[0m \u001b[1;33m\u001b[0m\u001b[0m\n\u001b[0;32m    285\u001b[0m \u001b[1;33m\u001b[0m\u001b[0m\n",
      "\u001b[1;32mD:\\Software\\anaconda3\\lib\\site-packages\\pandas\\core\\internals\\construction.py\u001b[0m in \u001b[0;36marrays_to_mgr\u001b[1;34m(arrays, arr_names, index, columns, dtype, verify_integrity)\u001b[0m\n\u001b[0;32m     76\u001b[0m         \u001b[1;31m# figure out the index, if necessary\u001b[0m\u001b[1;33m\u001b[0m\u001b[1;33m\u001b[0m\u001b[1;33m\u001b[0m\u001b[0m\n\u001b[0;32m     77\u001b[0m         \u001b[1;32mif\u001b[0m \u001b[0mindex\u001b[0m \u001b[1;32mis\u001b[0m \u001b[1;32mNone\u001b[0m\u001b[1;33m:\u001b[0m\u001b[1;33m\u001b[0m\u001b[1;33m\u001b[0m\u001b[0m\n\u001b[1;32m---> 78\u001b[1;33m             \u001b[0mindex\u001b[0m \u001b[1;33m=\u001b[0m \u001b[0mextract_index\u001b[0m\u001b[1;33m(\u001b[0m\u001b[0marrays\u001b[0m\u001b[1;33m)\u001b[0m\u001b[1;33m\u001b[0m\u001b[1;33m\u001b[0m\u001b[0m\n\u001b[0m\u001b[0;32m     79\u001b[0m         \u001b[1;32melse\u001b[0m\u001b[1;33m:\u001b[0m\u001b[1;33m\u001b[0m\u001b[1;33m\u001b[0m\u001b[0m\n\u001b[0;32m     80\u001b[0m             \u001b[0mindex\u001b[0m \u001b[1;33m=\u001b[0m \u001b[0mensure_index\u001b[0m\u001b[1;33m(\u001b[0m\u001b[0mindex\u001b[0m\u001b[1;33m)\u001b[0m\u001b[1;33m\u001b[0m\u001b[1;33m\u001b[0m\u001b[0m\n",
      "\u001b[1;32mD:\\Software\\anaconda3\\lib\\site-packages\\pandas\\core\\internals\\construction.py\u001b[0m in \u001b[0;36mextract_index\u001b[1;34m(data)\u001b[0m\n\u001b[0;32m    395\u001b[0m             \u001b[0mlengths\u001b[0m \u001b[1;33m=\u001b[0m \u001b[0mlist\u001b[0m\u001b[1;33m(\u001b[0m\u001b[0mset\u001b[0m\u001b[1;33m(\u001b[0m\u001b[0mraw_lengths\u001b[0m\u001b[1;33m)\u001b[0m\u001b[1;33m)\u001b[0m\u001b[1;33m\u001b[0m\u001b[1;33m\u001b[0m\u001b[0m\n\u001b[0;32m    396\u001b[0m             \u001b[1;32mif\u001b[0m \u001b[0mlen\u001b[0m\u001b[1;33m(\u001b[0m\u001b[0mlengths\u001b[0m\u001b[1;33m)\u001b[0m \u001b[1;33m>\u001b[0m \u001b[1;36m1\u001b[0m\u001b[1;33m:\u001b[0m\u001b[1;33m\u001b[0m\u001b[1;33m\u001b[0m\u001b[0m\n\u001b[1;32m--> 397\u001b[1;33m                 \u001b[1;32mraise\u001b[0m \u001b[0mValueError\u001b[0m\u001b[1;33m(\u001b[0m\u001b[1;34m\"arrays must all be same length\"\u001b[0m\u001b[1;33m)\u001b[0m\u001b[1;33m\u001b[0m\u001b[1;33m\u001b[0m\u001b[0m\n\u001b[0m\u001b[0;32m    398\u001b[0m \u001b[1;33m\u001b[0m\u001b[0m\n\u001b[0;32m    399\u001b[0m             \u001b[1;32mif\u001b[0m \u001b[0mhave_dicts\u001b[0m\u001b[1;33m:\u001b[0m\u001b[1;33m\u001b[0m\u001b[1;33m\u001b[0m\u001b[0m\n",
      "\u001b[1;31mValueError\u001b[0m: arrays must all be same length"
     ]
    }
   ],
   "source": [
    "df4 = pd.DataFrame({\"c1\":[ ],\n",
    "                    \"c2\": [1.2, 0.5, \"tree\"],\n",
    "                    \"c3\": {True, False, True}\n",
    "                   })"
   ]
  },
  {
   "cell_type": "code",
   "execution_count": 94,
   "metadata": {},
   "outputs": [
    {
     "ename": "TypeError",
     "evalue": "Set type is unordered",
     "output_type": "error",
     "traceback": [
      "\u001b[1;31m---------------------------------------------------------------------------\u001b[0m",
      "\u001b[1;31mTypeError\u001b[0m                                 Traceback (most recent call last)",
      "\u001b[1;32m<ipython-input-94-6ec407af5260>\u001b[0m in \u001b[0;36m<module>\u001b[1;34m\u001b[0m\n\u001b[1;32m----> 1\u001b[1;33m \u001b[0mdftest\u001b[0m \u001b[1;33m=\u001b[0m \u001b[0mpd\u001b[0m\u001b[1;33m.\u001b[0m\u001b[0mDataFrame\u001b[0m\u001b[1;33m(\u001b[0m\u001b[1;33m{\u001b[0m\u001b[1;34m\"c2\"\u001b[0m\u001b[1;33m:\u001b[0m \u001b[1;33m{\u001b[0m\u001b[1;36m1.2\u001b[0m\u001b[1;33m,\u001b[0m \u001b[1;36m0.5\u001b[0m\u001b[1;33m,\u001b[0m \u001b[1;36m3.1\u001b[0m\u001b[1;33m,\u001b[0m \u001b[1;34m\"tree\"\u001b[0m\u001b[1;33m}\u001b[0m\u001b[1;33m}\u001b[0m\u001b[1;33m)\u001b[0m\u001b[1;33m\u001b[0m\u001b[1;33m\u001b[0m\u001b[0m\n\u001b[0m",
      "\u001b[1;32mD:\\Software\\anaconda3\\lib\\site-packages\\pandas\\core\\frame.py\u001b[0m in \u001b[0;36m__init__\u001b[1;34m(self, data, index, columns, dtype, copy)\u001b[0m\n\u001b[0;32m    466\u001b[0m \u001b[1;33m\u001b[0m\u001b[0m\n\u001b[0;32m    467\u001b[0m         \u001b[1;32melif\u001b[0m \u001b[0misinstance\u001b[0m\u001b[1;33m(\u001b[0m\u001b[0mdata\u001b[0m\u001b[1;33m,\u001b[0m \u001b[0mdict\u001b[0m\u001b[1;33m)\u001b[0m\u001b[1;33m:\u001b[0m\u001b[1;33m\u001b[0m\u001b[1;33m\u001b[0m\u001b[0m\n\u001b[1;32m--> 468\u001b[1;33m             \u001b[0mmgr\u001b[0m \u001b[1;33m=\u001b[0m \u001b[0minit_dict\u001b[0m\u001b[1;33m(\u001b[0m\u001b[0mdata\u001b[0m\u001b[1;33m,\u001b[0m \u001b[0mindex\u001b[0m\u001b[1;33m,\u001b[0m \u001b[0mcolumns\u001b[0m\u001b[1;33m,\u001b[0m \u001b[0mdtype\u001b[0m\u001b[1;33m=\u001b[0m\u001b[0mdtype\u001b[0m\u001b[1;33m)\u001b[0m\u001b[1;33m\u001b[0m\u001b[1;33m\u001b[0m\u001b[0m\n\u001b[0m\u001b[0;32m    469\u001b[0m         \u001b[1;32melif\u001b[0m \u001b[0misinstance\u001b[0m\u001b[1;33m(\u001b[0m\u001b[0mdata\u001b[0m\u001b[1;33m,\u001b[0m \u001b[0mma\u001b[0m\u001b[1;33m.\u001b[0m\u001b[0mMaskedArray\u001b[0m\u001b[1;33m)\u001b[0m\u001b[1;33m:\u001b[0m\u001b[1;33m\u001b[0m\u001b[1;33m\u001b[0m\u001b[0m\n\u001b[0;32m    470\u001b[0m             \u001b[1;32mimport\u001b[0m \u001b[0mnumpy\u001b[0m\u001b[1;33m.\u001b[0m\u001b[0mma\u001b[0m\u001b[1;33m.\u001b[0m\u001b[0mmrecords\u001b[0m \u001b[1;32mas\u001b[0m \u001b[0mmrecords\u001b[0m\u001b[1;33m\u001b[0m\u001b[1;33m\u001b[0m\u001b[0m\n",
      "\u001b[1;32mD:\\Software\\anaconda3\\lib\\site-packages\\pandas\\core\\internals\\construction.py\u001b[0m in \u001b[0;36minit_dict\u001b[1;34m(data, index, columns, dtype)\u001b[0m\n\u001b[0;32m    281\u001b[0m             \u001b[0marr\u001b[0m \u001b[1;32mif\u001b[0m \u001b[1;32mnot\u001b[0m \u001b[0mis_datetime64tz_dtype\u001b[0m\u001b[1;33m(\u001b[0m\u001b[0marr\u001b[0m\u001b[1;33m)\u001b[0m \u001b[1;32melse\u001b[0m \u001b[0marr\u001b[0m\u001b[1;33m.\u001b[0m\u001b[0mcopy\u001b[0m\u001b[1;33m(\u001b[0m\u001b[1;33m)\u001b[0m \u001b[1;32mfor\u001b[0m \u001b[0marr\u001b[0m \u001b[1;32min\u001b[0m \u001b[0marrays\u001b[0m\u001b[1;33m\u001b[0m\u001b[1;33m\u001b[0m\u001b[0m\n\u001b[0;32m    282\u001b[0m         ]\n\u001b[1;32m--> 283\u001b[1;33m     \u001b[1;32mreturn\u001b[0m \u001b[0marrays_to_mgr\u001b[0m\u001b[1;33m(\u001b[0m\u001b[0marrays\u001b[0m\u001b[1;33m,\u001b[0m \u001b[0mdata_names\u001b[0m\u001b[1;33m,\u001b[0m \u001b[0mindex\u001b[0m\u001b[1;33m,\u001b[0m \u001b[0mcolumns\u001b[0m\u001b[1;33m,\u001b[0m \u001b[0mdtype\u001b[0m\u001b[1;33m=\u001b[0m\u001b[0mdtype\u001b[0m\u001b[1;33m)\u001b[0m\u001b[1;33m\u001b[0m\u001b[1;33m\u001b[0m\u001b[0m\n\u001b[0m\u001b[0;32m    284\u001b[0m \u001b[1;33m\u001b[0m\u001b[0m\n\u001b[0;32m    285\u001b[0m \u001b[1;33m\u001b[0m\u001b[0m\n",
      "\u001b[1;32mD:\\Software\\anaconda3\\lib\\site-packages\\pandas\\core\\internals\\construction.py\u001b[0m in \u001b[0;36marrays_to_mgr\u001b[1;34m(arrays, arr_names, index, columns, dtype, verify_integrity)\u001b[0m\n\u001b[0;32m     81\u001b[0m \u001b[1;33m\u001b[0m\u001b[0m\n\u001b[0;32m     82\u001b[0m         \u001b[1;31m# don't force copy because getting jammed in an ndarray anyway\u001b[0m\u001b[1;33m\u001b[0m\u001b[1;33m\u001b[0m\u001b[1;33m\u001b[0m\u001b[0m\n\u001b[1;32m---> 83\u001b[1;33m         \u001b[0marrays\u001b[0m \u001b[1;33m=\u001b[0m \u001b[0m_homogenize\u001b[0m\u001b[1;33m(\u001b[0m\u001b[0marrays\u001b[0m\u001b[1;33m,\u001b[0m \u001b[0mindex\u001b[0m\u001b[1;33m,\u001b[0m \u001b[0mdtype\u001b[0m\u001b[1;33m)\u001b[0m\u001b[1;33m\u001b[0m\u001b[1;33m\u001b[0m\u001b[0m\n\u001b[0m\u001b[0;32m     84\u001b[0m \u001b[1;33m\u001b[0m\u001b[0m\n\u001b[0;32m     85\u001b[0m         \u001b[0mcolumns\u001b[0m \u001b[1;33m=\u001b[0m \u001b[0mensure_index\u001b[0m\u001b[1;33m(\u001b[0m\u001b[0mcolumns\u001b[0m\u001b[1;33m)\u001b[0m\u001b[1;33m\u001b[0m\u001b[1;33m\u001b[0m\u001b[0m\n",
      "\u001b[1;32mD:\\Software\\anaconda3\\lib\\site-packages\\pandas\\core\\internals\\construction.py\u001b[0m in \u001b[0;36m_homogenize\u001b[1;34m(data, index, dtype)\u001b[0m\n\u001b[0;32m    349\u001b[0m                     \u001b[0mval\u001b[0m \u001b[1;33m=\u001b[0m \u001b[0mdict\u001b[0m\u001b[1;33m(\u001b[0m\u001b[0mval\u001b[0m\u001b[1;33m)\u001b[0m\u001b[1;33m\u001b[0m\u001b[1;33m\u001b[0m\u001b[0m\n\u001b[0;32m    350\u001b[0m                 \u001b[0mval\u001b[0m \u001b[1;33m=\u001b[0m \u001b[0mlib\u001b[0m\u001b[1;33m.\u001b[0m\u001b[0mfast_multiget\u001b[0m\u001b[1;33m(\u001b[0m\u001b[0mval\u001b[0m\u001b[1;33m,\u001b[0m \u001b[0moindex\u001b[0m\u001b[1;33m.\u001b[0m\u001b[0m_values\u001b[0m\u001b[1;33m,\u001b[0m \u001b[0mdefault\u001b[0m\u001b[1;33m=\u001b[0m\u001b[0mnp\u001b[0m\u001b[1;33m.\u001b[0m\u001b[0mnan\u001b[0m\u001b[1;33m)\u001b[0m\u001b[1;33m\u001b[0m\u001b[1;33m\u001b[0m\u001b[0m\n\u001b[1;32m--> 351\u001b[1;33m             val = sanitize_array(\n\u001b[0m\u001b[0;32m    352\u001b[0m                 \u001b[0mval\u001b[0m\u001b[1;33m,\u001b[0m \u001b[0mindex\u001b[0m\u001b[1;33m,\u001b[0m \u001b[0mdtype\u001b[0m\u001b[1;33m=\u001b[0m\u001b[0mdtype\u001b[0m\u001b[1;33m,\u001b[0m \u001b[0mcopy\u001b[0m\u001b[1;33m=\u001b[0m\u001b[1;32mFalse\u001b[0m\u001b[1;33m,\u001b[0m \u001b[0mraise_cast_failure\u001b[0m\u001b[1;33m=\u001b[0m\u001b[1;32mFalse\u001b[0m\u001b[1;33m\u001b[0m\u001b[1;33m\u001b[0m\u001b[0m\n\u001b[0;32m    353\u001b[0m             )\n",
      "\u001b[1;32mD:\\Software\\anaconda3\\lib\\site-packages\\pandas\\core\\construction.py\u001b[0m in \u001b[0;36msanitize_array\u001b[1;34m(data, index, dtype, copy, raise_cast_failure)\u001b[0m\n\u001b[0;32m    441\u001b[0m         \u001b[1;32mif\u001b[0m \u001b[0misinstance\u001b[0m\u001b[1;33m(\u001b[0m\u001b[0mdata\u001b[0m\u001b[1;33m,\u001b[0m \u001b[0mset\u001b[0m\u001b[1;33m)\u001b[0m\u001b[1;33m:\u001b[0m\u001b[1;33m\u001b[0m\u001b[1;33m\u001b[0m\u001b[0m\n\u001b[0;32m    442\u001b[0m             \u001b[1;31m# Raise only for unordered sets, e.g., not for dict_keys\u001b[0m\u001b[1;33m\u001b[0m\u001b[1;33m\u001b[0m\u001b[1;33m\u001b[0m\u001b[0m\n\u001b[1;32m--> 443\u001b[1;33m             \u001b[1;32mraise\u001b[0m \u001b[0mTypeError\u001b[0m\u001b[1;33m(\u001b[0m\u001b[1;34m\"Set type is unordered\"\u001b[0m\u001b[1;33m)\u001b[0m\u001b[1;33m\u001b[0m\u001b[1;33m\u001b[0m\u001b[0m\n\u001b[0m\u001b[0;32m    444\u001b[0m         \u001b[0mdata\u001b[0m \u001b[1;33m=\u001b[0m \u001b[0mlist\u001b[0m\u001b[1;33m(\u001b[0m\u001b[0mdata\u001b[0m\u001b[1;33m)\u001b[0m\u001b[1;33m\u001b[0m\u001b[1;33m\u001b[0m\u001b[0m\n\u001b[0;32m    445\u001b[0m \u001b[1;33m\u001b[0m\u001b[0m\n",
      "\u001b[1;31mTypeError\u001b[0m: Set type is unordered"
     ]
    }
   ],
   "source": [
    "dftest = pd.DataFrame({\"c2\": {1.2, 0.5, 3.1, \"tree\"}})"
   ]
  },
  {
   "cell_type": "code",
   "execution_count": 93,
   "metadata": {},
   "outputs": [
    {
     "data": {
      "text/plain": [
       "set"
      ]
     },
     "execution_count": 93,
     "metadata": {},
     "output_type": "execute_result"
    }
   ],
   "source": [
    "type({1.2, 0.5, 3.1, \"tree\"})"
   ]
  },
  {
   "cell_type": "markdown",
   "metadata": {},
   "source": [
    "### Exploring data in a DataFrame\n",
    "We can access the index of a dataframe as follows:"
   ]
  },
  {
   "cell_type": "code",
   "execution_count": 67,
   "metadata": {},
   "outputs": [
    {
     "data": {
      "text/plain": [
       "DatetimeIndex(['2015-01-25', '2015-01-26', '2015-01-27', '2015-01-28',\n",
       "               '2015-01-29', '2015-01-30', '2015-01-31'],\n",
       "              dtype='datetime64[ns]', freq='D')"
      ]
     },
     "execution_count": 67,
     "metadata": {},
     "output_type": "execute_result"
    }
   ],
   "source": [
    "df.index"
   ]
  },
  {
   "cell_type": "markdown",
   "metadata": {},
   "source": [
    "<font color='red'>To-do:</font> Print out the datatypes of columns in df4. "
   ]
  },
  {
   "cell_type": "code",
   "execution_count": 69,
   "metadata": {},
   "outputs": [
    {
     "data": {
      "text/plain": [
       "A           float64\n",
       "B    datetime64[ns]\n",
       "C           float32\n",
       "D             int32\n",
       "E          category\n",
       "F            object\n",
       "dtype: object"
      ]
     },
     "execution_count": 69,
     "metadata": {},
     "output_type": "execute_result"
    }
   ],
   "source": [
    "df4.dtypes"
   ]
  },
  {
   "cell_type": "markdown",
   "metadata": {},
   "source": [
    "What do you see for c2? You can see that pandas tries to find a common object type. This is great but this flexibility can also result in runtime errors.  Make sure you are careful with the use of data types."
   ]
  },
  {
   "cell_type": "markdown",
   "metadata": {},
   "source": [
    "A few other basic operations:"
   ]
  },
  {
   "cell_type": "code",
   "execution_count": null,
   "metadata": {},
   "outputs": [
    {
     "data": {
      "text/plain": [
       "array([[-1.56525751,  0.47884924,  0.43971897,  0.24117685],\n",
       "       [-1.15701686,  1.20866065, -0.44485132, -0.08569942],\n",
       "       [-0.95318202,  0.69626462,  2.05079672,  0.72093192],\n",
       "       [ 1.34843118, -0.47707926, -0.62030739,  0.37340474],\n",
       "       [-0.98605809, -0.82101997,  0.06792945,  0.72206496],\n",
       "       [-0.77213966, -0.11765859, -2.20098501, -0.72340018],\n",
       "       [ 0.95935785,  0.70179348, -1.60533725, -0.61658203]])"
      ]
     },
     "execution_count": 12,
     "metadata": {},
     "output_type": "execute_result"
    }
   ],
   "source": [
    "df.values"
   ]
  },
  {
   "cell_type": "code",
   "execution_count": null,
   "metadata": {},
   "outputs": [
    {
     "data": {
      "text/html": [
       "<div>\n",
       "<style scoped>\n",
       "    .dataframe tbody tr th:only-of-type {\n",
       "        vertical-align: middle;\n",
       "    }\n",
       "\n",
       "    .dataframe tbody tr th {\n",
       "        vertical-align: top;\n",
       "    }\n",
       "\n",
       "    .dataframe thead th {\n",
       "        text-align: right;\n",
       "    }\n",
       "</style>\n",
       "<table border=\"1\" class=\"dataframe\">\n",
       "  <thead>\n",
       "    <tr style=\"text-align: right;\">\n",
       "      <th></th>\n",
       "      <th>col1</th>\n",
       "      <th>col2</th>\n",
       "      <th>col4</th>\n",
       "      <th>col3</th>\n",
       "    </tr>\n",
       "  </thead>\n",
       "  <tbody>\n",
       "    <tr>\n",
       "      <th>count</th>\n",
       "      <td>7.000000</td>\n",
       "      <td>7.000000</td>\n",
       "      <td>7.000000</td>\n",
       "      <td>7.000000</td>\n",
       "    </tr>\n",
       "    <tr>\n",
       "      <th>mean</th>\n",
       "      <td>0.032236</td>\n",
       "      <td>-0.199913</td>\n",
       "      <td>1.039976</td>\n",
       "      <td>0.010316</td>\n",
       "    </tr>\n",
       "    <tr>\n",
       "      <th>std</th>\n",
       "      <td>0.534280</td>\n",
       "      <td>0.757777</td>\n",
       "      <td>0.939818</td>\n",
       "      <td>0.769947</td>\n",
       "    </tr>\n",
       "    <tr>\n",
       "      <th>min</th>\n",
       "      <td>-0.658019</td>\n",
       "      <td>-1.009633</td>\n",
       "      <td>-0.014763</td>\n",
       "      <td>-1.336276</td>\n",
       "    </tr>\n",
       "    <tr>\n",
       "      <th>25%</th>\n",
       "      <td>-0.392661</td>\n",
       "      <td>-0.822406</td>\n",
       "      <td>0.438829</td>\n",
       "      <td>-0.276459</td>\n",
       "    </tr>\n",
       "    <tr>\n",
       "      <th>50%</th>\n",
       "      <td>0.076587</td>\n",
       "      <td>-0.007301</td>\n",
       "      <td>0.864404</td>\n",
       "      <td>0.037950</td>\n",
       "    </tr>\n",
       "    <tr>\n",
       "      <th>75%</th>\n",
       "      <td>0.514638</td>\n",
       "      <td>0.060768</td>\n",
       "      <td>1.443175</td>\n",
       "      <td>0.424561</td>\n",
       "    </tr>\n",
       "    <tr>\n",
       "      <th>max</th>\n",
       "      <td>0.563130</td>\n",
       "      <td>1.140814</td>\n",
       "      <td>2.666186</td>\n",
       "      <td>1.074339</td>\n",
       "    </tr>\n",
       "  </tbody>\n",
       "</table>\n",
       "</div>"
      ],
      "text/plain": [
       "           col1      col2      col4      col3\n",
       "count  7.000000  7.000000  7.000000  7.000000\n",
       "mean   0.032236 -0.199913  1.039976  0.010316\n",
       "std    0.534280  0.757777  0.939818  0.769947\n",
       "min   -0.658019 -1.009633 -0.014763 -1.336276\n",
       "25%   -0.392661 -0.822406  0.438829 -0.276459\n",
       "50%    0.076587 -0.007301  0.864404  0.037950\n",
       "75%    0.514638  0.060768  1.443175  0.424561\n",
       "max    0.563130  1.140814  2.666186  1.074339"
      ]
     },
     "execution_count": 21,
     "metadata": {},
     "output_type": "execute_result"
    }
   ],
   "source": [
    "df.describe()"
   ]
  },
  {
   "cell_type": "markdown",
   "metadata": {},
   "source": [
    "<font color='red'>To-do:</font> Print the column names for df."
   ]
  },
  {
   "cell_type": "code",
   "execution_count": 87,
   "metadata": {},
   "outputs": [
    {
     "data": {
      "text/plain": [
       "Index(['col1', 'col2', 'col4', 'col3'], dtype='object')"
      ]
     },
     "execution_count": 87,
     "metadata": {},
     "output_type": "execute_result"
    }
   ],
   "source": [
    "df.columns"
   ]
  },
  {
   "cell_type": "markdown",
   "metadata": {},
   "source": [
    "<font color='red'>To-do:</font> Change the column names of df2 to A,B,C and D in order."
   ]
  },
  {
   "cell_type": "code",
   "execution_count": 88,
   "metadata": {},
   "outputs": [
    {
     "data": {
      "text/html": [
       "<div>\n",
       "<style scoped>\n",
       "    .dataframe tbody tr th:only-of-type {\n",
       "        vertical-align: middle;\n",
       "    }\n",
       "\n",
       "    .dataframe tbody tr th {\n",
       "        vertical-align: top;\n",
       "    }\n",
       "\n",
       "    .dataframe thead th {\n",
       "        text-align: right;\n",
       "    }\n",
       "</style>\n",
       "<table border=\"1\" class=\"dataframe\">\n",
       "  <thead>\n",
       "    <tr style=\"text-align: right;\">\n",
       "      <th></th>\n",
       "      <th>A</th>\n",
       "      <th>B</th>\n",
       "      <th>C</th>\n",
       "      <th>D</th>\n",
       "    </tr>\n",
       "  </thead>\n",
       "  <tbody>\n",
       "    <tr>\n",
       "      <th>2021-09-05 16:00:00</th>\n",
       "      <td>1.562635</td>\n",
       "      <td>-0.710652</td>\n",
       "      <td>0.575682</td>\n",
       "      <td>-0.031795</td>\n",
       "    </tr>\n",
       "    <tr>\n",
       "      <th>2021-09-12 16:00:00</th>\n",
       "      <td>-1.448286</td>\n",
       "      <td>-0.039087</td>\n",
       "      <td>0.001811</td>\n",
       "      <td>0.099392</td>\n",
       "    </tr>\n",
       "    <tr>\n",
       "      <th>2021-09-19 16:00:00</th>\n",
       "      <td>0.180702</td>\n",
       "      <td>0.693268</td>\n",
       "      <td>0.356155</td>\n",
       "      <td>-1.094452</td>\n",
       "    </tr>\n",
       "    <tr>\n",
       "      <th>2021-09-26 16:00:00</th>\n",
       "      <td>-2.157729</td>\n",
       "      <td>-0.758493</td>\n",
       "      <td>-2.009010</td>\n",
       "      <td>0.781928</td>\n",
       "    </tr>\n",
       "    <tr>\n",
       "      <th>2021-10-03 16:00:00</th>\n",
       "      <td>0.437708</td>\n",
       "      <td>-0.443544</td>\n",
       "      <td>-0.660354</td>\n",
       "      <td>1.104733</td>\n",
       "    </tr>\n",
       "    <tr>\n",
       "      <th>2021-10-10 16:00:00</th>\n",
       "      <td>-1.425657</td>\n",
       "      <td>0.501557</td>\n",
       "      <td>-0.005280</td>\n",
       "      <td>0.554903</td>\n",
       "    </tr>\n",
       "    <tr>\n",
       "      <th>2021-10-17 16:00:00</th>\n",
       "      <td>0.791421</td>\n",
       "      <td>-0.653847</td>\n",
       "      <td>-0.559359</td>\n",
       "      <td>2.318529</td>\n",
       "    </tr>\n",
       "    <tr>\n",
       "      <th>2021-10-24 16:00:00</th>\n",
       "      <td>-0.453007</td>\n",
       "      <td>-1.690149</td>\n",
       "      <td>-0.385619</td>\n",
       "      <td>0.199696</td>\n",
       "    </tr>\n",
       "    <tr>\n",
       "      <th>2021-10-31 16:00:00</th>\n",
       "      <td>0.500273</td>\n",
       "      <td>0.285085</td>\n",
       "      <td>-0.315206</td>\n",
       "      <td>-1.724247</td>\n",
       "    </tr>\n",
       "    <tr>\n",
       "      <th>2021-11-07 16:00:00</th>\n",
       "      <td>-0.025939</td>\n",
       "      <td>-0.939415</td>\n",
       "      <td>0.691047</td>\n",
       "      <td>0.866765</td>\n",
       "    </tr>\n",
       "    <tr>\n",
       "      <th>2021-11-14 16:00:00</th>\n",
       "      <td>-0.456320</td>\n",
       "      <td>0.090135</td>\n",
       "      <td>1.184989</td>\n",
       "      <td>-1.209700</td>\n",
       "    </tr>\n",
       "    <tr>\n",
       "      <th>2021-11-21 16:00:00</th>\n",
       "      <td>-1.023213</td>\n",
       "      <td>-2.436086</td>\n",
       "      <td>0.798384</td>\n",
       "      <td>-0.088224</td>\n",
       "    </tr>\n",
       "    <tr>\n",
       "      <th>2021-11-28 16:00:00</th>\n",
       "      <td>1.023786</td>\n",
       "      <td>0.615030</td>\n",
       "      <td>-0.411781</td>\n",
       "      <td>0.147136</td>\n",
       "    </tr>\n",
       "    <tr>\n",
       "      <th>2021-12-05 16:00:00</th>\n",
       "      <td>-0.290809</td>\n",
       "      <td>-1.066685</td>\n",
       "      <td>0.779950</td>\n",
       "      <td>0.881381</td>\n",
       "    </tr>\n",
       "    <tr>\n",
       "      <th>2021-12-12 16:00:00</th>\n",
       "      <td>0.219873</td>\n",
       "      <td>-0.147370</td>\n",
       "      <td>1.028911</td>\n",
       "      <td>-1.086468</td>\n",
       "    </tr>\n",
       "  </tbody>\n",
       "</table>\n",
       "</div>"
      ],
      "text/plain": [
       "                            A         B         C         D\n",
       "2021-09-05 16:00:00  1.562635 -0.710652  0.575682 -0.031795\n",
       "2021-09-12 16:00:00 -1.448286 -0.039087  0.001811  0.099392\n",
       "2021-09-19 16:00:00  0.180702  0.693268  0.356155 -1.094452\n",
       "2021-09-26 16:00:00 -2.157729 -0.758493 -2.009010  0.781928\n",
       "2021-10-03 16:00:00  0.437708 -0.443544 -0.660354  1.104733\n",
       "2021-10-10 16:00:00 -1.425657  0.501557 -0.005280  0.554903\n",
       "2021-10-17 16:00:00  0.791421 -0.653847 -0.559359  2.318529\n",
       "2021-10-24 16:00:00 -0.453007 -1.690149 -0.385619  0.199696\n",
       "2021-10-31 16:00:00  0.500273  0.285085 -0.315206 -1.724247\n",
       "2021-11-07 16:00:00 -0.025939 -0.939415  0.691047  0.866765\n",
       "2021-11-14 16:00:00 -0.456320  0.090135  1.184989 -1.209700\n",
       "2021-11-21 16:00:00 -1.023213 -2.436086  0.798384 -0.088224\n",
       "2021-11-28 16:00:00  1.023786  0.615030 -0.411781  0.147136\n",
       "2021-12-05 16:00:00 -0.290809 -1.066685  0.779950  0.881381\n",
       "2021-12-12 16:00:00  0.219873 -0.147370  1.028911 -1.086468"
      ]
     },
     "execution_count": 88,
     "metadata": {},
     "output_type": "execute_result"
    }
   ],
   "source": [
    "df2.columns = [\"A\", \"B\", \"C\", \"D\"]\n",
    "df2"
   ]
  },
  {
   "cell_type": "markdown",
   "metadata": {},
   "source": [
    "### Some basic data transformations\n",
    "DataFrames have a built-in transpose"
   ]
  },
  {
   "cell_type": "code",
   "execution_count": 89,
   "metadata": {},
   "outputs": [
    {
     "data": {
      "text/html": [
       "<div>\n",
       "<style scoped>\n",
       "    .dataframe tbody tr th:only-of-type {\n",
       "        vertical-align: middle;\n",
       "    }\n",
       "\n",
       "    .dataframe tbody tr th {\n",
       "        vertical-align: top;\n",
       "    }\n",
       "\n",
       "    .dataframe thead th {\n",
       "        text-align: right;\n",
       "    }\n",
       "</style>\n",
       "<table border=\"1\" class=\"dataframe\">\n",
       "  <thead>\n",
       "    <tr style=\"text-align: right;\">\n",
       "      <th></th>\n",
       "      <th>2015-01-25</th>\n",
       "      <th>2015-01-26</th>\n",
       "      <th>2015-01-27</th>\n",
       "      <th>2015-01-28</th>\n",
       "      <th>2015-01-29</th>\n",
       "      <th>2015-01-30</th>\n",
       "      <th>2015-01-31</th>\n",
       "    </tr>\n",
       "  </thead>\n",
       "  <tbody>\n",
       "    <tr>\n",
       "      <th>col1</th>\n",
       "      <td>0.132419</td>\n",
       "      <td>0.551210</td>\n",
       "      <td>-3.066199</td>\n",
       "      <td>-0.931278</td>\n",
       "      <td>0.007473</td>\n",
       "      <td>0.239541</td>\n",
       "      <td>-1.940643</td>\n",
       "    </tr>\n",
       "    <tr>\n",
       "      <th>col2</th>\n",
       "      <td>1.112387</td>\n",
       "      <td>-0.721437</td>\n",
       "      <td>-1.494748</td>\n",
       "      <td>0.992433</td>\n",
       "      <td>-1.428318</td>\n",
       "      <td>1.071332</td>\n",
       "      <td>-1.365024</td>\n",
       "    </tr>\n",
       "    <tr>\n",
       "      <th>col4</th>\n",
       "      <td>-1.351644</td>\n",
       "      <td>-0.821639</td>\n",
       "      <td>-0.171880</td>\n",
       "      <td>0.477195</td>\n",
       "      <td>-0.654668</td>\n",
       "      <td>0.693687</td>\n",
       "      <td>-0.056047</td>\n",
       "    </tr>\n",
       "    <tr>\n",
       "      <th>col3</th>\n",
       "      <td>0.622150</td>\n",
       "      <td>-1.040171</td>\n",
       "      <td>0.455236</td>\n",
       "      <td>0.868746</td>\n",
       "      <td>0.389609</td>\n",
       "      <td>0.395706</td>\n",
       "      <td>-2.457060</td>\n",
       "    </tr>\n",
       "  </tbody>\n",
       "</table>\n",
       "</div>"
      ],
      "text/plain": [
       "      2015-01-25  2015-01-26  2015-01-27  2015-01-28  2015-01-29  2015-01-30  \\\n",
       "col1    0.132419    0.551210   -3.066199   -0.931278    0.007473    0.239541   \n",
       "col2    1.112387   -0.721437   -1.494748    0.992433   -1.428318    1.071332   \n",
       "col4   -1.351644   -0.821639   -0.171880    0.477195   -0.654668    0.693687   \n",
       "col3    0.622150   -1.040171    0.455236    0.868746    0.389609    0.395706   \n",
       "\n",
       "      2015-01-31  \n",
       "col1   -1.940643  \n",
       "col2   -1.365024  \n",
       "col4   -0.056047  \n",
       "col3   -2.457060  "
      ]
     },
     "execution_count": 89,
     "metadata": {},
     "output_type": "execute_result"
    }
   ],
   "source": [
    "df.T"
   ]
  },
  {
   "cell_type": "markdown",
   "metadata": {},
   "source": [
    "We can also sort a DataFrame along a given data dimension. For example, we might want to sort by the values in the second column:"
   ]
  },
  {
   "cell_type": "code",
   "execution_count": 90,
   "metadata": {},
   "outputs": [
    {
     "data": {
      "text/html": [
       "<div>\n",
       "<style scoped>\n",
       "    .dataframe tbody tr th:only-of-type {\n",
       "        vertical-align: middle;\n",
       "    }\n",
       "\n",
       "    .dataframe tbody tr th {\n",
       "        vertical-align: top;\n",
       "    }\n",
       "\n",
       "    .dataframe thead th {\n",
       "        text-align: right;\n",
       "    }\n",
       "</style>\n",
       "<table border=\"1\" class=\"dataframe\">\n",
       "  <thead>\n",
       "    <tr style=\"text-align: right;\">\n",
       "      <th></th>\n",
       "      <th>col1</th>\n",
       "      <th>col2</th>\n",
       "      <th>col4</th>\n",
       "      <th>col3</th>\n",
       "    </tr>\n",
       "  </thead>\n",
       "  <tbody>\n",
       "    <tr>\n",
       "      <th>2015-01-27</th>\n",
       "      <td>-3.066199</td>\n",
       "      <td>-1.494748</td>\n",
       "      <td>-0.171880</td>\n",
       "      <td>0.455236</td>\n",
       "    </tr>\n",
       "    <tr>\n",
       "      <th>2015-01-29</th>\n",
       "      <td>0.007473</td>\n",
       "      <td>-1.428318</td>\n",
       "      <td>-0.654668</td>\n",
       "      <td>0.389609</td>\n",
       "    </tr>\n",
       "    <tr>\n",
       "      <th>2015-01-31</th>\n",
       "      <td>-1.940643</td>\n",
       "      <td>-1.365024</td>\n",
       "      <td>-0.056047</td>\n",
       "      <td>-2.457060</td>\n",
       "    </tr>\n",
       "    <tr>\n",
       "      <th>2015-01-26</th>\n",
       "      <td>0.551210</td>\n",
       "      <td>-0.721437</td>\n",
       "      <td>-0.821639</td>\n",
       "      <td>-1.040171</td>\n",
       "    </tr>\n",
       "    <tr>\n",
       "      <th>2015-01-28</th>\n",
       "      <td>-0.931278</td>\n",
       "      <td>0.992433</td>\n",
       "      <td>0.477195</td>\n",
       "      <td>0.868746</td>\n",
       "    </tr>\n",
       "    <tr>\n",
       "      <th>2015-01-30</th>\n",
       "      <td>0.239541</td>\n",
       "      <td>1.071332</td>\n",
       "      <td>0.693687</td>\n",
       "      <td>0.395706</td>\n",
       "    </tr>\n",
       "    <tr>\n",
       "      <th>2015-01-25</th>\n",
       "      <td>0.132419</td>\n",
       "      <td>1.112387</td>\n",
       "      <td>-1.351644</td>\n",
       "      <td>0.622150</td>\n",
       "    </tr>\n",
       "  </tbody>\n",
       "</table>\n",
       "</div>"
      ],
      "text/plain": [
       "                col1      col2      col4      col3\n",
       "2015-01-27 -3.066199 -1.494748 -0.171880  0.455236\n",
       "2015-01-29  0.007473 -1.428318 -0.654668  0.389609\n",
       "2015-01-31 -1.940643 -1.365024 -0.056047 -2.457060\n",
       "2015-01-26  0.551210 -0.721437 -0.821639 -1.040171\n",
       "2015-01-28 -0.931278  0.992433  0.477195  0.868746\n",
       "2015-01-30  0.239541  1.071332  0.693687  0.395706\n",
       "2015-01-25  0.132419  1.112387 -1.351644  0.622150"
      ]
     },
     "execution_count": 90,
     "metadata": {},
     "output_type": "execute_result"
    }
   ],
   "source": [
    "df.sort_values(by=['col2'])"
   ]
  },
  {
   "cell_type": "markdown",
   "metadata": {},
   "source": [
    "We can also sort the rows (axis = 0) by their index values:"
   ]
  },
  {
   "cell_type": "code",
   "execution_count": 91,
   "metadata": {},
   "outputs": [
    {
     "data": {
      "text/html": [
       "<div>\n",
       "<style scoped>\n",
       "    .dataframe tbody tr th:only-of-type {\n",
       "        vertical-align: middle;\n",
       "    }\n",
       "\n",
       "    .dataframe tbody tr th {\n",
       "        vertical-align: top;\n",
       "    }\n",
       "\n",
       "    .dataframe thead th {\n",
       "        text-align: right;\n",
       "    }\n",
       "</style>\n",
       "<table border=\"1\" class=\"dataframe\">\n",
       "  <thead>\n",
       "    <tr style=\"text-align: right;\">\n",
       "      <th></th>\n",
       "      <th>col1</th>\n",
       "      <th>col2</th>\n",
       "      <th>col4</th>\n",
       "      <th>col3</th>\n",
       "    </tr>\n",
       "  </thead>\n",
       "  <tbody>\n",
       "    <tr>\n",
       "      <th>2015-01-31</th>\n",
       "      <td>-1.940643</td>\n",
       "      <td>-1.365024</td>\n",
       "      <td>-0.056047</td>\n",
       "      <td>-2.457060</td>\n",
       "    </tr>\n",
       "    <tr>\n",
       "      <th>2015-01-30</th>\n",
       "      <td>0.239541</td>\n",
       "      <td>1.071332</td>\n",
       "      <td>0.693687</td>\n",
       "      <td>0.395706</td>\n",
       "    </tr>\n",
       "    <tr>\n",
       "      <th>2015-01-29</th>\n",
       "      <td>0.007473</td>\n",
       "      <td>-1.428318</td>\n",
       "      <td>-0.654668</td>\n",
       "      <td>0.389609</td>\n",
       "    </tr>\n",
       "    <tr>\n",
       "      <th>2015-01-28</th>\n",
       "      <td>-0.931278</td>\n",
       "      <td>0.992433</td>\n",
       "      <td>0.477195</td>\n",
       "      <td>0.868746</td>\n",
       "    </tr>\n",
       "    <tr>\n",
       "      <th>2015-01-27</th>\n",
       "      <td>-3.066199</td>\n",
       "      <td>-1.494748</td>\n",
       "      <td>-0.171880</td>\n",
       "      <td>0.455236</td>\n",
       "    </tr>\n",
       "    <tr>\n",
       "      <th>2015-01-26</th>\n",
       "      <td>0.551210</td>\n",
       "      <td>-0.721437</td>\n",
       "      <td>-0.821639</td>\n",
       "      <td>-1.040171</td>\n",
       "    </tr>\n",
       "    <tr>\n",
       "      <th>2015-01-25</th>\n",
       "      <td>0.132419</td>\n",
       "      <td>1.112387</td>\n",
       "      <td>-1.351644</td>\n",
       "      <td>0.622150</td>\n",
       "    </tr>\n",
       "  </tbody>\n",
       "</table>\n",
       "</div>"
      ],
      "text/plain": [
       "                col1      col2      col4      col3\n",
       "2015-01-31 -1.940643 -1.365024 -0.056047 -2.457060\n",
       "2015-01-30  0.239541  1.071332  0.693687  0.395706\n",
       "2015-01-29  0.007473 -1.428318 -0.654668  0.389609\n",
       "2015-01-28 -0.931278  0.992433  0.477195  0.868746\n",
       "2015-01-27 -3.066199 -1.494748 -0.171880  0.455236\n",
       "2015-01-26  0.551210 -0.721437 -0.821639 -1.040171\n",
       "2015-01-25  0.132419  1.112387 -1.351644  0.622150"
      ]
     },
     "execution_count": 91,
     "metadata": {},
     "output_type": "execute_result"
    }
   ],
   "source": [
    "df.sort_index(axis=0, ascending=False)"
   ]
  },
  {
   "cell_type": "markdown",
   "metadata": {},
   "source": [
    "<font color='red'>To-do:</font> Sort df according to column header values using df.sort_index."
   ]
  },
  {
   "cell_type": "code",
   "execution_count": 92,
   "metadata": {},
   "outputs": [
    {
     "data": {
      "text/html": [
       "<div>\n",
       "<style scoped>\n",
       "    .dataframe tbody tr th:only-of-type {\n",
       "        vertical-align: middle;\n",
       "    }\n",
       "\n",
       "    .dataframe tbody tr th {\n",
       "        vertical-align: top;\n",
       "    }\n",
       "\n",
       "    .dataframe thead th {\n",
       "        text-align: right;\n",
       "    }\n",
       "</style>\n",
       "<table border=\"1\" class=\"dataframe\">\n",
       "  <thead>\n",
       "    <tr style=\"text-align: right;\">\n",
       "      <th></th>\n",
       "      <th>col1</th>\n",
       "      <th>col2</th>\n",
       "      <th>col4</th>\n",
       "      <th>col3</th>\n",
       "    </tr>\n",
       "  </thead>\n",
       "  <tbody>\n",
       "    <tr>\n",
       "      <th>2015-01-25</th>\n",
       "      <td>0.132419</td>\n",
       "      <td>1.112387</td>\n",
       "      <td>-1.351644</td>\n",
       "      <td>0.622150</td>\n",
       "    </tr>\n",
       "    <tr>\n",
       "      <th>2015-01-26</th>\n",
       "      <td>0.551210</td>\n",
       "      <td>-0.721437</td>\n",
       "      <td>-0.821639</td>\n",
       "      <td>-1.040171</td>\n",
       "    </tr>\n",
       "    <tr>\n",
       "      <th>2015-01-27</th>\n",
       "      <td>-3.066199</td>\n",
       "      <td>-1.494748</td>\n",
       "      <td>-0.171880</td>\n",
       "      <td>0.455236</td>\n",
       "    </tr>\n",
       "    <tr>\n",
       "      <th>2015-01-28</th>\n",
       "      <td>-0.931278</td>\n",
       "      <td>0.992433</td>\n",
       "      <td>0.477195</td>\n",
       "      <td>0.868746</td>\n",
       "    </tr>\n",
       "    <tr>\n",
       "      <th>2015-01-29</th>\n",
       "      <td>0.007473</td>\n",
       "      <td>-1.428318</td>\n",
       "      <td>-0.654668</td>\n",
       "      <td>0.389609</td>\n",
       "    </tr>\n",
       "    <tr>\n",
       "      <th>2015-01-30</th>\n",
       "      <td>0.239541</td>\n",
       "      <td>1.071332</td>\n",
       "      <td>0.693687</td>\n",
       "      <td>0.395706</td>\n",
       "    </tr>\n",
       "    <tr>\n",
       "      <th>2015-01-31</th>\n",
       "      <td>-1.940643</td>\n",
       "      <td>-1.365024</td>\n",
       "      <td>-0.056047</td>\n",
       "      <td>-2.457060</td>\n",
       "    </tr>\n",
       "  </tbody>\n",
       "</table>\n",
       "</div>"
      ],
      "text/plain": [
       "                col1      col2      col4      col3\n",
       "2015-01-25  0.132419  1.112387 -1.351644  0.622150\n",
       "2015-01-26  0.551210 -0.721437 -0.821639 -1.040171\n",
       "2015-01-27 -3.066199 -1.494748 -0.171880  0.455236\n",
       "2015-01-28 -0.931278  0.992433  0.477195  0.868746\n",
       "2015-01-29  0.007473 -1.428318 -0.654668  0.389609\n",
       "2015-01-30  0.239541  1.071332  0.693687  0.395706\n",
       "2015-01-31 -1.940643 -1.365024 -0.056047 -2.457060"
      ]
     },
     "execution_count": 92,
     "metadata": {},
     "output_type": "execute_result"
    }
   ],
   "source": [
    "df.sort_index()"
   ]
  },
  {
   "cell_type": "markdown",
   "metadata": {},
   "source": [
    "### Selection\n",
    "To select only only the first few rows of a DataFrame, use the .head() function, or tail to get the last few rows. These functions by default return 5 rows but you can change that."
   ]
  },
  {
   "cell_type": "code",
   "execution_count": null,
   "metadata": {},
   "outputs": [
    {
     "data": {
      "text/html": [
       "<div>\n",
       "<style scoped>\n",
       "    .dataframe tbody tr th:only-of-type {\n",
       "        vertical-align: middle;\n",
       "    }\n",
       "\n",
       "    .dataframe tbody tr th {\n",
       "        vertical-align: top;\n",
       "    }\n",
       "\n",
       "    .dataframe thead th {\n",
       "        text-align: right;\n",
       "    }\n",
       "</style>\n",
       "<table border=\"1\" class=\"dataframe\">\n",
       "  <thead>\n",
       "    <tr style=\"text-align: right;\">\n",
       "      <th></th>\n",
       "      <th>col1</th>\n",
       "      <th>col2</th>\n",
       "      <th>col4</th>\n",
       "      <th>col3</th>\n",
       "    </tr>\n",
       "  </thead>\n",
       "  <tbody>\n",
       "    <tr>\n",
       "      <th>2015-01-25</th>\n",
       "      <td>1.169508</td>\n",
       "      <td>-0.212093</td>\n",
       "      <td>1.473943</td>\n",
       "      <td>-0.041706</td>\n",
       "    </tr>\n",
       "    <tr>\n",
       "      <th>2015-01-26</th>\n",
       "      <td>-1.125070</td>\n",
       "      <td>1.489873</td>\n",
       "      <td>-0.291176</td>\n",
       "      <td>0.212922</td>\n",
       "    </tr>\n",
       "    <tr>\n",
       "      <th>2015-01-27</th>\n",
       "      <td>-0.360527</td>\n",
       "      <td>-0.993890</td>\n",
       "      <td>-0.515548</td>\n",
       "      <td>-0.732518</td>\n",
       "    </tr>\n",
       "    <tr>\n",
       "      <th>2015-01-28</th>\n",
       "      <td>0.636781</td>\n",
       "      <td>1.122845</td>\n",
       "      <td>0.250235</td>\n",
       "      <td>0.260566</td>\n",
       "    </tr>\n",
       "    <tr>\n",
       "      <th>2015-01-29</th>\n",
       "      <td>-0.541771</td>\n",
       "      <td>0.028655</td>\n",
       "      <td>-0.418725</td>\n",
       "      <td>0.439577</td>\n",
       "    </tr>\n",
       "  </tbody>\n",
       "</table>\n",
       "</div>"
      ],
      "text/plain": [
       "                col1      col2      col4      col3\n",
       "2015-01-25  1.169508 -0.212093  1.473943 -0.041706\n",
       "2015-01-26 -1.125070  1.489873 -0.291176  0.212922\n",
       "2015-01-27 -0.360527 -0.993890 -0.515548 -0.732518\n",
       "2015-01-28  0.636781  1.122845  0.250235  0.260566\n",
       "2015-01-29 -0.541771  0.028655 -0.418725  0.439577"
      ]
     },
     "execution_count": 134,
     "metadata": {},
     "output_type": "execute_result"
    }
   ],
   "source": [
    "df.head()"
   ]
  },
  {
   "cell_type": "markdown",
   "metadata": {},
   "source": [
    "<font color='red'>To-do:</font> Get the last 3 rows in df."
   ]
  },
  {
   "cell_type": "code",
   "execution_count": null,
   "metadata": {},
   "outputs": [],
   "source": []
  },
  {
   "cell_type": "markdown",
   "metadata": {},
   "source": [
    "Selecting a single column yields a Series, equivalent to df.col1:"
   ]
  },
  {
   "cell_type": "code",
   "execution_count": null,
   "metadata": {},
   "outputs": [
    {
     "data": {
      "text/plain": [
       "2015-01-25    0.428971\n",
       "2015-01-26    0.533958\n",
       "2015-01-27    0.029070\n",
       "2015-01-28    0.394074\n",
       "2015-01-29   -0.783707\n",
       "2015-01-30    1.818847\n",
       "2015-01-31   -0.212324\n",
       "Freq: D, Name: col1, dtype: float64"
      ]
     },
     "execution_count": 21,
     "metadata": {},
     "output_type": "execute_result"
    }
   ],
   "source": [
    "df['col1']"
   ]
  },
  {
   "cell_type": "markdown",
   "metadata": {},
   "source": [
    "We can also select a subset of the rows using slicing. You can select either by integer indexing or by value:"
   ]
  },
  {
   "cell_type": "code",
   "execution_count": null,
   "metadata": {},
   "outputs": [
    {
     "data": {
      "text/html": [
       "<div>\n",
       "<style scoped>\n",
       "    .dataframe tbody tr th:only-of-type {\n",
       "        vertical-align: middle;\n",
       "    }\n",
       "\n",
       "    .dataframe tbody tr th {\n",
       "        vertical-align: top;\n",
       "    }\n",
       "\n",
       "    .dataframe thead th {\n",
       "        text-align: right;\n",
       "    }\n",
       "</style>\n",
       "<table border=\"1\" class=\"dataframe\">\n",
       "  <thead>\n",
       "    <tr style=\"text-align: right;\">\n",
       "      <th></th>\n",
       "      <th>col1</th>\n",
       "      <th>col2</th>\n",
       "      <th>col4</th>\n",
       "      <th>col3</th>\n",
       "    </tr>\n",
       "  </thead>\n",
       "  <tbody>\n",
       "    <tr>\n",
       "      <th>2015-01-26</th>\n",
       "      <td>0.533958</td>\n",
       "      <td>-1.771079</td>\n",
       "      <td>0.406799</td>\n",
       "      <td>0.464749</td>\n",
       "    </tr>\n",
       "    <tr>\n",
       "      <th>2015-01-27</th>\n",
       "      <td>0.029070</td>\n",
       "      <td>2.788811</td>\n",
       "      <td>0.039847</td>\n",
       "      <td>1.017054</td>\n",
       "    </tr>\n",
       "  </tbody>\n",
       "</table>\n",
       "</div>"
      ],
      "text/plain": [
       "                col1      col2      col4      col3\n",
       "2015-01-26  0.533958 -1.771079  0.406799  0.464749\n",
       "2015-01-27  0.029070  2.788811  0.039847  1.017054"
      ]
     },
     "execution_count": 22,
     "metadata": {},
     "output_type": "execute_result"
    }
   ],
   "source": [
    "df[1:3]"
   ]
  },
  {
   "cell_type": "code",
   "execution_count": null,
   "metadata": {},
   "outputs": [
    {
     "data": {
      "text/html": [
       "<div>\n",
       "<style scoped>\n",
       "    .dataframe tbody tr th:only-of-type {\n",
       "        vertical-align: middle;\n",
       "    }\n",
       "\n",
       "    .dataframe tbody tr th {\n",
       "        vertical-align: top;\n",
       "    }\n",
       "\n",
       "    .dataframe thead th {\n",
       "        text-align: right;\n",
       "    }\n",
       "</style>\n",
       "<table border=\"1\" class=\"dataframe\">\n",
       "  <thead>\n",
       "    <tr style=\"text-align: right;\">\n",
       "      <th></th>\n",
       "      <th>col1</th>\n",
       "      <th>col2</th>\n",
       "      <th>col4</th>\n",
       "      <th>col3</th>\n",
       "    </tr>\n",
       "  </thead>\n",
       "  <tbody>\n",
       "    <tr>\n",
       "      <th>2015-01-27</th>\n",
       "      <td>0.029070</td>\n",
       "      <td>2.788811</td>\n",
       "      <td>0.039847</td>\n",
       "      <td>1.017054</td>\n",
       "    </tr>\n",
       "    <tr>\n",
       "      <th>2015-01-28</th>\n",
       "      <td>0.394074</td>\n",
       "      <td>-0.256263</td>\n",
       "      <td>-1.237009</td>\n",
       "      <td>1.437256</td>\n",
       "    </tr>\n",
       "    <tr>\n",
       "      <th>2015-01-29</th>\n",
       "      <td>-0.783707</td>\n",
       "      <td>1.624465</td>\n",
       "      <td>0.175387</td>\n",
       "      <td>0.900945</td>\n",
       "    </tr>\n",
       "    <tr>\n",
       "      <th>2015-01-30</th>\n",
       "      <td>1.818847</td>\n",
       "      <td>-0.357406</td>\n",
       "      <td>0.472610</td>\n",
       "      <td>-0.759130</td>\n",
       "    </tr>\n",
       "  </tbody>\n",
       "</table>\n",
       "</div>"
      ],
      "text/plain": [
       "                col1      col2      col4      col3\n",
       "2015-01-27  0.029070  2.788811  0.039847  1.017054\n",
       "2015-01-28  0.394074 -0.256263 -1.237009  1.437256\n",
       "2015-01-29 -0.783707  1.624465  0.175387  0.900945\n",
       "2015-01-30  1.818847 -0.357406  0.472610 -0.759130"
      ]
     },
     "execution_count": 23,
     "metadata": {},
     "output_type": "execute_result"
    }
   ],
   "source": [
    "df['20150127':'20150130']"
   ]
  },
  {
   "cell_type": "markdown",
   "metadata": {},
   "source": [
    "To select more than one column at a time, try .loc[]):"
   ]
  },
  {
   "cell_type": "code",
   "execution_count": null,
   "metadata": {},
   "outputs": [
    {
     "data": {
      "text/html": [
       "<div>\n",
       "<style scoped>\n",
       "    .dataframe tbody tr th:only-of-type {\n",
       "        vertical-align: middle;\n",
       "    }\n",
       "\n",
       "    .dataframe tbody tr th {\n",
       "        vertical-align: top;\n",
       "    }\n",
       "\n",
       "    .dataframe thead th {\n",
       "        text-align: right;\n",
       "    }\n",
       "</style>\n",
       "<table border=\"1\" class=\"dataframe\">\n",
       "  <thead>\n",
       "    <tr style=\"text-align: right;\">\n",
       "      <th></th>\n",
       "      <th>col2</th>\n",
       "      <th>col4</th>\n",
       "    </tr>\n",
       "  </thead>\n",
       "  <tbody>\n",
       "    <tr>\n",
       "      <th>2015-01-25</th>\n",
       "      <td>-2.716061</td>\n",
       "      <td>0.169851</td>\n",
       "    </tr>\n",
       "    <tr>\n",
       "      <th>2015-01-26</th>\n",
       "      <td>-1.771079</td>\n",
       "      <td>0.406799</td>\n",
       "    </tr>\n",
       "    <tr>\n",
       "      <th>2015-01-27</th>\n",
       "      <td>2.788811</td>\n",
       "      <td>0.039847</td>\n",
       "    </tr>\n",
       "    <tr>\n",
       "      <th>2015-01-28</th>\n",
       "      <td>-0.256263</td>\n",
       "      <td>-1.237009</td>\n",
       "    </tr>\n",
       "    <tr>\n",
       "      <th>2015-01-29</th>\n",
       "      <td>1.624465</td>\n",
       "      <td>0.175387</td>\n",
       "    </tr>\n",
       "    <tr>\n",
       "      <th>2015-01-30</th>\n",
       "      <td>-0.357406</td>\n",
       "      <td>0.472610</td>\n",
       "    </tr>\n",
       "    <tr>\n",
       "      <th>2015-01-31</th>\n",
       "      <td>-0.690658</td>\n",
       "      <td>0.448218</td>\n",
       "    </tr>\n",
       "  </tbody>\n",
       "</table>\n",
       "</div>"
      ],
      "text/plain": [
       "                col2      col4\n",
       "2015-01-25 -2.716061  0.169851\n",
       "2015-01-26 -1.771079  0.406799\n",
       "2015-01-27  2.788811  0.039847\n",
       "2015-01-28 -0.256263 -1.237009\n",
       "2015-01-29  1.624465  0.175387\n",
       "2015-01-30 -0.357406  0.472610\n",
       "2015-01-31 -0.690658  0.448218"
      ]
     },
     "execution_count": 24,
     "metadata": {},
     "output_type": "execute_result"
    }
   ],
   "source": [
    "df.loc[:,['col2','col4']]"
   ]
  },
  {
   "cell_type": "markdown",
   "metadata": {},
   "source": [
    "You can select on rows and columns at the same time:"
   ]
  },
  {
   "cell_type": "markdown",
   "metadata": {},
   "source": [
    "<font color='red'>To-do:</font> You can select on rows and columns at the same time. Select rows from '20150127' through '20150130' and columns col3 and col1."
   ]
  },
  {
   "cell_type": "code",
   "execution_count": null,
   "metadata": {},
   "outputs": [],
   "source": []
  },
  {
   "cell_type": "markdown",
   "metadata": {},
   "source": [
    "You can also use boolean indexing to select subset of a dataframe that satisfies a requirement"
   ]
  },
  {
   "cell_type": "code",
   "execution_count": null,
   "metadata": {},
   "outputs": [
    {
     "data": {
      "text/html": [
       "<div>\n",
       "<style scoped>\n",
       "    .dataframe tbody tr th:only-of-type {\n",
       "        vertical-align: middle;\n",
       "    }\n",
       "\n",
       "    .dataframe tbody tr th {\n",
       "        vertical-align: top;\n",
       "    }\n",
       "\n",
       "    .dataframe thead th {\n",
       "        text-align: right;\n",
       "    }\n",
       "</style>\n",
       "<table border=\"1\" class=\"dataframe\">\n",
       "  <thead>\n",
       "    <tr style=\"text-align: right;\">\n",
       "      <th></th>\n",
       "      <th>col1</th>\n",
       "      <th>col2</th>\n",
       "      <th>col4</th>\n",
       "      <th>col3</th>\n",
       "    </tr>\n",
       "  </thead>\n",
       "  <tbody>\n",
       "    <tr>\n",
       "      <th>2015-01-28</th>\n",
       "      <td>1.094025</td>\n",
       "      <td>-0.432489</td>\n",
       "      <td>0.226241</td>\n",
       "      <td>-0.647203</td>\n",
       "    </tr>\n",
       "    <tr>\n",
       "      <th>2015-01-29</th>\n",
       "      <td>1.495063</td>\n",
       "      <td>-0.060964</td>\n",
       "      <td>0.733351</td>\n",
       "      <td>-0.044121</td>\n",
       "    </tr>\n",
       "  </tbody>\n",
       "</table>\n",
       "</div>"
      ],
      "text/plain": [
       "                col1      col2      col4      col3\n",
       "2015-01-28  1.094025 -0.432489  0.226241 -0.647203\n",
       "2015-01-29  1.495063 -0.060964  0.733351 -0.044121"
      ]
     },
     "execution_count": 152,
     "metadata": {},
     "output_type": "execute_result"
    }
   ],
   "source": [
    "df[df['col1'] > 1]"
   ]
  },
  {
   "cell_type": "markdown",
   "metadata": {},
   "source": [
    "<font color='red'>To-do:</font> Now select the rows where  col1  is greater than 0 or col4 is greater than -0.5."
   ]
  },
  {
   "cell_type": "code",
   "execution_count": null,
   "metadata": {},
   "outputs": [],
   "source": []
  },
  {
   "cell_type": "code",
   "execution_count": 377,
   "metadata": {},
   "outputs": [],
   "source": [
    "nonneg_only = df[df > 0]"
   ]
  },
  {
   "cell_type": "code",
   "execution_count": 378,
   "metadata": {},
   "outputs": [
    {
     "data": {
      "text/html": [
       "<div>\n",
       "<style scoped>\n",
       "    .dataframe tbody tr th:only-of-type {\n",
       "        vertical-align: middle;\n",
       "    }\n",
       "\n",
       "    .dataframe tbody tr th {\n",
       "        vertical-align: top;\n",
       "    }\n",
       "\n",
       "    .dataframe thead th {\n",
       "        text-align: right;\n",
       "    }\n",
       "</style>\n",
       "<table border=\"1\" class=\"dataframe\">\n",
       "  <thead>\n",
       "    <tr style=\"text-align: right;\">\n",
       "      <th></th>\n",
       "      <th>col1</th>\n",
       "      <th>col2</th>\n",
       "      <th>col4</th>\n",
       "      <th>col3</th>\n",
       "    </tr>\n",
       "  </thead>\n",
       "  <tbody>\n",
       "    <tr>\n",
       "      <th>2015-01-25</th>\n",
       "      <td>NaN</td>\n",
       "      <td>NaN</td>\n",
       "      <td>0.101221</td>\n",
       "      <td>0.299595</td>\n",
       "    </tr>\n",
       "    <tr>\n",
       "      <th>2015-01-26</th>\n",
       "      <td>0.440326</td>\n",
       "      <td>1.579973</td>\n",
       "      <td>0.741130</td>\n",
       "      <td>0.644201</td>\n",
       "    </tr>\n",
       "    <tr>\n",
       "      <th>2015-01-27</th>\n",
       "      <td>NaN</td>\n",
       "      <td>NaN</td>\n",
       "      <td>0.328215</td>\n",
       "      <td>0.780538</td>\n",
       "    </tr>\n",
       "    <tr>\n",
       "      <th>2015-01-28</th>\n",
       "      <td>0.964300</td>\n",
       "      <td>NaN</td>\n",
       "      <td>0.211903</td>\n",
       "      <td>NaN</td>\n",
       "    </tr>\n",
       "    <tr>\n",
       "      <th>2015-01-29</th>\n",
       "      <td>0.292702</td>\n",
       "      <td>0.927658</td>\n",
       "      <td>NaN</td>\n",
       "      <td>NaN</td>\n",
       "    </tr>\n",
       "    <tr>\n",
       "      <th>2015-01-30</th>\n",
       "      <td>NaN</td>\n",
       "      <td>NaN</td>\n",
       "      <td>NaN</td>\n",
       "      <td>NaN</td>\n",
       "    </tr>\n",
       "    <tr>\n",
       "      <th>2015-01-31</th>\n",
       "      <td>1.637575</td>\n",
       "      <td>NaN</td>\n",
       "      <td>NaN</td>\n",
       "      <td>NaN</td>\n",
       "    </tr>\n",
       "  </tbody>\n",
       "</table>\n",
       "</div>"
      ],
      "text/plain": [
       "                col1      col2      col4      col3\n",
       "2015-01-25       NaN       NaN  0.101221  0.299595\n",
       "2015-01-26  0.440326  1.579973  0.741130  0.644201\n",
       "2015-01-27       NaN       NaN  0.328215  0.780538\n",
       "2015-01-28  0.964300       NaN  0.211903       NaN\n",
       "2015-01-29  0.292702  0.927658       NaN       NaN\n",
       "2015-01-30       NaN       NaN       NaN       NaN\n",
       "2015-01-31  1.637575       NaN       NaN       NaN"
      ]
     },
     "execution_count": 378,
     "metadata": {},
     "output_type": "execute_result"
    }
   ],
   "source": [
    "nonneg_only"
   ]
  },
  {
   "cell_type": "markdown",
   "metadata": {},
   "source": [
    "You can drop rows with missing values as such:"
   ]
  },
  {
   "cell_type": "code",
   "execution_count": 379,
   "metadata": {},
   "outputs": [
    {
     "data": {
      "text/html": [
       "<div>\n",
       "<style scoped>\n",
       "    .dataframe tbody tr th:only-of-type {\n",
       "        vertical-align: middle;\n",
       "    }\n",
       "\n",
       "    .dataframe tbody tr th {\n",
       "        vertical-align: top;\n",
       "    }\n",
       "\n",
       "    .dataframe thead th {\n",
       "        text-align: right;\n",
       "    }\n",
       "</style>\n",
       "<table border=\"1\" class=\"dataframe\">\n",
       "  <thead>\n",
       "    <tr style=\"text-align: right;\">\n",
       "      <th></th>\n",
       "      <th>col1</th>\n",
       "      <th>col2</th>\n",
       "      <th>col4</th>\n",
       "      <th>col3</th>\n",
       "    </tr>\n",
       "  </thead>\n",
       "  <tbody>\n",
       "    <tr>\n",
       "      <th>2015-01-26</th>\n",
       "      <td>0.440326</td>\n",
       "      <td>1.579973</td>\n",
       "      <td>0.74113</td>\n",
       "      <td>0.644201</td>\n",
       "    </tr>\n",
       "  </tbody>\n",
       "</table>\n",
       "</div>"
      ],
      "text/plain": [
       "                col1      col2     col4      col3\n",
       "2015-01-26  0.440326  1.579973  0.74113  0.644201"
      ]
     },
     "execution_count": 379,
     "metadata": {},
     "output_type": "execute_result"
    }
   ],
   "source": [
    "nonneg_only.dropna() "
   ]
  },
  {
   "cell_type": "markdown",
   "metadata": {},
   "source": [
    "There were no rows with no missing values (most likely, these are random numbers after all...) and therefore the result is an empty dataframe. You can instead assign a default value (here, 0) to the NaN values"
   ]
  },
  {
   "cell_type": "code",
   "execution_count": 380,
   "metadata": {},
   "outputs": [
    {
     "data": {
      "text/html": [
       "<div>\n",
       "<style scoped>\n",
       "    .dataframe tbody tr th:only-of-type {\n",
       "        vertical-align: middle;\n",
       "    }\n",
       "\n",
       "    .dataframe tbody tr th {\n",
       "        vertical-align: top;\n",
       "    }\n",
       "\n",
       "    .dataframe thead th {\n",
       "        text-align: right;\n",
       "    }\n",
       "</style>\n",
       "<table border=\"1\" class=\"dataframe\">\n",
       "  <thead>\n",
       "    <tr style=\"text-align: right;\">\n",
       "      <th></th>\n",
       "      <th>col1</th>\n",
       "      <th>col2</th>\n",
       "      <th>col4</th>\n",
       "      <th>col3</th>\n",
       "    </tr>\n",
       "  </thead>\n",
       "  <tbody>\n",
       "    <tr>\n",
       "      <th>2015-01-25</th>\n",
       "      <td>0.000000</td>\n",
       "      <td>0.000000</td>\n",
       "      <td>0.101221</td>\n",
       "      <td>0.299595</td>\n",
       "    </tr>\n",
       "    <tr>\n",
       "      <th>2015-01-26</th>\n",
       "      <td>0.440326</td>\n",
       "      <td>1.579973</td>\n",
       "      <td>0.741130</td>\n",
       "      <td>0.644201</td>\n",
       "    </tr>\n",
       "    <tr>\n",
       "      <th>2015-01-27</th>\n",
       "      <td>0.000000</td>\n",
       "      <td>0.000000</td>\n",
       "      <td>0.328215</td>\n",
       "      <td>0.780538</td>\n",
       "    </tr>\n",
       "    <tr>\n",
       "      <th>2015-01-28</th>\n",
       "      <td>0.964300</td>\n",
       "      <td>0.000000</td>\n",
       "      <td>0.211903</td>\n",
       "      <td>0.000000</td>\n",
       "    </tr>\n",
       "    <tr>\n",
       "      <th>2015-01-29</th>\n",
       "      <td>0.292702</td>\n",
       "      <td>0.927658</td>\n",
       "      <td>0.000000</td>\n",
       "      <td>0.000000</td>\n",
       "    </tr>\n",
       "    <tr>\n",
       "      <th>2015-01-30</th>\n",
       "      <td>0.000000</td>\n",
       "      <td>0.000000</td>\n",
       "      <td>0.000000</td>\n",
       "      <td>0.000000</td>\n",
       "    </tr>\n",
       "    <tr>\n",
       "      <th>2015-01-31</th>\n",
       "      <td>1.637575</td>\n",
       "      <td>0.000000</td>\n",
       "      <td>0.000000</td>\n",
       "      <td>0.000000</td>\n",
       "    </tr>\n",
       "  </tbody>\n",
       "</table>\n",
       "</div>"
      ],
      "text/plain": [
       "                col1      col2      col4      col3\n",
       "2015-01-25  0.000000  0.000000  0.101221  0.299595\n",
       "2015-01-26  0.440326  1.579973  0.741130  0.644201\n",
       "2015-01-27  0.000000  0.000000  0.328215  0.780538\n",
       "2015-01-28  0.964300  0.000000  0.211903  0.000000\n",
       "2015-01-29  0.292702  0.927658  0.000000  0.000000\n",
       "2015-01-30  0.000000  0.000000  0.000000  0.000000\n",
       "2015-01-31  1.637575  0.000000  0.000000  0.000000"
      ]
     },
     "execution_count": 380,
     "metadata": {},
     "output_type": "execute_result"
    }
   ],
   "source": [
    "nonneg_only.fillna(value=0) "
   ]
  },
  {
   "cell_type": "markdown",
   "metadata": {},
   "source": [
    "You can also do filtering using non-numeric values:"
   ]
  },
  {
   "cell_type": "code",
   "execution_count": 167,
   "metadata": {},
   "outputs": [
    {
     "data": {
      "text/html": [
       "<div>\n",
       "<style scoped>\n",
       "    .dataframe tbody tr th:only-of-type {\n",
       "        vertical-align: middle;\n",
       "    }\n",
       "\n",
       "    .dataframe tbody tr th {\n",
       "        vertical-align: top;\n",
       "    }\n",
       "\n",
       "    .dataframe thead th {\n",
       "        text-align: right;\n",
       "    }\n",
       "</style>\n",
       "<table border=\"1\" class=\"dataframe\">\n",
       "  <thead>\n",
       "    <tr style=\"text-align: right;\">\n",
       "      <th></th>\n",
       "      <th>col1</th>\n",
       "      <th>col2</th>\n",
       "      <th>col4</th>\n",
       "      <th>col3</th>\n",
       "      <th>color</th>\n",
       "    </tr>\n",
       "  </thead>\n",
       "  <tbody>\n",
       "    <tr>\n",
       "      <th>2015-01-25</th>\n",
       "      <td>0.876023</td>\n",
       "      <td>-0.979346</td>\n",
       "      <td>0.177589</td>\n",
       "      <td>0.550717</td>\n",
       "      <td>red</td>\n",
       "    </tr>\n",
       "    <tr>\n",
       "      <th>2015-01-26</th>\n",
       "      <td>0.162915</td>\n",
       "      <td>-0.804229</td>\n",
       "      <td>-2.395167</td>\n",
       "      <td>1.107120</td>\n",
       "      <td>blue</td>\n",
       "    </tr>\n",
       "    <tr>\n",
       "      <th>2015-01-27</th>\n",
       "      <td>-0.942640</td>\n",
       "      <td>1.812220</td>\n",
       "      <td>-0.498577</td>\n",
       "      <td>-1.932426</td>\n",
       "      <td>red</td>\n",
       "    </tr>\n",
       "    <tr>\n",
       "      <th>2015-01-28</th>\n",
       "      <td>0.605609</td>\n",
       "      <td>2.917070</td>\n",
       "      <td>0.863059</td>\n",
       "      <td>-0.361865</td>\n",
       "      <td>red</td>\n",
       "    </tr>\n",
       "    <tr>\n",
       "      <th>2015-01-29</th>\n",
       "      <td>0.838000</td>\n",
       "      <td>1.114411</td>\n",
       "      <td>-0.538151</td>\n",
       "      <td>-1.944446</td>\n",
       "      <td>blue</td>\n",
       "    </tr>\n",
       "    <tr>\n",
       "      <th>2015-01-30</th>\n",
       "      <td>0.239596</td>\n",
       "      <td>0.075887</td>\n",
       "      <td>1.018430</td>\n",
       "      <td>0.620328</td>\n",
       "      <td>green</td>\n",
       "    </tr>\n",
       "    <tr>\n",
       "      <th>2015-01-31</th>\n",
       "      <td>-0.265844</td>\n",
       "      <td>0.328391</td>\n",
       "      <td>-0.361832</td>\n",
       "      <td>1.380344</td>\n",
       "      <td>green</td>\n",
       "    </tr>\n",
       "  </tbody>\n",
       "</table>\n",
       "</div>"
      ],
      "text/plain": [
       "                col1      col2      col4      col3  color\n",
       "2015-01-25  0.876023 -0.979346  0.177589  0.550717    red\n",
       "2015-01-26  0.162915 -0.804229 -2.395167  1.107120   blue\n",
       "2015-01-27 -0.942640  1.812220 -0.498577 -1.932426    red\n",
       "2015-01-28  0.605609  2.917070  0.863059 -0.361865    red\n",
       "2015-01-29  0.838000  1.114411 -0.538151 -1.944446   blue\n",
       "2015-01-30  0.239596  0.075887  1.018430  0.620328  green\n",
       "2015-01-31 -0.265844  0.328391 -0.361832  1.380344  green"
      ]
     },
     "execution_count": 167,
     "metadata": {},
     "output_type": "execute_result"
    }
   ],
   "source": [
    "df_c = df.copy()\n",
    "df_c['color'] = ['red', 'blue', 'red', 'red', 'blue', 'green', 'green' ]\n",
    "df_c"
   ]
  },
  {
   "cell_type": "code",
   "execution_count": 168,
   "metadata": {},
   "outputs": [
    {
     "data": {
      "text/html": [
       "<div>\n",
       "<style scoped>\n",
       "    .dataframe tbody tr th:only-of-type {\n",
       "        vertical-align: middle;\n",
       "    }\n",
       "\n",
       "    .dataframe tbody tr th {\n",
       "        vertical-align: top;\n",
       "    }\n",
       "\n",
       "    .dataframe thead th {\n",
       "        text-align: right;\n",
       "    }\n",
       "</style>\n",
       "<table border=\"1\" class=\"dataframe\">\n",
       "  <thead>\n",
       "    <tr style=\"text-align: right;\">\n",
       "      <th></th>\n",
       "      <th>col1</th>\n",
       "      <th>col2</th>\n",
       "      <th>col4</th>\n",
       "      <th>col3</th>\n",
       "      <th>color</th>\n",
       "    </tr>\n",
       "  </thead>\n",
       "  <tbody>\n",
       "    <tr>\n",
       "      <th>2015-01-25</th>\n",
       "      <td>0.876023</td>\n",
       "      <td>-0.979346</td>\n",
       "      <td>0.177589</td>\n",
       "      <td>0.550717</td>\n",
       "      <td>red</td>\n",
       "    </tr>\n",
       "    <tr>\n",
       "      <th>2015-01-26</th>\n",
       "      <td>0.162915</td>\n",
       "      <td>-0.804229</td>\n",
       "      <td>-2.395167</td>\n",
       "      <td>1.107120</td>\n",
       "      <td>blue</td>\n",
       "    </tr>\n",
       "    <tr>\n",
       "      <th>2015-01-27</th>\n",
       "      <td>-0.942640</td>\n",
       "      <td>1.812220</td>\n",
       "      <td>-0.498577</td>\n",
       "      <td>-1.932426</td>\n",
       "      <td>red</td>\n",
       "    </tr>\n",
       "    <tr>\n",
       "      <th>2015-01-28</th>\n",
       "      <td>0.605609</td>\n",
       "      <td>2.917070</td>\n",
       "      <td>0.863059</td>\n",
       "      <td>-0.361865</td>\n",
       "      <td>red</td>\n",
       "    </tr>\n",
       "    <tr>\n",
       "      <th>2015-01-29</th>\n",
       "      <td>0.838000</td>\n",
       "      <td>1.114411</td>\n",
       "      <td>-0.538151</td>\n",
       "      <td>-1.944446</td>\n",
       "      <td>blue</td>\n",
       "    </tr>\n",
       "  </tbody>\n",
       "</table>\n",
       "</div>"
      ],
      "text/plain": [
       "                col1      col2      col4      col3 color\n",
       "2015-01-25  0.876023 -0.979346  0.177589  0.550717   red\n",
       "2015-01-26  0.162915 -0.804229 -2.395167  1.107120  blue\n",
       "2015-01-27 -0.942640  1.812220 -0.498577 -1.932426   red\n",
       "2015-01-28  0.605609  2.917070  0.863059 -0.361865   red\n",
       "2015-01-29  0.838000  1.114411 -0.538151 -1.944446  blue"
      ]
     },
     "execution_count": 168,
     "metadata": {},
     "output_type": "execute_result"
    }
   ],
   "source": [
    "df_c[df_c['color'].isin(['red','blue'])]"
   ]
  },
  {
   "cell_type": "markdown",
   "metadata": {},
   "source": [
    "<font color='red'>To-do:</font> Now filter and display rows where color is not blue or red. "
   ]
  },
  {
   "cell_type": "code",
   "execution_count": null,
   "metadata": {},
   "outputs": [],
   "source": []
  },
  {
   "cell_type": "markdown",
   "metadata": {},
   "source": [
    "### Combining DataFrames\n",
    "You can combine DataFrame objects using simple concatenation (provided they have the same columns):"
   ]
  },
  {
   "cell_type": "code",
   "execution_count": 169,
   "metadata": {},
   "outputs": [
    {
     "data": {
      "text/html": [
       "<div>\n",
       "<style scoped>\n",
       "    .dataframe tbody tr th:only-of-type {\n",
       "        vertical-align: middle;\n",
       "    }\n",
       "\n",
       "    .dataframe tbody tr th {\n",
       "        vertical-align: top;\n",
       "    }\n",
       "\n",
       "    .dataframe thead th {\n",
       "        text-align: right;\n",
       "    }\n",
       "</style>\n",
       "<table border=\"1\" class=\"dataframe\">\n",
       "  <thead>\n",
       "    <tr style=\"text-align: right;\">\n",
       "      <th></th>\n",
       "      <th>0</th>\n",
       "      <th>1</th>\n",
       "      <th>2</th>\n",
       "      <th>3</th>\n",
       "    </tr>\n",
       "  </thead>\n",
       "  <tbody>\n",
       "    <tr>\n",
       "      <th>0</th>\n",
       "      <td>0.298328</td>\n",
       "      <td>0.356276</td>\n",
       "      <td>0.639760</td>\n",
       "      <td>-0.982459</td>\n",
       "    </tr>\n",
       "    <tr>\n",
       "      <th>1</th>\n",
       "      <td>-1.581586</td>\n",
       "      <td>-0.241907</td>\n",
       "      <td>-0.481574</td>\n",
       "      <td>-0.431748</td>\n",
       "    </tr>\n",
       "    <tr>\n",
       "      <th>2</th>\n",
       "      <td>0.585660</td>\n",
       "      <td>0.700722</td>\n",
       "      <td>-0.892308</td>\n",
       "      <td>-0.098240</td>\n",
       "    </tr>\n",
       "    <tr>\n",
       "      <th>3</th>\n",
       "      <td>0.527334</td>\n",
       "      <td>-0.167359</td>\n",
       "      <td>0.583877</td>\n",
       "      <td>0.398375</td>\n",
       "    </tr>\n",
       "    <tr>\n",
       "      <th>4</th>\n",
       "      <td>-0.898240</td>\n",
       "      <td>-0.145914</td>\n",
       "      <td>-0.911307</td>\n",
       "      <td>1.500939</td>\n",
       "    </tr>\n",
       "  </tbody>\n",
       "</table>\n",
       "</div>"
      ],
      "text/plain": [
       "          0         1         2         3\n",
       "0  0.298328  0.356276  0.639760 -0.982459\n",
       "1 -1.581586 -0.241907 -0.481574 -0.431748\n",
       "2  0.585660  0.700722 -0.892308 -0.098240\n",
       "3  0.527334 -0.167359  0.583877  0.398375\n",
       "4 -0.898240 -0.145914 -0.911307  1.500939"
      ]
     },
     "execution_count": 169,
     "metadata": {},
     "output_type": "execute_result"
    }
   ],
   "source": [
    "frame_one = pd.DataFrame(np.random.randn(5, 4))\n",
    "frame_one"
   ]
  },
  {
   "cell_type": "code",
   "execution_count": 170,
   "metadata": {},
   "outputs": [
    {
     "data": {
      "text/html": [
       "<div>\n",
       "<style scoped>\n",
       "    .dataframe tbody tr th:only-of-type {\n",
       "        vertical-align: middle;\n",
       "    }\n",
       "\n",
       "    .dataframe tbody tr th {\n",
       "        vertical-align: top;\n",
       "    }\n",
       "\n",
       "    .dataframe thead th {\n",
       "        text-align: right;\n",
       "    }\n",
       "</style>\n",
       "<table border=\"1\" class=\"dataframe\">\n",
       "  <thead>\n",
       "    <tr style=\"text-align: right;\">\n",
       "      <th></th>\n",
       "      <th>0</th>\n",
       "      <th>1</th>\n",
       "      <th>2</th>\n",
       "      <th>3</th>\n",
       "    </tr>\n",
       "  </thead>\n",
       "  <tbody>\n",
       "    <tr>\n",
       "      <th>0</th>\n",
       "      <td>0.212458</td>\n",
       "      <td>-0.848519</td>\n",
       "      <td>-0.527881</td>\n",
       "      <td>1.502029</td>\n",
       "    </tr>\n",
       "    <tr>\n",
       "      <th>1</th>\n",
       "      <td>0.393064</td>\n",
       "      <td>0.722910</td>\n",
       "      <td>-1.360868</td>\n",
       "      <td>0.586074</td>\n",
       "    </tr>\n",
       "    <tr>\n",
       "      <th>2</th>\n",
       "      <td>0.610651</td>\n",
       "      <td>-0.228178</td>\n",
       "      <td>0.720182</td>\n",
       "      <td>-0.775996</td>\n",
       "    </tr>\n",
       "    <tr>\n",
       "      <th>3</th>\n",
       "      <td>-0.194432</td>\n",
       "      <td>0.309427</td>\n",
       "      <td>0.346161</td>\n",
       "      <td>-0.462890</td>\n",
       "    </tr>\n",
       "    <tr>\n",
       "      <th>4</th>\n",
       "      <td>1.389668</td>\n",
       "      <td>0.035374</td>\n",
       "      <td>-1.307717</td>\n",
       "      <td>0.054265</td>\n",
       "    </tr>\n",
       "  </tbody>\n",
       "</table>\n",
       "</div>"
      ],
      "text/plain": [
       "          0         1         2         3\n",
       "0  0.212458 -0.848519 -0.527881  1.502029\n",
       "1  0.393064  0.722910 -1.360868  0.586074\n",
       "2  0.610651 -0.228178  0.720182 -0.775996\n",
       "3 -0.194432  0.309427  0.346161 -0.462890\n",
       "4  1.389668  0.035374 -1.307717  0.054265"
      ]
     },
     "execution_count": 170,
     "metadata": {},
     "output_type": "execute_result"
    }
   ],
   "source": [
    "frame_two = pd.DataFrame(np.random.randn(5, 4))\n",
    "frame_two"
   ]
  },
  {
   "cell_type": "code",
   "execution_count": 171,
   "metadata": {},
   "outputs": [
    {
     "data": {
      "text/html": [
       "<div>\n",
       "<style scoped>\n",
       "    .dataframe tbody tr th:only-of-type {\n",
       "        vertical-align: middle;\n",
       "    }\n",
       "\n",
       "    .dataframe tbody tr th {\n",
       "        vertical-align: top;\n",
       "    }\n",
       "\n",
       "    .dataframe thead th {\n",
       "        text-align: right;\n",
       "    }\n",
       "</style>\n",
       "<table border=\"1\" class=\"dataframe\">\n",
       "  <thead>\n",
       "    <tr style=\"text-align: right;\">\n",
       "      <th></th>\n",
       "      <th>0</th>\n",
       "      <th>1</th>\n",
       "      <th>2</th>\n",
       "      <th>3</th>\n",
       "    </tr>\n",
       "  </thead>\n",
       "  <tbody>\n",
       "    <tr>\n",
       "      <th>0</th>\n",
       "      <td>0.298328</td>\n",
       "      <td>0.356276</td>\n",
       "      <td>0.639760</td>\n",
       "      <td>-0.982459</td>\n",
       "    </tr>\n",
       "    <tr>\n",
       "      <th>1</th>\n",
       "      <td>-1.581586</td>\n",
       "      <td>-0.241907</td>\n",
       "      <td>-0.481574</td>\n",
       "      <td>-0.431748</td>\n",
       "    </tr>\n",
       "    <tr>\n",
       "      <th>2</th>\n",
       "      <td>0.585660</td>\n",
       "      <td>0.700722</td>\n",
       "      <td>-0.892308</td>\n",
       "      <td>-0.098240</td>\n",
       "    </tr>\n",
       "    <tr>\n",
       "      <th>3</th>\n",
       "      <td>0.527334</td>\n",
       "      <td>-0.167359</td>\n",
       "      <td>0.583877</td>\n",
       "      <td>0.398375</td>\n",
       "    </tr>\n",
       "    <tr>\n",
       "      <th>4</th>\n",
       "      <td>-0.898240</td>\n",
       "      <td>-0.145914</td>\n",
       "      <td>-0.911307</td>\n",
       "      <td>1.500939</td>\n",
       "    </tr>\n",
       "    <tr>\n",
       "      <th>0</th>\n",
       "      <td>0.212458</td>\n",
       "      <td>-0.848519</td>\n",
       "      <td>-0.527881</td>\n",
       "      <td>1.502029</td>\n",
       "    </tr>\n",
       "    <tr>\n",
       "      <th>1</th>\n",
       "      <td>0.393064</td>\n",
       "      <td>0.722910</td>\n",
       "      <td>-1.360868</td>\n",
       "      <td>0.586074</td>\n",
       "    </tr>\n",
       "    <tr>\n",
       "      <th>2</th>\n",
       "      <td>0.610651</td>\n",
       "      <td>-0.228178</td>\n",
       "      <td>0.720182</td>\n",
       "      <td>-0.775996</td>\n",
       "    </tr>\n",
       "    <tr>\n",
       "      <th>3</th>\n",
       "      <td>-0.194432</td>\n",
       "      <td>0.309427</td>\n",
       "      <td>0.346161</td>\n",
       "      <td>-0.462890</td>\n",
       "    </tr>\n",
       "    <tr>\n",
       "      <th>4</th>\n",
       "      <td>1.389668</td>\n",
       "      <td>0.035374</td>\n",
       "      <td>-1.307717</td>\n",
       "      <td>0.054265</td>\n",
       "    </tr>\n",
       "  </tbody>\n",
       "</table>\n",
       "</div>"
      ],
      "text/plain": [
       "          0         1         2         3\n",
       "0  0.298328  0.356276  0.639760 -0.982459\n",
       "1 -1.581586 -0.241907 -0.481574 -0.431748\n",
       "2  0.585660  0.700722 -0.892308 -0.098240\n",
       "3  0.527334 -0.167359  0.583877  0.398375\n",
       "4 -0.898240 -0.145914 -0.911307  1.500939\n",
       "0  0.212458 -0.848519 -0.527881  1.502029\n",
       "1  0.393064  0.722910 -1.360868  0.586074\n",
       "2  0.610651 -0.228178  0.720182 -0.775996\n",
       "3 -0.194432  0.309427  0.346161 -0.462890\n",
       "4  1.389668  0.035374 -1.307717  0.054265"
      ]
     },
     "execution_count": 171,
     "metadata": {},
     "output_type": "execute_result"
    }
   ],
   "source": [
    "pd.concat([frame_one, frame_two])"
   ]
  },
  {
   "cell_type": "markdown",
   "metadata": {},
   "source": [
    "<font color='red'>To-do:</font> Now concatenate along the other axis."
   ]
  },
  {
   "cell_type": "code",
   "execution_count": null,
   "metadata": {},
   "outputs": [],
   "source": []
  },
  {
   "cell_type": "markdown",
   "metadata": {},
   "source": [
    "<font color='red'>To-do:</font> Do you see an issue here? What do you think we need to do to avoid this problem?"
   ]
  },
  {
   "cell_type": "code",
   "execution_count": null,
   "metadata": {},
   "outputs": [],
   "source": []
  },
  {
   "cell_type": "markdown",
   "metadata": {},
   "source": [
    "You can also perform SQL-like merge operations"
   ]
  },
  {
   "cell_type": "code",
   "execution_count": 172,
   "metadata": {},
   "outputs": [
    {
     "data": {
      "text/html": [
       "<div>\n",
       "<style scoped>\n",
       "    .dataframe tbody tr th:only-of-type {\n",
       "        vertical-align: middle;\n",
       "    }\n",
       "\n",
       "    .dataframe tbody tr th {\n",
       "        vertical-align: top;\n",
       "    }\n",
       "\n",
       "    .dataframe thead th {\n",
       "        text-align: right;\n",
       "    }\n",
       "</style>\n",
       "<table border=\"1\" class=\"dataframe\">\n",
       "  <thead>\n",
       "    <tr style=\"text-align: right;\">\n",
       "      <th></th>\n",
       "      <th>key</th>\n",
       "      <th>lval</th>\n",
       "    </tr>\n",
       "  </thead>\n",
       "  <tbody>\n",
       "    <tr>\n",
       "      <th>0</th>\n",
       "      <td>foo</td>\n",
       "      <td>1</td>\n",
       "    </tr>\n",
       "    <tr>\n",
       "      <th>1</th>\n",
       "      <td>bar</td>\n",
       "      <td>2</td>\n",
       "    </tr>\n",
       "  </tbody>\n",
       "</table>\n",
       "</div>"
      ],
      "text/plain": [
       "   key  lval\n",
       "0  foo     1\n",
       "1  bar     2"
      ]
     },
     "execution_count": 172,
     "metadata": {},
     "output_type": "execute_result"
    }
   ],
   "source": [
    "left = pd.DataFrame({'key': ['foo', 'bar'], 'lval': [1, 2]})\n",
    "left"
   ]
  },
  {
   "cell_type": "code",
   "execution_count": 173,
   "metadata": {},
   "outputs": [
    {
     "data": {
      "text/html": [
       "<div>\n",
       "<style scoped>\n",
       "    .dataframe tbody tr th:only-of-type {\n",
       "        vertical-align: middle;\n",
       "    }\n",
       "\n",
       "    .dataframe tbody tr th {\n",
       "        vertical-align: top;\n",
       "    }\n",
       "\n",
       "    .dataframe thead th {\n",
       "        text-align: right;\n",
       "    }\n",
       "</style>\n",
       "<table border=\"1\" class=\"dataframe\">\n",
       "  <thead>\n",
       "    <tr style=\"text-align: right;\">\n",
       "      <th></th>\n",
       "      <th>key</th>\n",
       "      <th>rval</th>\n",
       "    </tr>\n",
       "  </thead>\n",
       "  <tbody>\n",
       "    <tr>\n",
       "      <th>0</th>\n",
       "      <td>foo</td>\n",
       "      <td>3</td>\n",
       "    </tr>\n",
       "    <tr>\n",
       "      <th>1</th>\n",
       "      <td>foo</td>\n",
       "      <td>4</td>\n",
       "    </tr>\n",
       "    <tr>\n",
       "      <th>2</th>\n",
       "      <td>bar</td>\n",
       "      <td>5</td>\n",
       "    </tr>\n",
       "  </tbody>\n",
       "</table>\n",
       "</div>"
      ],
      "text/plain": [
       "   key  rval\n",
       "0  foo     3\n",
       "1  foo     4\n",
       "2  bar     5"
      ]
     },
     "execution_count": 173,
     "metadata": {},
     "output_type": "execute_result"
    }
   ],
   "source": [
    "right = pd.DataFrame({'key': ['foo', 'foo', 'bar'], 'rval': [3, 4, 5]}) \n",
    "right"
   ]
  },
  {
   "cell_type": "code",
   "execution_count": 174,
   "metadata": {},
   "outputs": [
    {
     "data": {
      "text/html": [
       "<div>\n",
       "<style scoped>\n",
       "    .dataframe tbody tr th:only-of-type {\n",
       "        vertical-align: middle;\n",
       "    }\n",
       "\n",
       "    .dataframe tbody tr th {\n",
       "        vertical-align: top;\n",
       "    }\n",
       "\n",
       "    .dataframe thead th {\n",
       "        text-align: right;\n",
       "    }\n",
       "</style>\n",
       "<table border=\"1\" class=\"dataframe\">\n",
       "  <thead>\n",
       "    <tr style=\"text-align: right;\">\n",
       "      <th></th>\n",
       "      <th>key</th>\n",
       "      <th>lval</th>\n",
       "      <th>rval</th>\n",
       "    </tr>\n",
       "  </thead>\n",
       "  <tbody>\n",
       "    <tr>\n",
       "      <th>0</th>\n",
       "      <td>foo</td>\n",
       "      <td>1</td>\n",
       "      <td>3</td>\n",
       "    </tr>\n",
       "    <tr>\n",
       "      <th>1</th>\n",
       "      <td>foo</td>\n",
       "      <td>1</td>\n",
       "      <td>4</td>\n",
       "    </tr>\n",
       "    <tr>\n",
       "      <th>2</th>\n",
       "      <td>bar</td>\n",
       "      <td>2</td>\n",
       "      <td>5</td>\n",
       "    </tr>\n",
       "  </tbody>\n",
       "</table>\n",
       "</div>"
      ],
      "text/plain": [
       "   key  lval  rval\n",
       "0  foo     1     3\n",
       "1  foo     1     4\n",
       "2  bar     2     5"
      ]
     },
     "execution_count": 174,
     "metadata": {},
     "output_type": "execute_result"
    }
   ],
   "source": [
    "pd.merge(left, right, on='key')"
   ]
  },
  {
   "cell_type": "markdown",
   "metadata": {},
   "source": [
    "<font color='red'>To-do:</font> Now create two new dataframes, X and Y, with two matching columns, key1 and key2, anyway you prefer and merge them by matching on them"
   ]
  },
  {
   "cell_type": "code",
   "execution_count": null,
   "metadata": {},
   "outputs": [],
   "source": []
  },
  {
   "cell_type": "markdown",
   "metadata": {},
   "source": [
    "<font color='red'>To-do:</font> Notice that when you merge, if you had any rows on X and Y that didn't have a match, these are lost by default. Now merge X and Y to keep all rows (including the non-matching ones) of X in the result  "
   ]
  },
  {
   "cell_type": "code",
   "execution_count": null,
   "metadata": {},
   "outputs": [],
   "source": []
  },
  {
   "cell_type": "markdown",
   "metadata": {},
   "source": [
    "### Grouping\n",
    "Sometimes you will want to group and summarize a DataFrame for a more efficient computation. This is one of the strengths of pandas and DataFrames."
   ]
  },
  {
   "cell_type": "code",
   "execution_count": 175,
   "metadata": {},
   "outputs": [
    {
     "data": {
      "text/html": [
       "<div>\n",
       "<style scoped>\n",
       "    .dataframe tbody tr th:only-of-type {\n",
       "        vertical-align: middle;\n",
       "    }\n",
       "\n",
       "    .dataframe tbody tr th {\n",
       "        vertical-align: top;\n",
       "    }\n",
       "\n",
       "    .dataframe thead th {\n",
       "        text-align: right;\n",
       "    }\n",
       "</style>\n",
       "<table border=\"1\" class=\"dataframe\">\n",
       "  <thead>\n",
       "    <tr style=\"text-align: right;\">\n",
       "      <th></th>\n",
       "      <th>A</th>\n",
       "      <th>B</th>\n",
       "      <th>C</th>\n",
       "      <th>D</th>\n",
       "    </tr>\n",
       "  </thead>\n",
       "  <tbody>\n",
       "    <tr>\n",
       "      <th>0</th>\n",
       "      <td>foo</td>\n",
       "      <td>one</td>\n",
       "      <td>0.084911</td>\n",
       "      <td>2.195546</td>\n",
       "    </tr>\n",
       "    <tr>\n",
       "      <th>1</th>\n",
       "      <td>bar</td>\n",
       "      <td>one</td>\n",
       "      <td>0.685135</td>\n",
       "      <td>0.973480</td>\n",
       "    </tr>\n",
       "    <tr>\n",
       "      <th>2</th>\n",
       "      <td>foo</td>\n",
       "      <td>two</td>\n",
       "      <td>0.033826</td>\n",
       "      <td>0.026805</td>\n",
       "    </tr>\n",
       "    <tr>\n",
       "      <th>3</th>\n",
       "      <td>bar</td>\n",
       "      <td>three</td>\n",
       "      <td>0.678738</td>\n",
       "      <td>1.218613</td>\n",
       "    </tr>\n",
       "    <tr>\n",
       "      <th>4</th>\n",
       "      <td>foo</td>\n",
       "      <td>two</td>\n",
       "      <td>-0.222444</td>\n",
       "      <td>-0.118383</td>\n",
       "    </tr>\n",
       "    <tr>\n",
       "      <th>5</th>\n",
       "      <td>bar</td>\n",
       "      <td>two</td>\n",
       "      <td>-0.431803</td>\n",
       "      <td>0.094794</td>\n",
       "    </tr>\n",
       "    <tr>\n",
       "      <th>6</th>\n",
       "      <td>foo</td>\n",
       "      <td>one</td>\n",
       "      <td>-0.311094</td>\n",
       "      <td>-0.118205</td>\n",
       "    </tr>\n",
       "    <tr>\n",
       "      <th>7</th>\n",
       "      <td>foo</td>\n",
       "      <td>three</td>\n",
       "      <td>-0.936183</td>\n",
       "      <td>0.186101</td>\n",
       "    </tr>\n",
       "  </tbody>\n",
       "</table>\n",
       "</div>"
      ],
      "text/plain": [
       "     A      B         C         D\n",
       "0  foo    one  0.084911  2.195546\n",
       "1  bar    one  0.685135  0.973480\n",
       "2  foo    two  0.033826  0.026805\n",
       "3  bar  three  0.678738  1.218613\n",
       "4  foo    two -0.222444 -0.118383\n",
       "5  bar    two -0.431803  0.094794\n",
       "6  foo    one -0.311094 -0.118205\n",
       "7  foo  three -0.936183  0.186101"
      ]
     },
     "execution_count": 175,
     "metadata": {},
     "output_type": "execute_result"
    }
   ],
   "source": [
    "foo_bar = pd.DataFrame({'A' : ['foo', 'bar', 'foo', 'bar','foo', 'bar', 'foo', 'foo'],\n",
    "                                   'B' : ['one', 'one', 'two', 'three', 'two', 'two', 'one', 'three'],\n",
    "                                   'C' : np.random.randn(8),\n",
    "                                   'D' : np.random.randn(8)})\n",
    "foo_bar"
   ]
  },
  {
   "cell_type": "code",
   "execution_count": 176,
   "metadata": {},
   "outputs": [
    {
     "data": {
      "text/html": [
       "<div>\n",
       "<style scoped>\n",
       "    .dataframe tbody tr th:only-of-type {\n",
       "        vertical-align: middle;\n",
       "    }\n",
       "\n",
       "    .dataframe tbody tr th {\n",
       "        vertical-align: top;\n",
       "    }\n",
       "\n",
       "    .dataframe thead th {\n",
       "        text-align: right;\n",
       "    }\n",
       "</style>\n",
       "<table border=\"1\" class=\"dataframe\">\n",
       "  <thead>\n",
       "    <tr style=\"text-align: right;\">\n",
       "      <th></th>\n",
       "      <th>C</th>\n",
       "      <th>D</th>\n",
       "    </tr>\n",
       "    <tr>\n",
       "      <th>A</th>\n",
       "      <th></th>\n",
       "      <th></th>\n",
       "    </tr>\n",
       "  </thead>\n",
       "  <tbody>\n",
       "    <tr>\n",
       "      <th>bar</th>\n",
       "      <td>0.932070</td>\n",
       "      <td>2.286887</td>\n",
       "    </tr>\n",
       "    <tr>\n",
       "      <th>foo</th>\n",
       "      <td>-1.350984</td>\n",
       "      <td>2.171863</td>\n",
       "    </tr>\n",
       "  </tbody>\n",
       "</table>\n",
       "</div>"
      ],
      "text/plain": [
       "            C         D\n",
       "A                      \n",
       "bar  0.932070  2.286887\n",
       "foo -1.350984  2.171863"
      ]
     },
     "execution_count": 176,
     "metadata": {},
     "output_type": "execute_result"
    }
   ],
   "source": [
    "grouped = foo_bar.groupby('A').sum()\n",
    "grouped"
   ]
  },
  {
   "cell_type": "markdown",
   "metadata": {},
   "source": [
    "<font color='red'>To-do:</font> What happened to column B? Because sum oepration cannot be applied to datatype string, the column was dropped here. Now use both columns to perform the operation for each possible A, B pair. Assign this to \"grouped\" and display it."
   ]
  },
  {
   "cell_type": "code",
   "execution_count": null,
   "metadata": {},
   "outputs": [],
   "source": []
  },
  {
   "cell_type": "markdown",
   "metadata": {},
   "source": [
    "The .stack() function can be used to compress a level in the DataFrame’s columns:"
   ]
  },
  {
   "cell_type": "code",
   "execution_count": 177,
   "metadata": {},
   "outputs": [
    {
     "data": {
      "text/plain": [
       "A     \n",
       "bar  C    0.932070\n",
       "     D    2.286887\n",
       "foo  C   -1.350984\n",
       "     D    2.171863\n",
       "dtype: float64"
      ]
     },
     "execution_count": 177,
     "metadata": {},
     "output_type": "execute_result"
    }
   ],
   "source": [
    "stacked = grouped.stack()\n",
    "stacked"
   ]
  },
  {
   "cell_type": "code",
   "execution_count": 178,
   "metadata": {},
   "outputs": [
    {
     "data": {
      "text/html": [
       "<div>\n",
       "<style scoped>\n",
       "    .dataframe tbody tr th:only-of-type {\n",
       "        vertical-align: middle;\n",
       "    }\n",
       "\n",
       "    .dataframe tbody tr th {\n",
       "        vertical-align: top;\n",
       "    }\n",
       "\n",
       "    .dataframe thead th {\n",
       "        text-align: right;\n",
       "    }\n",
       "</style>\n",
       "<table border=\"1\" class=\"dataframe\">\n",
       "  <thead>\n",
       "    <tr style=\"text-align: right;\">\n",
       "      <th></th>\n",
       "      <th>C</th>\n",
       "      <th>D</th>\n",
       "    </tr>\n",
       "    <tr>\n",
       "      <th>A</th>\n",
       "      <th></th>\n",
       "      <th></th>\n",
       "    </tr>\n",
       "  </thead>\n",
       "  <tbody>\n",
       "    <tr>\n",
       "      <th>bar</th>\n",
       "      <td>0.932070</td>\n",
       "      <td>2.286887</td>\n",
       "    </tr>\n",
       "    <tr>\n",
       "      <th>foo</th>\n",
       "      <td>-1.350984</td>\n",
       "      <td>2.171863</td>\n",
       "    </tr>\n",
       "  </tbody>\n",
       "</table>\n",
       "</div>"
      ],
      "text/plain": [
       "            C         D\n",
       "A                      \n",
       "bar  0.932070  2.286887\n",
       "foo -1.350984  2.171863"
      ]
     },
     "execution_count": 178,
     "metadata": {},
     "output_type": "execute_result"
    }
   ],
   "source": [
    "stacked.unstack()"
   ]
  },
  {
   "cell_type": "markdown",
   "metadata": {},
   "source": [
    "## Reading from/Writing to files\n",
    "You can write a dataframe to file as follows:"
   ]
  },
  {
   "cell_type": "code",
   "execution_count": 179,
   "metadata": {},
   "outputs": [],
   "source": [
    "grouped.to_csv('grouped.csv')"
   ]
  },
  {
   "cell_type": "markdown",
   "metadata": {},
   "source": [
    "<font color='red'>To-do:</font> Now write this same DataFrame to a JSON file."
   ]
  },
  {
   "cell_type": "code",
   "execution_count": null,
   "metadata": {},
   "outputs": [],
   "source": []
  },
  {
   "cell_type": "markdown",
   "metadata": {},
   "source": [
    "And you can read as follows:"
   ]
  },
  {
   "cell_type": "code",
   "execution_count": 180,
   "metadata": {},
   "outputs": [],
   "source": [
    "new_frame = pd.read_csv('grouped.csv')"
   ]
  },
  {
   "cell_type": "markdown",
   "metadata": {},
   "source": [
    "<font color='red'>To-do:</font> Now read the dataframe back but with columns renamed as X, Y and Z"
   ]
  },
  {
   "cell_type": "code",
   "execution_count": null,
   "metadata": {},
   "outputs": [],
   "source": []
  },
  {
   "cell_type": "code",
   "execution_count": 181,
   "metadata": {},
   "outputs": [
    {
     "data": {
      "text/html": [
       "<div>\n",
       "<style scoped>\n",
       "    .dataframe tbody tr th:only-of-type {\n",
       "        vertical-align: middle;\n",
       "    }\n",
       "\n",
       "    .dataframe tbody tr th {\n",
       "        vertical-align: top;\n",
       "    }\n",
       "\n",
       "    .dataframe thead th {\n",
       "        text-align: right;\n",
       "    }\n",
       "</style>\n",
       "<table border=\"1\" class=\"dataframe\">\n",
       "  <thead>\n",
       "    <tr style=\"text-align: right;\">\n",
       "      <th></th>\n",
       "      <th>A</th>\n",
       "      <th>C</th>\n",
       "      <th>D</th>\n",
       "    </tr>\n",
       "  </thead>\n",
       "  <tbody>\n",
       "    <tr>\n",
       "      <th>0</th>\n",
       "      <td>bar</td>\n",
       "      <td>0.932070</td>\n",
       "      <td>2.286887</td>\n",
       "    </tr>\n",
       "    <tr>\n",
       "      <th>1</th>\n",
       "      <td>foo</td>\n",
       "      <td>-1.350984</td>\n",
       "      <td>2.171863</td>\n",
       "    </tr>\n",
       "  </tbody>\n",
       "</table>\n",
       "</div>"
      ],
      "text/plain": [
       "     A         C         D\n",
       "0  bar  0.932070  2.286887\n",
       "1  foo -1.350984  2.171863"
      ]
     },
     "execution_count": 181,
     "metadata": {},
     "output_type": "execute_result"
    }
   ],
   "source": [
    "new_frame.head()"
   ]
  },
  {
   "cell_type": "markdown",
   "metadata": {},
   "source": [
    "Let's now work with a relatively more complex and bigger file"
   ]
  },
  {
   "cell_type": "code",
   "execution_count": 182,
   "metadata": {},
   "outputs": [
    {
     "data": {
      "text/html": [
       "<div>\n",
       "<style scoped>\n",
       "    .dataframe tbody tr th:only-of-type {\n",
       "        vertical-align: middle;\n",
       "    }\n",
       "\n",
       "    .dataframe tbody tr th {\n",
       "        vertical-align: top;\n",
       "    }\n",
       "\n",
       "    .dataframe thead th {\n",
       "        text-align: right;\n",
       "    }\n",
       "</style>\n",
       "<table border=\"1\" class=\"dataframe\">\n",
       "  <thead>\n",
       "    <tr style=\"text-align: right;\">\n",
       "      <th></th>\n",
       "      <th>id</th>\n",
       "      <th>publisher</th>\n",
       "      <th>name</th>\n",
       "      <th>Identity</th>\n",
       "      <th>align</th>\n",
       "      <th>eye</th>\n",
       "      <th>hair</th>\n",
       "      <th>sex</th>\n",
       "      <th>alive</th>\n",
       "      <th>appearances</th>\n",
       "      <th>first_appearance</th>\n",
       "      <th>month</th>\n",
       "      <th>year</th>\n",
       "      <th>date</th>\n",
       "    </tr>\n",
       "  </thead>\n",
       "  <tbody>\n",
       "    <tr>\n",
       "      <th>0</th>\n",
       "      <td>1</td>\n",
       "      <td>Marvel</td>\n",
       "      <td>Spider-Man (Peter Parker)</td>\n",
       "      <td>Secret Identity</td>\n",
       "      <td>Good Characters</td>\n",
       "      <td>Hazel Eyes</td>\n",
       "      <td>Brown Hair</td>\n",
       "      <td>Male Characters</td>\n",
       "      <td>Living Characters</td>\n",
       "      <td>4043.0</td>\n",
       "      <td>1962, August</td>\n",
       "      <td>August</td>\n",
       "      <td>1962.0</td>\n",
       "      <td>8/1/1962</td>\n",
       "    </tr>\n",
       "    <tr>\n",
       "      <th>1</th>\n",
       "      <td>2</td>\n",
       "      <td>Marvel</td>\n",
       "      <td>Captain America (Steven Rogers)</td>\n",
       "      <td>Public Identity</td>\n",
       "      <td>Good Characters</td>\n",
       "      <td>Blue Eyes</td>\n",
       "      <td>White Hair</td>\n",
       "      <td>Male Characters</td>\n",
       "      <td>Living Characters</td>\n",
       "      <td>3360.0</td>\n",
       "      <td>1941, March</td>\n",
       "      <td>March</td>\n",
       "      <td>1941.0</td>\n",
       "      <td>3/1/1941</td>\n",
       "    </tr>\n",
       "    <tr>\n",
       "      <th>2</th>\n",
       "      <td>3</td>\n",
       "      <td>Marvel</td>\n",
       "      <td>Wolverine (James \\\"Logan\\\" Howlett)</td>\n",
       "      <td>Public Identity</td>\n",
       "      <td>Neutral Characters</td>\n",
       "      <td>Blue Eyes</td>\n",
       "      <td>Black Hair</td>\n",
       "      <td>Male Characters</td>\n",
       "      <td>Living Characters</td>\n",
       "      <td>3061.0</td>\n",
       "      <td>1974, October</td>\n",
       "      <td>October</td>\n",
       "      <td>1974.0</td>\n",
       "      <td>10/1/1974</td>\n",
       "    </tr>\n",
       "    <tr>\n",
       "      <th>3</th>\n",
       "      <td>4</td>\n",
       "      <td>Marvel</td>\n",
       "      <td>Iron Man (Anthony \\\"Tony\\\" Stark)</td>\n",
       "      <td>Public Identity</td>\n",
       "      <td>Good Characters</td>\n",
       "      <td>Blue Eyes</td>\n",
       "      <td>Black Hair</td>\n",
       "      <td>Male Characters</td>\n",
       "      <td>Living Characters</td>\n",
       "      <td>2961.0</td>\n",
       "      <td>1963, March</td>\n",
       "      <td>March</td>\n",
       "      <td>1963.0</td>\n",
       "      <td>3/1/1963</td>\n",
       "    </tr>\n",
       "    <tr>\n",
       "      <th>4</th>\n",
       "      <td>5</td>\n",
       "      <td>Marvel</td>\n",
       "      <td>Thor (Thor Odinson)</td>\n",
       "      <td>No Dual Identity</td>\n",
       "      <td>Good Characters</td>\n",
       "      <td>Blue Eyes</td>\n",
       "      <td>Blond Hair</td>\n",
       "      <td>Male Characters</td>\n",
       "      <td>Living Characters</td>\n",
       "      <td>2258.0</td>\n",
       "      <td>1950, November</td>\n",
       "      <td>November</td>\n",
       "      <td>1950.0</td>\n",
       "      <td>11/1/1950</td>\n",
       "    </tr>\n",
       "    <tr>\n",
       "      <th>...</th>\n",
       "      <td>...</td>\n",
       "      <td>...</td>\n",
       "      <td>...</td>\n",
       "      <td>...</td>\n",
       "      <td>...</td>\n",
       "      <td>...</td>\n",
       "      <td>...</td>\n",
       "      <td>...</td>\n",
       "      <td>...</td>\n",
       "      <td>...</td>\n",
       "      <td>...</td>\n",
       "      <td>...</td>\n",
       "      <td>...</td>\n",
       "      <td>...</td>\n",
       "    </tr>\n",
       "    <tr>\n",
       "      <th>23267</th>\n",
       "      <td>23268</td>\n",
       "      <td>DC</td>\n",
       "      <td>Nadine West (New Earth)</td>\n",
       "      <td>Public Identity</td>\n",
       "      <td>Good Characters</td>\n",
       "      <td>NaN</td>\n",
       "      <td>NaN</td>\n",
       "      <td>Female Characters</td>\n",
       "      <td>Living Characters</td>\n",
       "      <td>NaN</td>\n",
       "      <td>NaN</td>\n",
       "      <td>1</td>\n",
       "      <td>NaN</td>\n",
       "      <td>NaN</td>\n",
       "    </tr>\n",
       "    <tr>\n",
       "      <th>23268</th>\n",
       "      <td>23269</td>\n",
       "      <td>DC</td>\n",
       "      <td>Warren Harding (New Earth)</td>\n",
       "      <td>Public Identity</td>\n",
       "      <td>Good Characters</td>\n",
       "      <td>NaN</td>\n",
       "      <td>NaN</td>\n",
       "      <td>Male Characters</td>\n",
       "      <td>Living Characters</td>\n",
       "      <td>NaN</td>\n",
       "      <td>NaN</td>\n",
       "      <td>1</td>\n",
       "      <td>NaN</td>\n",
       "      <td>NaN</td>\n",
       "    </tr>\n",
       "    <tr>\n",
       "      <th>23269</th>\n",
       "      <td>23270</td>\n",
       "      <td>DC</td>\n",
       "      <td>William Harrison (New Earth)</td>\n",
       "      <td>Public Identity</td>\n",
       "      <td>Good Characters</td>\n",
       "      <td>NaN</td>\n",
       "      <td>NaN</td>\n",
       "      <td>Male Characters</td>\n",
       "      <td>Living Characters</td>\n",
       "      <td>NaN</td>\n",
       "      <td>NaN</td>\n",
       "      <td>1</td>\n",
       "      <td>NaN</td>\n",
       "      <td>NaN</td>\n",
       "    </tr>\n",
       "    <tr>\n",
       "      <th>23270</th>\n",
       "      <td>23271</td>\n",
       "      <td>DC</td>\n",
       "      <td>William McKinley (New Earth)</td>\n",
       "      <td>Public Identity</td>\n",
       "      <td>Good Characters</td>\n",
       "      <td>NaN</td>\n",
       "      <td>NaN</td>\n",
       "      <td>Male Characters</td>\n",
       "      <td>Living Characters</td>\n",
       "      <td>NaN</td>\n",
       "      <td>NaN</td>\n",
       "      <td>1</td>\n",
       "      <td>NaN</td>\n",
       "      <td>NaN</td>\n",
       "    </tr>\n",
       "    <tr>\n",
       "      <th>23271</th>\n",
       "      <td>23272</td>\n",
       "      <td>DC</td>\n",
       "      <td>Mookie (New Earth)</td>\n",
       "      <td>Public Identity</td>\n",
       "      <td>Bad Characters</td>\n",
       "      <td>Blue Eyes</td>\n",
       "      <td>Blond Hair</td>\n",
       "      <td>Male Characters</td>\n",
       "      <td>Living Characters</td>\n",
       "      <td>NaN</td>\n",
       "      <td>NaN</td>\n",
       "      <td>1</td>\n",
       "      <td>NaN</td>\n",
       "      <td>NaN</td>\n",
       "    </tr>\n",
       "  </tbody>\n",
       "</table>\n",
       "<p>23272 rows × 14 columns</p>\n",
       "</div>"
      ],
      "text/plain": [
       "          id publisher                                 name          Identity  \\\n",
       "0          1    Marvel            Spider-Man (Peter Parker)   Secret Identity   \n",
       "1          2    Marvel      Captain America (Steven Rogers)   Public Identity   \n",
       "2          3    Marvel  Wolverine (James \\\"Logan\\\" Howlett)   Public Identity   \n",
       "3          4    Marvel    Iron Man (Anthony \\\"Tony\\\" Stark)   Public Identity   \n",
       "4          5    Marvel                  Thor (Thor Odinson)  No Dual Identity   \n",
       "...      ...       ...                                  ...               ...   \n",
       "23267  23268        DC              Nadine West (New Earth)   Public Identity   \n",
       "23268  23269        DC           Warren Harding (New Earth)   Public Identity   \n",
       "23269  23270        DC         William Harrison (New Earth)   Public Identity   \n",
       "23270  23271        DC         William McKinley (New Earth)   Public Identity   \n",
       "23271  23272        DC                   Mookie (New Earth)   Public Identity   \n",
       "\n",
       "                    align         eye        hair                sex  \\\n",
       "0         Good Characters  Hazel Eyes  Brown Hair    Male Characters   \n",
       "1         Good Characters   Blue Eyes  White Hair    Male Characters   \n",
       "2      Neutral Characters   Blue Eyes  Black Hair    Male Characters   \n",
       "3         Good Characters   Blue Eyes  Black Hair    Male Characters   \n",
       "4         Good Characters   Blue Eyes  Blond Hair    Male Characters   \n",
       "...                   ...         ...         ...                ...   \n",
       "23267     Good Characters         NaN         NaN  Female Characters   \n",
       "23268     Good Characters         NaN         NaN    Male Characters   \n",
       "23269     Good Characters         NaN         NaN    Male Characters   \n",
       "23270     Good Characters         NaN         NaN    Male Characters   \n",
       "23271      Bad Characters   Blue Eyes  Blond Hair    Male Characters   \n",
       "\n",
       "                   alive  appearances first_appearance     month    year  \\\n",
       "0      Living Characters       4043.0     1962, August    August  1962.0   \n",
       "1      Living Characters       3360.0      1941, March     March  1941.0   \n",
       "2      Living Characters       3061.0    1974, October   October  1974.0   \n",
       "3      Living Characters       2961.0      1963, March     March  1963.0   \n",
       "4      Living Characters       2258.0   1950, November  November  1950.0   \n",
       "...                  ...          ...              ...       ...     ...   \n",
       "23267  Living Characters          NaN              NaN         1     NaN   \n",
       "23268  Living Characters          NaN              NaN         1     NaN   \n",
       "23269  Living Characters          NaN              NaN         1     NaN   \n",
       "23270  Living Characters          NaN              NaN         1     NaN   \n",
       "23271  Living Characters          NaN              NaN         1     NaN   \n",
       "\n",
       "            date  \n",
       "0       8/1/1962  \n",
       "1       3/1/1941  \n",
       "2      10/1/1974  \n",
       "3       3/1/1963  \n",
       "4      11/1/1950  \n",
       "...          ...  \n",
       "23267        NaN  \n",
       "23268        NaN  \n",
       "23269        NaN  \n",
       "23270        NaN  \n",
       "23271        NaN  \n",
       "\n",
       "[23272 rows x 14 columns]"
      ]
     },
     "execution_count": 182,
     "metadata": {},
     "output_type": "execute_result"
    }
   ],
   "source": [
    "comics_df = pd.read_csv('comic_characters.csv')\n",
    "comics_df"
   ]
  },
  {
   "cell_type": "code",
   "execution_count": 183,
   "metadata": {},
   "outputs": [
    {
     "data": {
      "text/html": [
       "<div>\n",
       "<style scoped>\n",
       "    .dataframe tbody tr th:only-of-type {\n",
       "        vertical-align: middle;\n",
       "    }\n",
       "\n",
       "    .dataframe tbody tr th {\n",
       "        vertical-align: top;\n",
       "    }\n",
       "\n",
       "    .dataframe thead th {\n",
       "        text-align: right;\n",
       "    }\n",
       "</style>\n",
       "<table border=\"1\" class=\"dataframe\">\n",
       "  <thead>\n",
       "    <tr style=\"text-align: right;\">\n",
       "      <th></th>\n",
       "      <th>publisher</th>\n",
       "      <th>name</th>\n",
       "      <th>Identity</th>\n",
       "      <th>align</th>\n",
       "      <th>eye</th>\n",
       "      <th>hair</th>\n",
       "      <th>sex</th>\n",
       "      <th>alive</th>\n",
       "      <th>appearances</th>\n",
       "      <th>first_appearance</th>\n",
       "      <th>month</th>\n",
       "      <th>year</th>\n",
       "      <th>date</th>\n",
       "    </tr>\n",
       "    <tr>\n",
       "      <th>id</th>\n",
       "      <th></th>\n",
       "      <th></th>\n",
       "      <th></th>\n",
       "      <th></th>\n",
       "      <th></th>\n",
       "      <th></th>\n",
       "      <th></th>\n",
       "      <th></th>\n",
       "      <th></th>\n",
       "      <th></th>\n",
       "      <th></th>\n",
       "      <th></th>\n",
       "      <th></th>\n",
       "    </tr>\n",
       "  </thead>\n",
       "  <tbody>\n",
       "    <tr>\n",
       "      <th>1</th>\n",
       "      <td>Marvel</td>\n",
       "      <td>Spider-Man (Peter Parker)</td>\n",
       "      <td>Secret Identity</td>\n",
       "      <td>Good Characters</td>\n",
       "      <td>Hazel Eyes</td>\n",
       "      <td>Brown Hair</td>\n",
       "      <td>Male Characters</td>\n",
       "      <td>Living Characters</td>\n",
       "      <td>4043.0</td>\n",
       "      <td>1962, August</td>\n",
       "      <td>August</td>\n",
       "      <td>1962.0</td>\n",
       "      <td>1962-08-01</td>\n",
       "    </tr>\n",
       "    <tr>\n",
       "      <th>2</th>\n",
       "      <td>Marvel</td>\n",
       "      <td>Captain America (Steven Rogers)</td>\n",
       "      <td>Public Identity</td>\n",
       "      <td>Good Characters</td>\n",
       "      <td>Blue Eyes</td>\n",
       "      <td>White Hair</td>\n",
       "      <td>Male Characters</td>\n",
       "      <td>Living Characters</td>\n",
       "      <td>3360.0</td>\n",
       "      <td>1941, March</td>\n",
       "      <td>March</td>\n",
       "      <td>1941.0</td>\n",
       "      <td>1941-03-01</td>\n",
       "    </tr>\n",
       "    <tr>\n",
       "      <th>3</th>\n",
       "      <td>Marvel</td>\n",
       "      <td>Wolverine (James \\\"Logan\\\" Howlett)</td>\n",
       "      <td>Public Identity</td>\n",
       "      <td>Neutral Characters</td>\n",
       "      <td>Blue Eyes</td>\n",
       "      <td>Black Hair</td>\n",
       "      <td>Male Characters</td>\n",
       "      <td>Living Characters</td>\n",
       "      <td>3061.0</td>\n",
       "      <td>1974, October</td>\n",
       "      <td>October</td>\n",
       "      <td>1974.0</td>\n",
       "      <td>1974-10-01</td>\n",
       "    </tr>\n",
       "    <tr>\n",
       "      <th>4</th>\n",
       "      <td>Marvel</td>\n",
       "      <td>Iron Man (Anthony \\\"Tony\\\" Stark)</td>\n",
       "      <td>Public Identity</td>\n",
       "      <td>Good Characters</td>\n",
       "      <td>Blue Eyes</td>\n",
       "      <td>Black Hair</td>\n",
       "      <td>Male Characters</td>\n",
       "      <td>Living Characters</td>\n",
       "      <td>2961.0</td>\n",
       "      <td>1963, March</td>\n",
       "      <td>March</td>\n",
       "      <td>1963.0</td>\n",
       "      <td>1963-03-01</td>\n",
       "    </tr>\n",
       "    <tr>\n",
       "      <th>5</th>\n",
       "      <td>Marvel</td>\n",
       "      <td>Thor (Thor Odinson)</td>\n",
       "      <td>No Dual Identity</td>\n",
       "      <td>Good Characters</td>\n",
       "      <td>Blue Eyes</td>\n",
       "      <td>Blond Hair</td>\n",
       "      <td>Male Characters</td>\n",
       "      <td>Living Characters</td>\n",
       "      <td>2258.0</td>\n",
       "      <td>1950, November</td>\n",
       "      <td>November</td>\n",
       "      <td>1950.0</td>\n",
       "      <td>1950-11-01</td>\n",
       "    </tr>\n",
       "    <tr>\n",
       "      <th>...</th>\n",
       "      <td>...</td>\n",
       "      <td>...</td>\n",
       "      <td>...</td>\n",
       "      <td>...</td>\n",
       "      <td>...</td>\n",
       "      <td>...</td>\n",
       "      <td>...</td>\n",
       "      <td>...</td>\n",
       "      <td>...</td>\n",
       "      <td>...</td>\n",
       "      <td>...</td>\n",
       "      <td>...</td>\n",
       "      <td>...</td>\n",
       "    </tr>\n",
       "    <tr>\n",
       "      <th>23268</th>\n",
       "      <td>DC</td>\n",
       "      <td>Nadine West (New Earth)</td>\n",
       "      <td>Public Identity</td>\n",
       "      <td>Good Characters</td>\n",
       "      <td>NaN</td>\n",
       "      <td>NaN</td>\n",
       "      <td>Female Characters</td>\n",
       "      <td>Living Characters</td>\n",
       "      <td>NaN</td>\n",
       "      <td>NaN</td>\n",
       "      <td>1</td>\n",
       "      <td>NaN</td>\n",
       "      <td>NaT</td>\n",
       "    </tr>\n",
       "    <tr>\n",
       "      <th>23269</th>\n",
       "      <td>DC</td>\n",
       "      <td>Warren Harding (New Earth)</td>\n",
       "      <td>Public Identity</td>\n",
       "      <td>Good Characters</td>\n",
       "      <td>NaN</td>\n",
       "      <td>NaN</td>\n",
       "      <td>Male Characters</td>\n",
       "      <td>Living Characters</td>\n",
       "      <td>NaN</td>\n",
       "      <td>NaN</td>\n",
       "      <td>1</td>\n",
       "      <td>NaN</td>\n",
       "      <td>NaT</td>\n",
       "    </tr>\n",
       "    <tr>\n",
       "      <th>23270</th>\n",
       "      <td>DC</td>\n",
       "      <td>William Harrison (New Earth)</td>\n",
       "      <td>Public Identity</td>\n",
       "      <td>Good Characters</td>\n",
       "      <td>NaN</td>\n",
       "      <td>NaN</td>\n",
       "      <td>Male Characters</td>\n",
       "      <td>Living Characters</td>\n",
       "      <td>NaN</td>\n",
       "      <td>NaN</td>\n",
       "      <td>1</td>\n",
       "      <td>NaN</td>\n",
       "      <td>NaT</td>\n",
       "    </tr>\n",
       "    <tr>\n",
       "      <th>23271</th>\n",
       "      <td>DC</td>\n",
       "      <td>William McKinley (New Earth)</td>\n",
       "      <td>Public Identity</td>\n",
       "      <td>Good Characters</td>\n",
       "      <td>NaN</td>\n",
       "      <td>NaN</td>\n",
       "      <td>Male Characters</td>\n",
       "      <td>Living Characters</td>\n",
       "      <td>NaN</td>\n",
       "      <td>NaN</td>\n",
       "      <td>1</td>\n",
       "      <td>NaN</td>\n",
       "      <td>NaT</td>\n",
       "    </tr>\n",
       "    <tr>\n",
       "      <th>23272</th>\n",
       "      <td>DC</td>\n",
       "      <td>Mookie (New Earth)</td>\n",
       "      <td>Public Identity</td>\n",
       "      <td>Bad Characters</td>\n",
       "      <td>Blue Eyes</td>\n",
       "      <td>Blond Hair</td>\n",
       "      <td>Male Characters</td>\n",
       "      <td>Living Characters</td>\n",
       "      <td>NaN</td>\n",
       "      <td>NaN</td>\n",
       "      <td>1</td>\n",
       "      <td>NaN</td>\n",
       "      <td>NaT</td>\n",
       "    </tr>\n",
       "  </tbody>\n",
       "</table>\n",
       "<p>23272 rows × 13 columns</p>\n",
       "</div>"
      ],
      "text/plain": [
       "      publisher                                 name          Identity  \\\n",
       "id                                                                       \n",
       "1        Marvel            Spider-Man (Peter Parker)   Secret Identity   \n",
       "2        Marvel      Captain America (Steven Rogers)   Public Identity   \n",
       "3        Marvel  Wolverine (James \\\"Logan\\\" Howlett)   Public Identity   \n",
       "4        Marvel    Iron Man (Anthony \\\"Tony\\\" Stark)   Public Identity   \n",
       "5        Marvel                  Thor (Thor Odinson)  No Dual Identity   \n",
       "...         ...                                  ...               ...   \n",
       "23268        DC              Nadine West (New Earth)   Public Identity   \n",
       "23269        DC           Warren Harding (New Earth)   Public Identity   \n",
       "23270        DC         William Harrison (New Earth)   Public Identity   \n",
       "23271        DC         William McKinley (New Earth)   Public Identity   \n",
       "23272        DC                   Mookie (New Earth)   Public Identity   \n",
       "\n",
       "                    align         eye        hair                sex  \\\n",
       "id                                                                     \n",
       "1         Good Characters  Hazel Eyes  Brown Hair    Male Characters   \n",
       "2         Good Characters   Blue Eyes  White Hair    Male Characters   \n",
       "3      Neutral Characters   Blue Eyes  Black Hair    Male Characters   \n",
       "4         Good Characters   Blue Eyes  Black Hair    Male Characters   \n",
       "5         Good Characters   Blue Eyes  Blond Hair    Male Characters   \n",
       "...                   ...         ...         ...                ...   \n",
       "23268     Good Characters         NaN         NaN  Female Characters   \n",
       "23269     Good Characters         NaN         NaN    Male Characters   \n",
       "23270     Good Characters         NaN         NaN    Male Characters   \n",
       "23271     Good Characters         NaN         NaN    Male Characters   \n",
       "23272      Bad Characters   Blue Eyes  Blond Hair    Male Characters   \n",
       "\n",
       "                   alive  appearances first_appearance     month    year  \\\n",
       "id                                                                         \n",
       "1      Living Characters       4043.0     1962, August    August  1962.0   \n",
       "2      Living Characters       3360.0      1941, March     March  1941.0   \n",
       "3      Living Characters       3061.0    1974, October   October  1974.0   \n",
       "4      Living Characters       2961.0      1963, March     March  1963.0   \n",
       "5      Living Characters       2258.0   1950, November  November  1950.0   \n",
       "...                  ...          ...              ...       ...     ...   \n",
       "23268  Living Characters          NaN              NaN         1     NaN   \n",
       "23269  Living Characters          NaN              NaN         1     NaN   \n",
       "23270  Living Characters          NaN              NaN         1     NaN   \n",
       "23271  Living Characters          NaN              NaN         1     NaN   \n",
       "23272  Living Characters          NaN              NaN         1     NaN   \n",
       "\n",
       "            date  \n",
       "id                \n",
       "1     1962-08-01  \n",
       "2     1941-03-01  \n",
       "3     1974-10-01  \n",
       "4     1963-03-01  \n",
       "5     1950-11-01  \n",
       "...          ...  \n",
       "23268        NaT  \n",
       "23269        NaT  \n",
       "23270        NaT  \n",
       "23271        NaT  \n",
       "23272        NaT  \n",
       "\n",
       "[23272 rows x 13 columns]"
      ]
     },
     "execution_count": 183,
     "metadata": {},
     "output_type": "execute_result"
    }
   ],
   "source": [
    "comic_df = pd.read_csv('comic_characters.csv',\n",
    "parse_dates=['date'], dayfirst=False, index_col='id')\n",
    "comic_df"
   ]
  },
  {
   "cell_type": "markdown",
   "metadata": {},
   "source": [
    "The goal of this lab was to provide a high level introduction to pandas. There is so much more to it. You can/should practice more. A few other functions you might want to look into are: value_counts(), plot.hist(), pivot_table() and df.apply()... Note that we will use R for most of our analysis/visualization tasks but that doesn't mean you can't learn more about Python/pandas."
   ]
  }
 ],
 "metadata": {
  "interpreter": {
   "hash": "ccfad3a08567331d09d2432bee1b50cab695c9379824f131d2e64405b63b07b1"
  },
  "kernelspec": {
   "display_name": "Python 3",
   "language": "python",
   "name": "python3"
  },
  "language_info": {
   "codemirror_mode": {
    "name": "ipython",
    "version": 3
   },
   "file_extension": ".py",
   "mimetype": "text/x-python",
   "name": "python",
   "nbconvert_exporter": "python",
   "pygments_lexer": "ipython3",
   "version": "3.8.5"
  }
 },
 "nbformat": 4,
 "nbformat_minor": 2
}
