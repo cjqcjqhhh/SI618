{
 "cells": [
  {
   "cell_type": "markdown",
   "metadata": {},
   "source": [
    "# SI 618 Homework 1\n",
    "---------------------------\n",
    "Name: Junqi Chen \n",
    "\n",
    "Uniqname: junqich\n",
    "\n",
    "---------------------------"
   ]
  },
  {
   "cell_type": "code",
   "execution_count": 183,
   "metadata": {},
   "outputs": [],
   "source": [
    "import numpy as np\n",
    "import pandas as pd"
   ]
  },
  {
   "cell_type": "markdown",
   "metadata": {},
   "source": [
    "## Introduction"
   ]
  },
  {
   "cell_type": "code",
   "execution_count": 184,
   "metadata": {},
   "outputs": [
    {
     "data": {
      "text/html": [
       "<div>\n",
       "<style scoped>\n",
       "    .dataframe tbody tr th:only-of-type {\n",
       "        vertical-align: middle;\n",
       "    }\n",
       "\n",
       "    .dataframe tbody tr th {\n",
       "        vertical-align: top;\n",
       "    }\n",
       "\n",
       "    .dataframe thead th {\n",
       "        text-align: right;\n",
       "    }\n",
       "</style>\n",
       "<table border=\"1\" class=\"dataframe\">\n",
       "  <thead>\n",
       "    <tr style=\"text-align: right;\">\n",
       "      <th></th>\n",
       "      <th>book_authors</th>\n",
       "      <th>book_desc</th>\n",
       "      <th>book_edition</th>\n",
       "      <th>book_format</th>\n",
       "      <th>book_isbn</th>\n",
       "      <th>book_pages</th>\n",
       "      <th>book_rating</th>\n",
       "      <th>book_rating_count</th>\n",
       "      <th>book_review_count</th>\n",
       "      <th>book_title</th>\n",
       "      <th>genres</th>\n",
       "      <th>image_url</th>\n",
       "    </tr>\n",
       "  </thead>\n",
       "  <tbody>\n",
       "    <tr>\n",
       "      <th>0</th>\n",
       "      <td>Kristin Hannah</td>\n",
       "      <td>Alaska, 1974.Unpredictable. Unforgiving. Untam...</td>\n",
       "      <td>NaN</td>\n",
       "      <td>Kindle Edition</td>\n",
       "      <td>NaN</td>\n",
       "      <td>435 pages</td>\n",
       "      <td>4.33</td>\n",
       "      <td>146505</td>\n",
       "      <td>17438</td>\n",
       "      <td>The Great Alone</td>\n",
       "      <td>Fiction|Historical|Historical Fiction|Audioboo...</td>\n",
       "      <td>https://images.gr-assets.com/books/1501852423l...</td>\n",
       "    </tr>\n",
       "    <tr>\n",
       "      <th>1</th>\n",
       "      <td>Madeline Miller</td>\n",
       "      <td>In the house of Helios, god of the sun and mig...</td>\n",
       "      <td>NaN</td>\n",
       "      <td>Hardcover</td>\n",
       "      <td>9.780000e+12</td>\n",
       "      <td>393 pages</td>\n",
       "      <td>4.34</td>\n",
       "      <td>61357</td>\n",
       "      <td>9369</td>\n",
       "      <td>Circe</td>\n",
       "      <td>Fantasy|Fiction|Fantasy|Mythology|Historical|H...</td>\n",
       "      <td>https://images.gr-assets.com/books/1508879575l...</td>\n",
       "    </tr>\n",
       "    <tr>\n",
       "      <th>2</th>\n",
       "      <td>Holly Black</td>\n",
       "      <td>Of course I want to be like them. They’re beau...</td>\n",
       "      <td>NaN</td>\n",
       "      <td>Hardcover</td>\n",
       "      <td>9.780000e+12</td>\n",
       "      <td>370 pages</td>\n",
       "      <td>4.18</td>\n",
       "      <td>62897</td>\n",
       "      <td>11948</td>\n",
       "      <td>The Cruel Prince</td>\n",
       "      <td>Fantasy|Young Adult|Fairies|Fae</td>\n",
       "      <td>https://images.gr-assets.com/books/1493047153l...</td>\n",
       "    </tr>\n",
       "    <tr>\n",
       "      <th>3</th>\n",
       "      <td>A.J. Finn</td>\n",
       "      <td>Anna Fox lives alone—a recluse in her New York...</td>\n",
       "      <td>NaN</td>\n",
       "      <td>Kindle Edition</td>\n",
       "      <td>NaN</td>\n",
       "      <td>449 pages</td>\n",
       "      <td>3.97</td>\n",
       "      <td>175678</td>\n",
       "      <td>20645</td>\n",
       "      <td>The Woman in the Window</td>\n",
       "      <td>Mystery|Thriller|Fiction|Suspense|Thriller|Mys...</td>\n",
       "      <td>https://images.gr-assets.com/books/1528225499l...</td>\n",
       "    </tr>\n",
       "    <tr>\n",
       "      <th>4</th>\n",
       "      <td>Tara Westover</td>\n",
       "      <td>An unforgettable memoir in the tradition of Th...</td>\n",
       "      <td>NaN</td>\n",
       "      <td>Hardcover</td>\n",
       "      <td>9.780000e+12</td>\n",
       "      <td>334 pages</td>\n",
       "      <td>4.47</td>\n",
       "      <td>128337</td>\n",
       "      <td>16424</td>\n",
       "      <td>Educated</td>\n",
       "      <td>Nonfiction|Autobiography|Memoir|Biography</td>\n",
       "      <td>https://images.gr-assets.com/books/1506026635l...</td>\n",
       "    </tr>\n",
       "  </tbody>\n",
       "</table>\n",
       "</div>"
      ],
      "text/plain": [
       "      book_authors                                          book_desc  \\\n",
       "0   Kristin Hannah  Alaska, 1974.Unpredictable. Unforgiving. Untam...   \n",
       "1  Madeline Miller  In the house of Helios, god of the sun and mig...   \n",
       "2      Holly Black  Of course I want to be like them. They’re beau...   \n",
       "3        A.J. Finn  Anna Fox lives alone—a recluse in her New York...   \n",
       "4    Tara Westover  An unforgettable memoir in the tradition of Th...   \n",
       "\n",
       "  book_edition     book_format     book_isbn book_pages  book_rating  \\\n",
       "0          NaN  Kindle Edition           NaN  435 pages         4.33   \n",
       "1          NaN       Hardcover  9.780000e+12  393 pages         4.34   \n",
       "2          NaN       Hardcover  9.780000e+12  370 pages         4.18   \n",
       "3          NaN  Kindle Edition           NaN  449 pages         3.97   \n",
       "4          NaN       Hardcover  9.780000e+12  334 pages         4.47   \n",
       "\n",
       "   book_rating_count  book_review_count               book_title  \\\n",
       "0             146505              17438          The Great Alone   \n",
       "1              61357               9369                    Circe   \n",
       "2              62897              11948         The Cruel Prince   \n",
       "3             175678              20645  The Woman in the Window   \n",
       "4             128337              16424                 Educated   \n",
       "\n",
       "                                              genres  \\\n",
       "0  Fiction|Historical|Historical Fiction|Audioboo...   \n",
       "1  Fantasy|Fiction|Fantasy|Mythology|Historical|H...   \n",
       "2                    Fantasy|Young Adult|Fairies|Fae   \n",
       "3  Mystery|Thriller|Fiction|Suspense|Thriller|Mys...   \n",
       "4          Nonfiction|Autobiography|Memoir|Biography   \n",
       "\n",
       "                                           image_url  \n",
       "0  https://images.gr-assets.com/books/1501852423l...  \n",
       "1  https://images.gr-assets.com/books/1508879575l...  \n",
       "2  https://images.gr-assets.com/books/1493047153l...  \n",
       "3  https://images.gr-assets.com/books/1528225499l...  \n",
       "4  https://images.gr-assets.com/books/1506026635l...  "
      ]
     },
     "execution_count": 184,
     "metadata": {},
     "output_type": "execute_result"
    }
   ],
   "source": [
    "# Question 1\n",
    "df = pd.read_csv(\"book_data.csv\")\n",
    "df.head()"
   ]
  },
  {
   "cell_type": "code",
   "execution_count": 185,
   "metadata": {},
   "outputs": [
    {
     "name": "stdout",
     "output_type": "stream",
     "text": [
      "There are 1125 unique books.\n"
     ]
    }
   ],
   "source": [
    "# Question 2\n",
    "df_clean = df.drop_duplicates(subset=[\"book_title\"]) # remove duplicate according to `book_title`\n",
    "print(\"There are\", len(df_clean), \"unique books.\")"
   ]
  },
  {
   "cell_type": "code",
   "execution_count": 186,
   "metadata": {},
   "outputs": [
    {
     "name": "stdout",
     "output_type": "stream",
     "text": [
      "There are 107 books have two authors.\n"
     ]
    }
   ],
   "source": [
    "# Question 3\n",
    "two_authors_list = [aus for aus in df_clean.book_authors if aus.count(\"|\") == 1]\n",
    "print(\"There are\", len(two_authors_list), \"books have two authors.\")"
   ]
  },
  {
   "cell_type": "markdown",
   "metadata": {},
   "source": [
    "## Length"
   ]
  },
  {
   "cell_type": "markdown",
   "metadata": {},
   "source": [
    "I am going to drop some columns because there are no record on page number (NaN) for some of the books. Then we can successfully add a integer column of page number to the dataframe."
   ]
  },
  {
   "cell_type": "code",
   "execution_count": 187,
   "metadata": {},
   "outputs": [
    {
     "name": "stdout",
     "output_type": "stream",
     "text": [
      "There are 1056 unique books left after dropping NaN in `book_pages`.\n"
     ]
    },
    {
     "data": {
      "text/plain": [
       "0    435\n",
       "1    393\n",
       "2    370\n",
       "3    449\n",
       "4    334\n",
       "5    525\n",
       "6    308\n",
       "7    352\n",
       "8    346\n",
       "9    504\n",
       "Name: book_pages_int, dtype: int64"
      ]
     },
     "execution_count": 187,
     "metadata": {},
     "output_type": "execute_result"
    }
   ],
   "source": [
    "# Question 4\n",
    "df_clean = df_clean.dropna(subset=[\"book_pages\"])\n",
    "print(\"There are\", len(df_clean), \"unique books left after dropping NaN in `book_pages`.\")\n",
    "df_clean[\"book_pages_int\"] = [int(str.split()[0]) for str in df_clean.book_pages]\n",
    "df_clean.book_pages_int.head(10)"
   ]
  },
  {
   "cell_type": "code",
   "execution_count": 188,
   "metadata": {},
   "outputs": [
    {
     "name": "stdout",
     "output_type": "stream",
     "text": [
      "The median number of pages is 326.5\n"
     ]
    }
   ],
   "source": [
    "# Question 5\n",
    "pages_median = df_clean.book_pages_int.median()\n",
    "print(\"The median number of pages is\", pages_median)"
   ]
  },
  {
   "cell_type": "code",
   "execution_count": 189,
   "metadata": {},
   "outputs": [
    {
     "name": "stdout",
     "output_type": "stream",
     "text": [
      "The minimum number of pages is 0\n",
      "The maximum number of pages is 992\n"
     ]
    }
   ],
   "source": [
    "# Question 6\n",
    "print(\"The minimum number of pages is\", df_clean.book_pages_int.min())\n",
    "print(\"The maximum number of pages is\", df_clean.book_pages_int.max())"
   ]
  },
  {
   "cell_type": "code",
   "execution_count": 190,
   "metadata": {},
   "outputs": [
    {
     "name": "stdout",
     "output_type": "stream",
     "text": [
      "The average number of pages for books written by 1 author(s) is 333.3510292524377\n",
      "The average number of pages for books written by 2 author(s) is 274.77777777777777\n",
      "The average number of pages for books written by 3 author(s) is 277.75\n"
     ]
    }
   ],
   "source": [
    "# Question 7\n",
    "def countAvgPage(authorNum = 1, df_clean = df_clean):\n",
    "    n_author_index = [i for i in df_clean.index if df_clean.book_authors[i].count(\"|\") == authorNum - 1]\n",
    "    df_n_author = df_clean.loc[n_author_index]\n",
    "    return df_n_author.book_pages_int.mean()\n",
    "\n",
    "for n in range(1, 4):\n",
    "    print(\"The average number of pages for books written by\", n, \"author(s) is\", countAvgPage(n))"
   ]
  },
  {
   "cell_type": "markdown",
   "metadata": {},
   "source": [
    "So we can find out that the average number of pages for books written by 1 author is longer than 2 authors, indicating that **having more than 1 author *does not* result in a longer book on average**. The following is an alternative way to solve this question (I put it here for reference)."
   ]
  },
  {
   "cell_type": "code",
   "execution_count": 191,
   "metadata": {},
   "outputs": [
    {
     "name": "stdout",
     "output_type": "stream",
     "text": [
      "The average number of pages for books written by 1 author(s) is 333.3510292524377\n",
      "The average number of pages for books written by 2 author(s) is 274.77777777777777\n",
      "The average number of pages for books written by 3 author(s) is 277.75\n"
     ]
    }
   ],
   "source": [
    "# Alternative way for Question 7\n",
    "def countAvgPage_Alt(authorNum = 1):\n",
    "    n = 0\n",
    "    count = 0\n",
    "    for i in df_clean.index:\n",
    "        if df_clean.book_authors[i].count(\"|\") == authorNum - 1:\n",
    "            n += 1\n",
    "            count += df_clean.book_pages_int[i]\n",
    "    return count / n\n",
    "\n",
    "for n in range(1, 4):\n",
    "    print(\"The average number of pages for books written by\", n, \"author(s) is\", countAvgPage_Alt(n))"
   ]
  },
  {
   "cell_type": "markdown",
   "metadata": {},
   "source": [
    "## Rating"
   ]
  },
  {
   "cell_type": "code",
   "execution_count": 192,
   "metadata": {},
   "outputs": [
    {
     "name": "stdout",
     "output_type": "stream",
     "text": [
      "There are 57 books have at least a rating of 4.5\n"
     ]
    }
   ],
   "source": [
    "# Question 8\n",
    "df_clean = df_clean.dropna(subset=[\"book_rating\"])\n",
    "print(\"There are\", len(df_clean[df_clean.book_rating >= 4.5]), \"books have at least a rating of 4.5\")"
   ]
  },
  {
   "cell_type": "code",
   "execution_count": 193,
   "metadata": {},
   "outputs": [
    {
     "name": "stdout",
     "output_type": "stream",
     "text": [
      "There are 473 books have at most a rating of 4\n"
     ]
    }
   ],
   "source": [
    "# Question 9\n",
    "print(\"There are\", len(df_clean[df_clean.book_rating <= 4]), \"books have at most a rating of 4\")"
   ]
  },
  {
   "cell_type": "code",
   "execution_count": 194,
   "metadata": {},
   "outputs": [
    {
     "data": {
      "text/plain": [
       "0    4.0\n",
       "1    4.0\n",
       "2    4.0\n",
       "3    3.0\n",
       "4    4.0\n",
       "Name: book_rating_discret, dtype: float64"
      ]
     },
     "execution_count": 194,
     "metadata": {},
     "output_type": "execute_result"
    }
   ],
   "source": [
    "# Question 10\n",
    "df_clean[\"book_rating_discret\"] = df_clean[\"book_rating\"].apply(np.floor)\n",
    "df_clean[\"book_rating_discret\"].head()"
   ]
  },
  {
   "cell_type": "code",
   "execution_count": 195,
   "metadata": {},
   "outputs": [
    {
     "name": "stdout",
     "output_type": "stream",
     "text": [
      "For discretized ratings 2.0 , the average number of authors is 1.3333333333333333\n",
      "For discretized ratings 3.0 , the average number of authors is 1.223194748358862\n",
      "For discretized ratings 4.0 , the average number of authors is 1.3356047700170357\n",
      "For discretized ratings 5.0 , the average number of authors is 1.0\n"
     ]
    }
   ],
   "source": [
    "# Question 11\n",
    "df_clean[\"book_authors_num\"] = [(aus.count(\"|\") + 1) for aus in df_clean[\"book_authors\"]]\n",
    "df_groupby_rating = df_clean.groupby(by = [\"book_rating_discret\"]).mean()\n",
    "\n",
    "avg_author_num = df_groupby_rating[\"book_authors_num\"]\n",
    "for i in avg_author_num.index:\n",
    "    print(\"For discretized ratings\", i, \", the average number of authors is\", avg_author_num[i])"
   ]
  },
  {
   "cell_type": "code",
   "execution_count": 196,
   "metadata": {},
   "outputs": [
    {
     "name": "stdout",
     "output_type": "stream",
     "text": [
      "For discretized ratings 2.0 , the average number of reviews is 251.33333333333334\n",
      "For discretized ratings 3.0 , the average number of reviews is 896.9321663019693\n",
      "For discretized ratings 4.0 , the average number of reviews is 916.2879045996593\n",
      "For discretized ratings 5.0 , the average number of reviews is 0.7777777777777778\n"
     ]
    }
   ],
   "source": [
    "# Question 12\n",
    "avg_review_num = df_groupby_rating[\"book_review_count\"]\n",
    "for i in avg_review_num.index:\n",
    "    print(\"For discretized ratings\", i, \", the average number of reviews is\", avg_review_num[i])"
   ]
  },
  {
   "cell_type": "markdown",
   "metadata": {},
   "source": [
    "## Genres"
   ]
  },
  {
   "cell_type": "code",
   "execution_count": 197,
   "metadata": {},
   "outputs": [
    {
     "data": {
      "text/html": [
       "<div>\n",
       "<style scoped>\n",
       "    .dataframe tbody tr th:only-of-type {\n",
       "        vertical-align: middle;\n",
       "    }\n",
       "\n",
       "    .dataframe tbody tr th {\n",
       "        vertical-align: top;\n",
       "    }\n",
       "\n",
       "    .dataframe thead th {\n",
       "        text-align: right;\n",
       "    }\n",
       "</style>\n",
       "<table border=\"1\" class=\"dataframe\">\n",
       "  <thead>\n",
       "    <tr style=\"text-align: right;\">\n",
       "      <th></th>\n",
       "      <th>book_authors</th>\n",
       "      <th>book_desc</th>\n",
       "      <th>book_edition</th>\n",
       "      <th>book_format</th>\n",
       "      <th>book_isbn</th>\n",
       "      <th>book_pages</th>\n",
       "      <th>book_rating</th>\n",
       "      <th>book_rating_count</th>\n",
       "      <th>book_review_count</th>\n",
       "      <th>book_title</th>\n",
       "      <th>...</th>\n",
       "      <th>Womens</th>\n",
       "      <th>Womens Fiction</th>\n",
       "      <th>World War I</th>\n",
       "      <th>World War II</th>\n",
       "      <th>Writing</th>\n",
       "      <th>Young Adult</th>\n",
       "      <th>Young Adult Contemporary</th>\n",
       "      <th>Young Adult Fantasy</th>\n",
       "      <th>Young Adult Historical Fiction</th>\n",
       "      <th>Young Adult Romance</th>\n",
       "    </tr>\n",
       "  </thead>\n",
       "  <tbody>\n",
       "    <tr>\n",
       "      <th>0</th>\n",
       "      <td>Kristin Hannah</td>\n",
       "      <td>Alaska, 1974.Unpredictable. Unforgiving. Untam...</td>\n",
       "      <td>NaN</td>\n",
       "      <td>Kindle Edition</td>\n",
       "      <td>NaN</td>\n",
       "      <td>435 pages</td>\n",
       "      <td>4.33</td>\n",
       "      <td>146505</td>\n",
       "      <td>17438</td>\n",
       "      <td>The Great Alone</td>\n",
       "      <td>...</td>\n",
       "      <td>0</td>\n",
       "      <td>0</td>\n",
       "      <td>0</td>\n",
       "      <td>0</td>\n",
       "      <td>0</td>\n",
       "      <td>0</td>\n",
       "      <td>0</td>\n",
       "      <td>0</td>\n",
       "      <td>0</td>\n",
       "      <td>0</td>\n",
       "    </tr>\n",
       "    <tr>\n",
       "      <th>1</th>\n",
       "      <td>Madeline Miller</td>\n",
       "      <td>In the house of Helios, god of the sun and mig...</td>\n",
       "      <td>NaN</td>\n",
       "      <td>Hardcover</td>\n",
       "      <td>9.780000e+12</td>\n",
       "      <td>393 pages</td>\n",
       "      <td>4.34</td>\n",
       "      <td>61357</td>\n",
       "      <td>9369</td>\n",
       "      <td>Circe</td>\n",
       "      <td>...</td>\n",
       "      <td>0</td>\n",
       "      <td>0</td>\n",
       "      <td>0</td>\n",
       "      <td>0</td>\n",
       "      <td>0</td>\n",
       "      <td>0</td>\n",
       "      <td>0</td>\n",
       "      <td>0</td>\n",
       "      <td>0</td>\n",
       "      <td>0</td>\n",
       "    </tr>\n",
       "    <tr>\n",
       "      <th>2</th>\n",
       "      <td>Holly Black</td>\n",
       "      <td>Of course I want to be like them. They’re beau...</td>\n",
       "      <td>NaN</td>\n",
       "      <td>Hardcover</td>\n",
       "      <td>9.780000e+12</td>\n",
       "      <td>370 pages</td>\n",
       "      <td>4.18</td>\n",
       "      <td>62897</td>\n",
       "      <td>11948</td>\n",
       "      <td>The Cruel Prince</td>\n",
       "      <td>...</td>\n",
       "      <td>0</td>\n",
       "      <td>0</td>\n",
       "      <td>0</td>\n",
       "      <td>0</td>\n",
       "      <td>0</td>\n",
       "      <td>1</td>\n",
       "      <td>0</td>\n",
       "      <td>0</td>\n",
       "      <td>0</td>\n",
       "      <td>0</td>\n",
       "    </tr>\n",
       "    <tr>\n",
       "      <th>3</th>\n",
       "      <td>A.J. Finn</td>\n",
       "      <td>Anna Fox lives alone—a recluse in her New York...</td>\n",
       "      <td>NaN</td>\n",
       "      <td>Kindle Edition</td>\n",
       "      <td>NaN</td>\n",
       "      <td>449 pages</td>\n",
       "      <td>3.97</td>\n",
       "      <td>175678</td>\n",
       "      <td>20645</td>\n",
       "      <td>The Woman in the Window</td>\n",
       "      <td>...</td>\n",
       "      <td>0</td>\n",
       "      <td>0</td>\n",
       "      <td>0</td>\n",
       "      <td>0</td>\n",
       "      <td>0</td>\n",
       "      <td>0</td>\n",
       "      <td>0</td>\n",
       "      <td>0</td>\n",
       "      <td>0</td>\n",
       "      <td>0</td>\n",
       "    </tr>\n",
       "    <tr>\n",
       "      <th>4</th>\n",
       "      <td>Tara Westover</td>\n",
       "      <td>An unforgettable memoir in the tradition of Th...</td>\n",
       "      <td>NaN</td>\n",
       "      <td>Hardcover</td>\n",
       "      <td>9.780000e+12</td>\n",
       "      <td>334 pages</td>\n",
       "      <td>4.47</td>\n",
       "      <td>128337</td>\n",
       "      <td>16424</td>\n",
       "      <td>Educated</td>\n",
       "      <td>...</td>\n",
       "      <td>0</td>\n",
       "      <td>0</td>\n",
       "      <td>0</td>\n",
       "      <td>0</td>\n",
       "      <td>0</td>\n",
       "      <td>0</td>\n",
       "      <td>0</td>\n",
       "      <td>0</td>\n",
       "      <td>0</td>\n",
       "      <td>0</td>\n",
       "    </tr>\n",
       "  </tbody>\n",
       "</table>\n",
       "<p>5 rows × 282 columns</p>\n",
       "</div>"
      ],
      "text/plain": [
       "      book_authors                                          book_desc  \\\n",
       "0   Kristin Hannah  Alaska, 1974.Unpredictable. Unforgiving. Untam...   \n",
       "1  Madeline Miller  In the house of Helios, god of the sun and mig...   \n",
       "2      Holly Black  Of course I want to be like them. They’re beau...   \n",
       "3        A.J. Finn  Anna Fox lives alone—a recluse in her New York...   \n",
       "4    Tara Westover  An unforgettable memoir in the tradition of Th...   \n",
       "\n",
       "  book_edition     book_format     book_isbn book_pages  book_rating  \\\n",
       "0          NaN  Kindle Edition           NaN  435 pages         4.33   \n",
       "1          NaN       Hardcover  9.780000e+12  393 pages         4.34   \n",
       "2          NaN       Hardcover  9.780000e+12  370 pages         4.18   \n",
       "3          NaN  Kindle Edition           NaN  449 pages         3.97   \n",
       "4          NaN       Hardcover  9.780000e+12  334 pages         4.47   \n",
       "\n",
       "   book_rating_count  book_review_count               book_title  ... Womens  \\\n",
       "0             146505              17438          The Great Alone  ...      0   \n",
       "1              61357               9369                    Circe  ...      0   \n",
       "2              62897              11948         The Cruel Prince  ...      0   \n",
       "3             175678              20645  The Woman in the Window  ...      0   \n",
       "4             128337              16424                 Educated  ...      0   \n",
       "\n",
       "  Womens Fiction  World War I  World War II  Writing  Young Adult  \\\n",
       "0              0            0             0        0            0   \n",
       "1              0            0             0        0            0   \n",
       "2              0            0             0        0            1   \n",
       "3              0            0             0        0            0   \n",
       "4              0            0             0        0            0   \n",
       "\n",
       "   Young Adult Contemporary  Young Adult Fantasy  \\\n",
       "0                         0                    0   \n",
       "1                         0                    0   \n",
       "2                         0                    0   \n",
       "3                         0                    0   \n",
       "4                         0                    0   \n",
       "\n",
       "   Young Adult Historical Fiction  Young Adult Romance  \n",
       "0                               0                    0  \n",
       "1                               0                    0  \n",
       "2                               0                    0  \n",
       "3                               0                    0  \n",
       "4                               0                    0  \n",
       "\n",
       "[5 rows x 282 columns]"
      ]
     },
     "execution_count": 197,
     "metadata": {},
     "output_type": "execute_result"
    }
   ],
   "source": [
    "# Question 13\n",
    "df_onehot = df_clean[\"genres\"].str.get_dummies() # we apply one-hot encoding to column `genres`\n",
    "df_new = pd.concat([df_clean, df_onehot], axis=1) # cancat the onehot df with original df to make a new df\n",
    "df_new.head()"
   ]
  },
  {
   "cell_type": "code",
   "execution_count": 198,
   "metadata": {},
   "outputs": [
    {
     "data": {
      "text/html": [
       "<div>\n",
       "<style scoped>\n",
       "    .dataframe tbody tr th:only-of-type {\n",
       "        vertical-align: middle;\n",
       "    }\n",
       "\n",
       "    .dataframe tbody tr th {\n",
       "        vertical-align: top;\n",
       "    }\n",
       "\n",
       "    .dataframe thead th {\n",
       "        text-align: right;\n",
       "    }\n",
       "</style>\n",
       "<table border=\"1\" class=\"dataframe\">\n",
       "  <thead>\n",
       "    <tr style=\"text-align: right;\">\n",
       "      <th></th>\n",
       "      <th>avg_rating</th>\n",
       "      <th>median_rating</th>\n",
       "    </tr>\n",
       "  </thead>\n",
       "  <tbody>\n",
       "    <tr>\n",
       "      <th>16th Century</th>\n",
       "      <td>4.130000</td>\n",
       "      <td>4.130</td>\n",
       "    </tr>\n",
       "    <tr>\n",
       "      <th>20th Century</th>\n",
       "      <td>4.000000</td>\n",
       "      <td>4.000</td>\n",
       "    </tr>\n",
       "    <tr>\n",
       "      <th>Abandoned</th>\n",
       "      <td>3.557692</td>\n",
       "      <td>3.630</td>\n",
       "    </tr>\n",
       "    <tr>\n",
       "      <th>Abuse</th>\n",
       "      <td>4.395000</td>\n",
       "      <td>4.300</td>\n",
       "    </tr>\n",
       "    <tr>\n",
       "      <th>Academic</th>\n",
       "      <td>4.190000</td>\n",
       "      <td>4.110</td>\n",
       "    </tr>\n",
       "    <tr>\n",
       "      <th>...</th>\n",
       "      <td>...</td>\n",
       "      <td>...</td>\n",
       "    </tr>\n",
       "    <tr>\n",
       "      <th>Young Adult</th>\n",
       "      <td>3.942812</td>\n",
       "      <td>3.940</td>\n",
       "    </tr>\n",
       "    <tr>\n",
       "      <th>Young Adult Contemporary</th>\n",
       "      <td>3.770000</td>\n",
       "      <td>3.785</td>\n",
       "    </tr>\n",
       "    <tr>\n",
       "      <th>Young Adult Fantasy</th>\n",
       "      <td>3.937273</td>\n",
       "      <td>3.940</td>\n",
       "    </tr>\n",
       "    <tr>\n",
       "      <th>Young Adult Historical Fiction</th>\n",
       "      <td>3.900000</td>\n",
       "      <td>3.900</td>\n",
       "    </tr>\n",
       "    <tr>\n",
       "      <th>Young Adult Romance</th>\n",
       "      <td>3.680000</td>\n",
       "      <td>3.680</td>\n",
       "    </tr>\n",
       "  </tbody>\n",
       "</table>\n",
       "<p>267 rows × 2 columns</p>\n",
       "</div>"
      ],
      "text/plain": [
       "                                avg_rating  median_rating\n",
       "16th Century                      4.130000          4.130\n",
       "20th Century                      4.000000          4.000\n",
       "Abandoned                         3.557692          3.630\n",
       "Abuse                             4.395000          4.300\n",
       "Academic                          4.190000          4.110\n",
       "...                                    ...            ...\n",
       "Young Adult                       3.942812          3.940\n",
       "Young Adult Contemporary          3.770000          3.785\n",
       "Young Adult Fantasy               3.937273          3.940\n",
       "Young Adult Historical Fiction    3.900000          3.900\n",
       "Young Adult Romance               3.680000          3.680\n",
       "\n",
       "[267 rows x 2 columns]"
      ]
     },
     "execution_count": 198,
     "metadata": {},
     "output_type": "execute_result"
    }
   ],
   "source": [
    "# Question 14\n",
    "genres_list = df_onehot.columns\n",
    "\n",
    "avg_ratings = [df_new.groupby(genre).mean()[\"book_rating\"][1] for genre in genres_list]\n",
    "median_ratings = [df_new.groupby(genre).median()[\"book_rating\"][1] for genre in genres_list]\n",
    "df_genre_rating =pd.DataFrame({\"avg_rating\": avg_ratings,\n",
    "                               \"median_rating\": median_ratings},\n",
    "                              index = genres_list)\n",
    "df_genre_rating"
   ]
  },
  {
   "cell_type": "code",
   "execution_count": 199,
   "metadata": {},
   "outputs": [
    {
     "data": {
      "text/html": [
       "<div>\n",
       "<style scoped>\n",
       "    .dataframe tbody tr th:only-of-type {\n",
       "        vertical-align: middle;\n",
       "    }\n",
       "\n",
       "    .dataframe tbody tr th {\n",
       "        vertical-align: top;\n",
       "    }\n",
       "\n",
       "    .dataframe thead th {\n",
       "        text-align: right;\n",
       "    }\n",
       "</style>\n",
       "<table border=\"1\" class=\"dataframe\">\n",
       "  <thead>\n",
       "    <tr style=\"text-align: right;\">\n",
       "      <th></th>\n",
       "      <th>avg_authorNum</th>\n",
       "      <th>median_authorNum</th>\n",
       "    </tr>\n",
       "  </thead>\n",
       "  <tbody>\n",
       "    <tr>\n",
       "      <th>16th Century</th>\n",
       "      <td>1.00000</td>\n",
       "      <td>1.0</td>\n",
       "    </tr>\n",
       "    <tr>\n",
       "      <th>20th Century</th>\n",
       "      <td>1.00000</td>\n",
       "      <td>1.0</td>\n",
       "    </tr>\n",
       "    <tr>\n",
       "      <th>Abandoned</th>\n",
       "      <td>1.00000</td>\n",
       "      <td>1.0</td>\n",
       "    </tr>\n",
       "    <tr>\n",
       "      <th>Abuse</th>\n",
       "      <td>1.75000</td>\n",
       "      <td>2.0</td>\n",
       "    </tr>\n",
       "    <tr>\n",
       "      <th>Academic</th>\n",
       "      <td>1.00000</td>\n",
       "      <td>1.0</td>\n",
       "    </tr>\n",
       "    <tr>\n",
       "      <th>...</th>\n",
       "      <td>...</td>\n",
       "      <td>...</td>\n",
       "    </tr>\n",
       "    <tr>\n",
       "      <th>Young Adult</th>\n",
       "      <td>1.46875</td>\n",
       "      <td>1.0</td>\n",
       "    </tr>\n",
       "    <tr>\n",
       "      <th>Young Adult Contemporary</th>\n",
       "      <td>1.12500</td>\n",
       "      <td>1.0</td>\n",
       "    </tr>\n",
       "    <tr>\n",
       "      <th>Young Adult Fantasy</th>\n",
       "      <td>1.00000</td>\n",
       "      <td>1.0</td>\n",
       "    </tr>\n",
       "    <tr>\n",
       "      <th>Young Adult Historical Fiction</th>\n",
       "      <td>1.00000</td>\n",
       "      <td>1.0</td>\n",
       "    </tr>\n",
       "    <tr>\n",
       "      <th>Young Adult Romance</th>\n",
       "      <td>1.00000</td>\n",
       "      <td>1.0</td>\n",
       "    </tr>\n",
       "  </tbody>\n",
       "</table>\n",
       "<p>267 rows × 2 columns</p>\n",
       "</div>"
      ],
      "text/plain": [
       "                                avg_authorNum  median_authorNum\n",
       "16th Century                          1.00000               1.0\n",
       "20th Century                          1.00000               1.0\n",
       "Abandoned                             1.00000               1.0\n",
       "Abuse                                 1.75000               2.0\n",
       "Academic                              1.00000               1.0\n",
       "...                                       ...               ...\n",
       "Young Adult                           1.46875               1.0\n",
       "Young Adult Contemporary              1.12500               1.0\n",
       "Young Adult Fantasy                   1.00000               1.0\n",
       "Young Adult Historical Fiction        1.00000               1.0\n",
       "Young Adult Romance                   1.00000               1.0\n",
       "\n",
       "[267 rows x 2 columns]"
      ]
     },
     "execution_count": 199,
     "metadata": {},
     "output_type": "execute_result"
    }
   ],
   "source": [
    "# Question 15\n",
    "avg_authorNum = [df_new.groupby(genre).mean()[\"book_authors_num\"][1] for genre in genres_list]\n",
    "median_authorNum = [df_new.groupby(genre).median()[\"book_authors_num\"][1] for genre in genres_list]\n",
    "df_genre_authorNum =pd.DataFrame({\"avg_authorNum\": avg_authorNum,\n",
    "                                  \"median_authorNum\": median_authorNum},\n",
    "                                 index = genres_list)\n",
    "df_genre_authorNum"
   ]
  }
 ],
 "metadata": {
  "kernelspec": {
   "display_name": "Python 3",
   "language": "python",
   "name": "python3"
  },
  "language_info": {
   "codemirror_mode": {
    "name": "ipython",
    "version": 3
   },
   "file_extension": ".py",
   "mimetype": "text/x-python",
   "name": "python",
   "nbconvert_exporter": "python",
   "pygments_lexer": "ipython3",
   "version": "3.8.5"
  }
 },
 "nbformat": 4,
 "nbformat_minor": 4
}
