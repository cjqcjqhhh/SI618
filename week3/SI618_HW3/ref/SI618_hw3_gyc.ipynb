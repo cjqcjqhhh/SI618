{
 "cells": [
  {
   "cell_type": "markdown",
   "metadata": {},
   "source": [
    "# SI 618 Fall 2021 Homework 3 (100 points)"
   ]
  },
  {
   "cell_type": "markdown",
   "metadata": {},
   "source": [
    "## Part 1 (75 points) "
   ]
  },
  {
   "cell_type": "markdown",
   "metadata": {},
   "source": [
    "The provided ‘movie_actors_data.txt’ file contains a JSON string on each line. For example, the first line is: \n",
    "\n",
    ">{\"rating\": 9.3, \"genres\": [\"Crime\", \"Drama\"], \"rated\": \"R\", \"filming_locations\": \"Ashland, Ohio, USA\", \"language\": [\"English\"], \"title\": \"The Shawshank Redemption\", \"runtime\": [\"142 min\"], \"poster\": \"http://img3.douban.com/lpic/s1311361.jpg\", \"imdb_url\": \"http://www.imdb.com/title/tt0111161/\", \"writers\": [\"Stephen King\", \"Frank Darabont\"], \"imdb_id\": \"tt0111161\", \"directors\": [\"Frank Darabont\"], \"rating_count\": 894012, \"actors\": [\"Tim Robbins\", \"Morgan Freeman\", \"Bob Gunton\", \"William Sadler\", \"Clancy Brown\", \"Gil Bellows\", \"Mark Rolston\", \"James Whitmore\", \"Jeffrey DeMunn\", \"Larry Brandenburg\", \"Neil Giuntoli\", \"Brian Libby\", \"David Proval\", \"Joseph Ragno\", \"Jude Ciccolella\"], \"plot_simple\": \"Two imprisoned men bond over a number of years, finding solace and eventual redemption through acts of common decency.\", \"year\": 1994, \"country\": [\"USA\"], \"type\": \"M\", \"release_date\": 19941014, \"also_known_as\": [\"Die Verurteilten\"]}\n",
    "\n",
    "The fields we are interested in are imdb_id , title , rating, genres, actors, and year. You will parse the JSON strings, and load the data into three tables in SQLite, and then write SQL queries to retrieve the data specified. \n",
    "\n",
    "You will create three tables: \n",
    "* The “movie_genre” table, which has two columns: imdb_id and genre. A movie typically has multiple genres, and in this case, there should be one row for each genre. If some movie does not have any genre, ignore that movie.  ",
    "\n",
    "\n",
    "* The “movies” table, which has four columns: imdb_id, title, year, rating, country  ",
    "\n",
    "\n",
    "* The “movie_actor” table, which has two columns imdb_id and actor. A movie typically has  ",
    "\n",
    "multiple actors, and in this case, there should be one row for each actor. \n",
    "\n",
    "**When you run your Python code, it should print out EXACTLY the output provided.**"
   ]
  },
  {
   "cell_type": "markdown",
   "metadata": {},
   "source": [
    "#### Q1. (10 points) Parse input file to get needed data for the three tables and load them into appropriate Python data structure. "
   ]
  },
  {
   "cell_type": "code",
   "execution_count": 1,
   "metadata": {},
   "outputs": [
    {
     "data": {
      "text/plain": [
       "{'rating': 9.3,\n",
       " 'genres': ['Crime', 'Drama'],\n",
       " 'rated': 'R',\n",
       " 'filming_locations': 'Ashland, Ohio, USA',\n",
       " 'language': ['English'],\n",
       " 'title': 'The Shawshank Redemption',\n",
       " 'runtime': ['142 min'],\n",
       " 'poster': 'http://img3.douban.com/lpic/s1311361.jpg',\n",
       " 'imdb_url': 'http://www.imdb.com/title/tt0111161/',\n",
       " 'writers': ['Stephen King', 'Frank Darabont'],\n",
       " 'imdb_id': 'tt0111161',\n",
       " 'directors': ['Frank Darabont'],\n",
       " 'rating_count': 894012,\n",
       " 'actors': ['Tim Robbins',\n",
       "  'Morgan Freeman',\n",
       "  'Bob Gunton',\n",
       "  'William Sadler',\n",
       "  'Clancy Brown',\n",
       "  'Gil Bellows',\n",
       "  'Mark Rolston',\n",
       "  'James Whitmore',\n",
       "  'Jeffrey DeMunn',\n",
       "  'Larry Brandenburg',\n",
       "  'Neil Giuntoli',\n",
       "  'Brian Libby',\n",
       "  'David Proval',\n",
       "  'Joseph Ragno',\n",
       "  'Jude Ciccolella'],\n",
       " 'plot_simple': 'Two imprisoned men bond over a number of years, finding solace and eventual redemption through acts of common decency.',\n",
       " 'year': 1994,\n",
       " 'country': ['USA'],\n",
       " 'type': 'M',\n",
       " 'release_date': 19941014,\n",
       " 'also_known_as': ['Die Verurteilten']}"
      ]
     },
     "execution_count": 1,
     "metadata": {},
     "output_type": "execute_result"
    }
   ],
   "source": [
    "import json\n",
    "import sqlite3\n",
    "\n",
    "with open(\"movie_actors_data.txt\", \"r\") as f:\n",
    "    movie_actors_data = [json.loads(x.replace(\"\\n\", \"\")) for x in f.readlines()]\n",
    "movie_actors_data[0]"
   ]
  },
  {
   "cell_type": "markdown",
   "metadata": {},
   "source": [
    "#### Q2. (5 points) Create the movie_genre table and load data into it."
   ]
  },
  {
   "cell_type": "code",
   "execution_count": 2,
   "metadata": {},
   "outputs": [],
   "source": [
    "movie = sqlite3.connect('movie.db')\n",
    "movie_c = movie.cursor()\n",
    "movie_c.execute(\n",
    "    'CREATE TABLE movie_genre (imdb_id text, genre text)'\n",
    ")\n",
    "movie_data_temp = []\n",
    "for m in movie_actors_data:\n",
    "   movie_data_temp += [\n",
    "       (m[\"imdb_id\"], g) for g in m[\"genres\"]\n",
    "   ] \n",
    "movie_c.executemany(\n",
    "    'INSERT INTO movie_genre VALUES (?, ?)',\n",
    "    movie_data_temp\n",
    "    )\n",
    "movie.commit()"
   ]
  },
  {
   "cell_type": "code",
   "execution_count": 8,
   "metadata": {},
   "outputs": [
    {
     "data": {
      "text/plain": [
       "699"
      ]
     },
     "execution_count": 8,
     "metadata": {},
     "output_type": "execute_result"
    }
   ],
   "source": [
    "len(movie_data_temp)"
   ]
  },
  {
   "cell_type": "markdown",
   "metadata": {},
   "source": [
    "#### Q3. (5 points) Create the movies table and load data into it."
   ]
  },
  {
   "cell_type": "code",
   "execution_count": 3,
   "metadata": {},
   "outputs": [],
   "source": [
    "movie_c.execute(\n",
    "    'CREATE TABLE movie (imdb_id text, title text, year int, rating real, country text)'\n",
    ")\n",
    "movies_temp = [\n",
    "    (m[\"imdb_id\"], m[\"title\"], m[\"year\"], m[\"rating\"], m[\"country\"][0]) for m in movie_actors_data\n",
    "]\n",
    "movie_c.executemany(\n",
    "    'INSERT INTO movie VALUES (?, ?, ?, ?, ?)',\n",
    "    movies_temp\n",
    ")\n",
    "movie.commit()"
   ]
  },
  {
   "cell_type": "markdown",
   "metadata": {},
   "source": [
    "#### Q4. (5 points) Create the movie_actor table and load data into it."
   ]
  },
  {
   "cell_type": "code",
   "execution_count": 4,
   "metadata": {},
   "outputs": [],
   "source": [
    "movie_c.execute(\n",
    "    'CREATE TABLE movie_actor (imdb_id text, actor text)'\n",
    ")\n",
    "movie_actor_temp = []\n",
    "for m in movie_actors_data:\n",
    "   movie_actor_temp += [\n",
    "       (m[\"imdb_id\"], a) for a in m[\"actors\"]\n",
    "   ] \n",
    "movie_c.executemany(\n",
    "    'INSERT INTO movie_actor VALUES (?, ?)',\n",
    "    movie_actor_temp\n",
    "    )\n",
    "movie.commit()"
   ]
  },
  {
   "cell_type": "markdown",
   "metadata": {},
   "source": [
    "#### Q5. (10 points) Write an SQL query to find top 10 genres in the US by the number of movies in that genre and print out the results.\n",
    "```\n",
    "Top 10 genres:Genre, Movies\n",
    "Drama,114\n",
    "Thriller,53\n",
    "Crime,46\n",
    "Adventure,41\n",
    "Mystery,34\n",
    "Comedy,32\n",
    "Action,31\n",
    "Romance,27\n",
    "Fantasy,21\n",
    "Sci-Fi,20\n",
    "```"
   ]
  },
  {
   "cell_type": "code",
   "execution_count": 6,
   "metadata": {},
   "outputs": [
    {
     "name": "stdout",
     "output_type": "stream",
     "text": [
      "Top 10 genres:Genre, Movies\n",
      "Drama,114\n",
      "Thriller,53\n",
      "Crime,46\n",
      "Adventure,41\n",
      "Mystery,34\n",
      "Comedy,32\n",
      "Action,31\n",
      "Romance,27\n",
      "Fantasy,21\n",
      "Sci-Fi,20\n"
     ]
    }
   ],
   "source": [
    "r = movie_c.execute('SELECT genre, COUNT(genre) from movie_genre JOIN movie ON (movie_genre.imdb_id=movie.imdb_id) WHERE movie.country LIKE \"USA\" GROUP BY movie_genre.genre ORDER BY Count(movie_genre.genre) DESC')\n",
    "result = r.fetchall()\n",
    "print(f\"Top 10 genres:Genre, Movies\")\n",
    "for res in result[0:10]:\n",
    "    print(f\"{res[0]},{res[1]}\")"
   ]
  },
  {
   "cell_type": "markdown",
   "metadata": {},
   "source": [
    "#### Q6. (10 points) Write a SQL query to find the average rating of all movies broken down by year in chronological order.\n",
    "```\n",
    "Average rating of movies broken down by year:Year, Rating\n",
    "1921, 8.3\n",
    "1922, 8.0\n",
    "1925, 8.2\n",
    "1926, 8.3\n",
    "1927, 8.4\n",
    "1930, 8.1\n",
    "1931, 8.55\n",
    "1934, 8.2\n",
    "1936, 8.6\n",
    "1939, 8.233333333333333\n",
    "1940, 8.333333333333334\n",
    "1941, 8.4\n",
    "1942, 8.7\n",
    "1943, 8.0\n",
    "1944, 8.25\n",
    "1946, 8.366666666666665\n",
    "1948, 8.299999999999999\n",
    "1949, 8.4\n",
    "1950, 8.375\n",
    "1951, 8.1\n",
    "1952, 8.3\n",
    "1953, 8.1\n",
    "1954, 8.42\n",
    "1955, 8.2\n",
    "1956, 8.1\n",
    "1957, 8.466666666666667\n",
    "1958, 8.4\n",
    "1959, 8.28\n",
    "1960, 8.5\n",
    "1961, 8.25\n",
    "1962, 8.3\n",
    "1963, 8.2\n",
    "1964, 8.3\n",
    "1965, 8.3\n",
    "1966, 8.433333333333332\n",
    "1967, 8.149999999999999\n",
    "1968, 8.366666666666667\n",
    "1969, 8.149999999999999\n",
    "1971, 8.5\n",
    "1972, 8.649999999999999\n",
    "1973, 8.166666666666666\n",
    "1974, 8.75\n",
    "1975, 8.32\n",
    "1976, 8.266666666666666\n",
    "1977, 8.5\n",
    "1978, 8.2\n",
    "1979, 8.28\n",
    "1980, 8.366666666666667\n",
    "1981, 8.55\n",
    "1982, 8.200000000000001\n",
    "1983, 8.3\n",
    "1984, 8.299999999999999\n",
    "1985, 8.4\n",
    "1986, 8.233333333333334\n",
    "1987, 8.166666666666666\n",
    "1988, 8.280000000000001\n",
    "1989, 8.3\n",
    "1990, 8.8\n",
    "1991, 8.433333333333332\n",
    "1992, 8.350000000000001\n",
    "1993, 8.275\n",
    "1994, 8.8\n",
    "1995, 8.35\n",
    "1996, 8.2\n",
    "1997, 8.366666666666665\n",
    "1998, 8.319999999999999\n",
    "1999, 8.559999999999999\n",
    "2000, 8.379999999999999\n",
    "2001, 8.32\n",
    "2002, 8.48\n",
    "2003, 8.211111111111112\n",
    "2004, 8.22\n",
    "2005, 8.233333333333333\n",
    "2006, 8.45\n",
    "2007, 8.157142857142857\n",
    "2008, 8.4\n",
    "2009, 8.185714285714285\n",
    "2010, 8.271428571428572\n",
    "2011, 8.25\n",
    "2012, 8.362499999999999\n",
    "```"
   ]
  },
  {
   "cell_type": "code",
   "execution_count": 38,
   "metadata": {},
   "outputs": [
    {
     "name": "stdout",
     "output_type": "stream",
     "text": [
      "Average rating of movies broken down by year:Year, Rating\n",
      "1921, 8.3\n",
      "1922, 8.0\n",
      "1925, 8.2\n",
      "1926, 8.3\n",
      "1927, 8.4\n",
      "1930, 8.1\n",
      "1931, 8.55\n",
      "1934, 8.2\n",
      "1936, 8.6\n",
      "1939, 8.233333333333333\n",
      "1940, 8.333333333333334\n",
      "1941, 8.4\n",
      "1942, 8.7\n",
      "1943, 8.0\n",
      "1944, 8.25\n",
      "1946, 8.366666666666665\n",
      "1948, 8.299999999999999\n",
      "1949, 8.4\n",
      "1950, 8.375\n",
      "1951, 8.1\n",
      "1952, 8.3\n",
      "1953, 8.1\n",
      "1954, 8.42\n",
      "1955, 8.2\n",
      "1956, 8.1\n",
      "1957, 8.466666666666667\n",
      "1958, 8.4\n",
      "1959, 8.28\n",
      "1960, 8.5\n",
      "1961, 8.25\n",
      "1962, 8.3\n",
      "1963, 8.2\n",
      "1964, 8.3\n",
      "1965, 8.3\n",
      "1966, 8.433333333333332\n",
      "1967, 8.149999999999999\n",
      "1968, 8.366666666666667\n",
      "1969, 8.149999999999999\n",
      "1971, 8.5\n",
      "1972, 8.649999999999999\n",
      "1973, 8.166666666666666\n",
      "1974, 8.75\n",
      "1975, 8.32\n",
      "1976, 8.266666666666666\n",
      "1977, 8.5\n",
      "1978, 8.2\n",
      "1979, 8.28\n",
      "1980, 8.366666666666667\n",
      "1981, 8.55\n",
      "1982, 8.200000000000001\n",
      "1983, 8.3\n",
      "1984, 8.299999999999999\n",
      "1985, 8.4\n",
      "1986, 8.233333333333334\n",
      "1987, 8.166666666666666\n",
      "1988, 8.280000000000001\n",
      "1989, 8.3\n",
      "1990, 8.8\n",
      "1991, 8.433333333333332\n",
      "1992, 8.350000000000001\n",
      "1993, 8.275\n",
      "1994, 8.8\n",
      "1995, 8.35\n",
      "1996, 8.2\n",
      "1997, 8.366666666666665\n",
      "1998, 8.319999999999999\n",
      "1999, 8.559999999999999\n",
      "2000, 8.379999999999999\n",
      "2001, 8.32\n",
      "2002, 8.48\n",
      "2003, 8.211111111111112\n",
      "2004, 8.22\n",
      "2005, 8.233333333333333\n",
      "2006, 8.45\n",
      "2007, 8.157142857142857\n",
      "2008, 8.4\n",
      "2009, 8.185714285714285\n",
      "2010, 8.271428571428572\n",
      "2011, 8.25\n",
      "2012, 8.362499999999999\n"
     ]
    }
   ],
   "source": [
    "r = movie_c.execute('SELECT year, AVG(rating) from movie GROUP BY year ORDER BY year')\n",
    "result = r.fetchall()\n",
    "print(f\"Average rating of movies broken down by year:Year, Rating\")\n",
    "for (y, s) in result:\n",
    "    print(f\"{y}, {s}\")"
   ]
  },
  {
   "cell_type": "markdown",
   "metadata": {},
   "source": [
    "#### Q7. (10 points) Write a SQL query to find all Thriller movies from outside the U.S. ordered by decreasing rating, then by increasing year if ratings are the same.\n",
    "\n",
    "```\n",
    "Thriller movies:Title, Year, Rating\n",
    "Léon, 1994, 8.6\n",
    "M, 1931, 8.5\n",
    "Das Leben der Anderen, 2006, 8.5\n",
    "The Third Man, 1949, 8.4\n",
    "Oldeuboi, 2003, 8.4\n",
    "Snatch., 2000, 8.3\n",
    "Lock, Stock and Two Smoking Barrels, 1998, 8.2\n",
    "El secreto de sus ojos, 2009, 8.2\n",
    "In the Name of the Father, 1993, 8.1\n",
    "Amores perros, 2000, 8.1\n",
    "Mou gaan dou, 2002, 8.1\n",
    "Salinui chueok, 2003, 8.1\n",
    "Slumdog Millionaire, 2008, 8.1\n",
    "```"
   ]
  },
  {
   "cell_type": "code",
   "execution_count": 45,
   "metadata": {},
   "outputs": [
    {
     "name": "stdout",
     "output_type": "stream",
     "text": [
      "Thriller movies:Title, Year, Rating\n",
      "Léon, 1994, 8.6\n",
      "M, 1931, 8.5\n",
      "Das Leben der Anderen, 2006, 8.5\n",
      "The Third Man, 1949, 8.4\n",
      "Oldeuboi, 2003, 8.4\n",
      "Snatch., 2000, 8.3\n",
      "Lock, Stock and Two Smoking Barrels, 1998, 8.2\n",
      "El secreto de sus ojos, 2009, 8.2\n",
      "In the Name of the Father, 1993, 8.1\n",
      "Amores perros, 2000, 8.1\n",
      "Mou gaan dou, 2002, 8.1\n",
      "Salinui chueok, 2003, 8.1\n",
      "Slumdog Millionaire, 2008, 8.1\n"
     ]
    }
   ],
   "source": [
    "r = movie_c.execute('SELECT title, year, rating from movie_genre JOIN movie ON (movie_genre.imdb_id=movie.imdb_id) WHERE NOT country LIKE \"USA\" AND genre LIKE \"Thriller\" ORDER BY rating DESC, year')\n",
    "result = r.fetchall()\n",
    "print(f\"Thriller movies:Title, Year, Rating\")\n",
    "for (t, y, r) in result:\n",
    "    print(f\"{t}, {y}, {r}\")"
   ]
  },
  {
   "cell_type": "markdown",
   "metadata": {},
   "source": [
    "#### Q8. (10 points) Write a SQL query to find the top 10 actors based on average movie rating with at least 2 credits in an after year 2000. For each actor, give their name, average rating of the movies they played in, and the number of movies. Sort the result in the descending order based on average movie rating. In case of ties, sort the rows by actor name.\n",
    "\n",
    "```\n",
    "In and after year 2000, top 10 highest rated actors based on average movie rating with at least 2 credits : Actor, Movies\n",
    "Marton Csokas, 8.850000000000001, 2\n",
    "Noel Appleby, 8.850000000000001, 2\n",
    "Sean Bean, 8.850000000000001, 2\n",
    "Bernard Hill, 8.8, 2\n",
    "Billy Boyd, 8.8, 3\n",
    "Cate Blanchett, 8.8, 3\n",
    "John Bach, 8.8, 2\n",
    "Sean Astin, 8.8, 3\n",
    "Christopher Lee, 8.75, 2\n",
    "Joseph Gordon-Levitt, 8.75, 2\n",
    "```\n"
   ]
  },
  {
   "cell_type": "code",
   "execution_count": 54,
   "metadata": {},
   "outputs": [
    {
     "ename": "OperationalError",
     "evalue": "near \"AS\": syntax error",
     "output_type": "error",
     "traceback": [
      "\u001b[0;31m---------------------------------------------------------------------------\u001b[0m",
      "\u001b[0;31mOperationalError\u001b[0m                          Traceback (most recent call last)",
      "\u001b[0;32m<ipython-input-54-f6689ebe048e>\u001b[0m in \u001b[0;36m<module>\u001b[0;34m\u001b[0m\n\u001b[1;32m      1\u001b[0m \u001b[0mselection\u001b[0m \u001b[0;34m=\u001b[0m \u001b[0;34m'''SELECT actor, year, rating FROM movie WHERE rating > 9 AS source_table PIVOT( ) AS result_table'''\u001b[0m\u001b[0;34m\u001b[0m\u001b[0;34m\u001b[0m\u001b[0m\n\u001b[0;32m----> 2\u001b[0;31m \u001b[0mr\u001b[0m \u001b[0;34m=\u001b[0m \u001b[0mmovie_c\u001b[0m\u001b[0;34m.\u001b[0m\u001b[0mexecute\u001b[0m\u001b[0;34m(\u001b[0m\u001b[0mselection\u001b[0m\u001b[0;34m)\u001b[0m\u001b[0;34m\u001b[0m\u001b[0;34m\u001b[0m\u001b[0m\n\u001b[0m\u001b[1;32m      3\u001b[0m \u001b[0mresult\u001b[0m \u001b[0;34m=\u001b[0m \u001b[0mr\u001b[0m\u001b[0;34m.\u001b[0m\u001b[0mfetchall\u001b[0m\u001b[0;34m(\u001b[0m\u001b[0;34m)\u001b[0m\u001b[0;34m\u001b[0m\u001b[0;34m\u001b[0m\u001b[0m\n\u001b[1;32m      4\u001b[0m \u001b[0;31m# print(f\"Thriller movies:Title, Year, Rating\")\u001b[0m\u001b[0;34m\u001b[0m\u001b[0;34m\u001b[0m\u001b[0;34m\u001b[0m\u001b[0m\n\u001b[1;32m      5\u001b[0m \u001b[0;31m# for (t, y, r) in result:\u001b[0m\u001b[0;34m\u001b[0m\u001b[0;34m\u001b[0m\u001b[0;34m\u001b[0m\u001b[0m\n",
      "\u001b[0;31mOperationalError\u001b[0m: near \"AS\": syntax error"
     ]
    }
   ],
   "source": [
    "selection = ''''''\n",
    "r = movie_c.execute(selection)\n",
    "result = r.fetchall()\n",
    "# print(f\"Thriller movies:Title, Year, Rating\")\n",
    "# for (t, y, r) in result:\n",
    "#     print(f\"{t}, {y}, {r}\")\n",
    "result"
   ]
  },
  {
   "cell_type": "markdown",
   "metadata": {},
   "source": [
    "#### Q9. (10 points) Write a SQL query for finding pairs of actors who co-starred in at least 2 highly rated (rating > 9) movies together. \n",
    "\n",
    "The pairs of names must be unique. This means that ‘actor A, actor B’ and ‘actor B, actor A’ are the same pair, so only one of them should appear. For each pair of actors you print out, the two actors must be ordered alphabetically. The pairs are ordered in decreasing number of movies they co-stared in. In case of ties, the rows are ordered by actors’ names. \n",
    "\n",
    ">You will need to join the movie_actor table with itself to get this data (in addition to another required join). It is a bit tricky. If you cannot do it with SQL statement, you can also write some Python code that works on the Python data structure that you used to create the movie_actor table. That’ll mean much more lines of code, and if you do it that way, you’ll get 5 points instead of 10 points. You will only get 10 points if you solve it with pure SQL.\n",
    "\n",
    "```\n",
    "Pairs of actors who co-stared in 2 or more highly rated movies: Actor A, Actor B, Co-stared Movies\n",
    "Al Pacino, Diane Keaton, 2\n",
    "Al Pacino, John Cazale, 2\n",
    "Al Pacino, Robert Duvall, 2\n",
    "Al Pacino, Talia Shire, 2\n",
    "Diane Keaton, John Cazale, 2\n",
    "Diane Keaton, Robert Duvall, 2\n",
    "Diane Keaton, Talia Shire, 2\n",
    "John Cazale, Robert Duvall, 2\n",
    "John Cazale, Talia Shire, 2\n",
    "Robert Duvall, Talia Shire, 2\n",
    "```"
   ]
  },
  {
   "cell_type": "code",
   "execution_count": null,
   "metadata": {},
   "outputs": [],
   "source": []
  },
  {
   "cell_type": "markdown",
   "metadata": {},
   "source": [
    "## Part 2 (25 points) "
   ]
  },
  {
   "cell_type": "markdown",
   "metadata": {},
   "source": [
    "Write a python function that takes two arguments: genre and k \n",
    "\n",
    "The function should print out the top k actors who played roles in the highest rated movies (on average) in the provided genre. You should use the sqlite3 database file you created in Part 1. Some example runs of my function are shown below. Your program should produce the same output when provided with the same command line arguments.\n",
    "\n",
    "`get_top_genre_actors(\"Drama\", 5)`\n",
    "```\n",
    "Top 5 actors who played in highest rated Drama movies:\n",
    "Actor, Average Drama movie rating\n",
    "Bob Gunton, 9.3\n",
    "Brian Libby, 9.3\n",
    "Clancy Brown, 9.3\n",
    "David Proval, 9.3\n",
    "Gil Bellows, 9.3\n",
    "```\n",
    "\n",
    "`get_top_genre_actors(\"Action\", 10)`\n",
    "```\n",
    "Top 10 actors who played in highest rated Action movies:\n",
    "Actor, Average Action movie rating\n",
    "Aaron Eckhart, 9.0\n",
    "Anthony Michael Hall, 9.0\n",
    "Chin Han, 9.0\n",
    "Eric Roberts, 9.0\n",
    "Heath Ledger, 9.0\n",
    "Maggie Gyllenhaal, 9.0\n",
    "Monique Gabriela Curnen, 9.0\n",
    "Nestor Carbonell, 9.0\n",
    "Ritchie Coster, 9.0\n",
    "Ron Dean, 9.0\n",
    "```\n",
    "\n",
    "\n",
    "`get_top_genre_actors(\"Comedy\", 10)`\n",
    "```\n",
    "Top 10 actors who played in highest rated Comedy movies:\n",
    "Actor, Average Comedy movie rating\n",
    "Al Ernest Garcia, 8.6\n",
    "Alba Gaïa Kraghede Bellugi, 8.6\n",
    "Anne Le Ny, 8.6\n",
    "Audrey Fleurot, 8.6\n",
    "Cecil Reynolds, 8.6\n",
    "Christian Ameri, 8.6\n",
    "Cyril Mendy, 8.6\n",
    "Dominique Daguier, 8.6\n",
    "Dorothée Brière, 8.6\n",
    "Edward LeSaint, 8.6\n",
    "```"
   ]
  },
  {
   "cell_type": "code",
   "execution_count": 62,
   "metadata": {},
   "outputs": [],
   "source": []
  },
  {
   "cell_type": "markdown",
   "metadata": {},
   "source": [
    "## What to submit: \n",
    "Please perform the following operations and turn in the corresponding files to canvas:\n",
    "1. Jupyter notebook titled uniqname_si618_hw3.ipynb and the corresponding html page (uniqname_si618_hw3.html) \n",
    "through Canvas.\n",
    "2. The sqlite database file you created. (uniqname_si618_hw3.db)"
   ]
  }
 ],
 "metadata": {
  "interpreter": {
   "hash": "4bb92522aea0df2cdf77f0d7244c3ee7e3cc252401d5861063a00518a5b9f866"
  },
  "kernelspec": {
   "display_name": "Python 3",
   "language": "python",
   "name": "python3"
  },
  "language_info": {
   "codemirror_mode": {
    "name": "ipython",
    "version": 3
   },
   "file_extension": ".py",
   "mimetype": "text/x-python",
   "name": "python",
   "nbconvert_exporter": "python",
   "pygments_lexer": "ipython3",
   "version": "3.8.5"
  }
 },
 "nbformat": 4,
 "nbformat_minor": 2
}
