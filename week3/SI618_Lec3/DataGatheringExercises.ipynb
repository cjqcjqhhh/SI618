{
 "cells": [
  {
   "cell_type": "markdown",
   "metadata": {},
   "source": [
    "# Data Gathering 1: Urllib3\n",
    "Simple exercises to get familiar with urllib3"
   ]
  },
  {
   "cell_type": "code",
   "execution_count": 1,
   "metadata": {},
   "outputs": [
    {
     "name": "stdout",
     "output_type": "stream",
     "text": [
      "Url is: http://cbudak.com/index.html\n",
      "b'<!DOCTYPE html PUBLIC \"-//W3C//DTD XHTML 1.0 Transitional//EN\" \"http://www.w3.org/TR/xhtml1/DTD/xhtml1-transitional.dtd\">\\n<!--\\nTemplate Name: CleanBusiness\\nAuthor: <a href=\"http://www.os-templates.com/\">OS Templates</a>\\nAuthor URI: http://www.os-templates.com/\\nLicence: Free to use under our free template licence terms\\nLicence URI: http://www.os-templates.com/template-terms\\n-->\\n<html xmlns=\"http://www.w3.org/1999/xhtml\">\\n<head>\\n<title>Ceren Budak</title>\\n<meta http-equiv=\"Content-Type\" content=\"text/html; charset=iso-8859-1\" />\\n<link rel=\"stylesheet\" href=\"layout/styles/layout.css\" type=\"text/css\" />\\n</head>\\n<body id=\"top\">\\n<div class=\"wrapper\"> \\n  <!-- ####################################################################################################### -->\\n  <div id=\"header\">\\n    <div class=\"fl_left\">\\n      <h1><a href=\"#\">Ceren Budak</a></h1>\\n      <p>Assistant Professor</p>\\n      <p>University of Michigan School of Information</p>\\n    </div>\\n    <div class=\"fl_right\">  \\n    </p><br class=\"clear\" /> </p>    \\n    <div id=\"topnav\">\\n      <ul>\\n        <li class=\"active\"><a href=\"index.html\">Home</a></li>\\n        <li><a href=\"papers.html\">Publications</a></li>\\n        <li><a href=\"projects.html\">Projects</a></li>\\n        <li><a href=\"teaching.html\">Teaching</a></li>\\n        <li><a href=\"talks.html\">Talks</a></li>\\n        <li><a href=\"service.html\">Service</a></li>\\n        <li class=\"last\"><a href=\"cv.pdf\">CV</a></li>\\n      </ul>\\n    </div> <!-- topnav -->\\n    </div> <!-- fl_right -->\\n    <br class=\"clear\" />\\n  </div><!-- header -->\\n  <!-- ####################################################################################################### -->\\n  \\n  <div id=\"intro\">\\n    <div class=\"fl_left\" width=\"200\"> <a href=\"#\"><img src=\"cerenbudak_portrait.jpg\" alt=\"\" width=\"200\"/></a> \\n    <p></p><p>Mail: cbudak [at] umich.edu</p>\\n      <p>Twitter: @cerenbudak</p>\\n      <p>Office: 3336 NQ</p></div>\\n      \\n    <div class=\"fl_right\" >\\n      <p>I am an Assistant Professor at the <a href=\"https://www.si.umich.edu/\">University of Michigan School of Information</a>. \\n      Before that, I was a Postdoctoral Researcher at <a href=\"http://research.microsoft.com/en-us/labs/newyork/\">Microsoft Research New York</a>. \\n      I received my PhD from the <a href=\"http://www.cs.ucsb.edu\">Computer Science Department</a> at University of California, Santa Barbara in December 2012. \\n      I received my Bachelors degree from <a href=\"http://cs.bilkent.edu.tr/index.php?p=index&l=en\">Computer Science Dept. @Bilkent University</a> in Turkey in 2007.\\n\\t</p>\\n\\t<br>\\n\\t<p>My research interests lie in the area of computational social science; \\n\\ta discipline at the intersection of computer science, statistics, and the social sciences. \\n\\tI am particularly interested in applying large scale data analysis techniques to study problems with social, \\n\\tpolitical, and policy implications.\\n    <br><br>\\n    </div>\\n    <br class=\"clear\" />\\n  </div>\\n  <!-- ####################################################################################################### -->\\n  <div id=\"homecontent\">\\n  <h1>Active Projects</h1>\\n  <p>Below are a few active research projects I am interested in. Each is accompanied with a word cloud from one of my related papers. Because who doesn\\'t like pretty figures?</p>\\n  <br class=\"clear\" />\\n\\n    <ul>\\n      <li>\\n        <h2>News Media Production & Consumption</h2>\\n        <img class=\"imgl\" src=\"news.png\" alt=\"\" width=\"200\"/>\\n        <p>News media are a key source of information for society. How is this source of information produced and how is it consumed? Are news outlets biased? Do readers prefer ideologically biased content?</p>\\n        <p class=\"readmore\"><a href=\"projects.html#media\">Continue Reading &raquo;</a></p>\\n      </li>\\n      <li>\\n\\t<h2>Social Movements & Media</h2>\\n        <img class=\"imgl\" src=\"gezi2.png\" alt=\"\" width=\"200\"/>\\n        <p>The high-level goal of this project is to understand social movements using social media data; A few questions we have looked at in the past and are working on right now are: What motivates people to participate in collective action? How do social movements change the participants that took part in them? How sticky is activism? What recruitment methods and networks work better in engaging the participants? </p>\\n        <p class=\"readmore\"><a href=\"projects.html#movements\">Continue Reading &raquo;</a></p>\\n      </li>\\n      <li>\\n        <h2>Social Networks</h2>\\n        <img class=\"imgl\" src=\"social.png\" alt=\"\" width=\"200\" />\\n        <p>The power of online social networks lies in their ability to enable the diffusion of information, ideas, and innovations. \\n        This significance motivates our work that focuses on understanding the diffusion process, and using this understanding to build technological solutions to facilitate and guide such spread. \\n        Our efforts that resulted in advances in modeling diffusion, limiting the spread of misinformation and trend detection in social networks.</p>\\n        <p class=\"readmore\"><a href=\"projects.html#networks\">Continue Reading &raquo;</a></p>\\n      </li>\\n\\n      <li class=\"last\">\\n        <h2>Measuring and Promoting the Quality of Online Discussions</h2>\\n        <img class=\"imgl\" src=\"threading.png\" alt=\"\" width=\"200\"/>\\n        <p>This project will amplify the efforts of people to bring out the best in other people in online conversations, and will make it easier for people to find high quality online conversations. The first goal of the research is to create automated classifiers to measure the quality of everyday online political talk. The second goal of the research is to create a Conversation Coach that helps the general public to improve the quality of conversation spaces they participate in, by helping them craft messages that directly contribute to quality and that indirectly inspire others.</p>\\n\\t<p class=\"readmore\"><a href=\"projects.html#deliberation\">Continue Reading &raquo;</a></p>\\n      </li>\\n    </ul>\\n    <br class=\"clear\" />\\n  </div>\\n  \\n  <div id=\"homecontent\">\\n  <h3>Prospective Students</h3>\\n  </br>\\n  <p>Prospective PhD students must first be admitted to UMSI\\'s PhD program before they can work with an individual advisor. \\n  If you are interested in working with me, please first <a href=\"https://www.si.umich.edu/academics/admissions/phd-application-requirements\">apply</a> to our program and then drop me an email.\\n  Undergraduate and Masters students who have already been admitted to the University of Michigan and are interested \\n  in working on computational social science problems are welcome to contact me. \\n  Include your interests, degree, major, and resume in your email. </p>\\n  </div>\\n  <!-- ####################################################################################################### -->\\n  <div id=\"copyright\">\\n    <p class=\"fl_left\">School of Information, University of Michigan</p>\\n    <p class=\"fl_right\"> 4322 North Quad, 105 S. State St. Office: NQ 3336</p>\\n    <br class=\"clear\" />\\n  </div>\\n  <!-- ####################################################################################################### --> \\n  <br class=\"clear\" />\\n</div>\\n</body>\\n</html>\\n'\n"
     ]
    }
   ],
   "source": [
    "import urllib3\n",
    "http = urllib3.PoolManager()\n",
    "response = http.request('GET', 'http://cbudak.com')\n",
    "html_doc = response.data\n",
    "print(\"Url is:\", response.geturl())\n",
    "print(html_doc)"
   ]
  },
  {
   "cell_type": "markdown",
   "metadata": {},
   "source": [
    "# Data Gathering 2: BeautifulSoup\n",
    "Once you retrieve an html document, you want to process it. Beautifulsoup is a useful and reliable package to achieve this goal."
   ]
  },
  {
   "cell_type": "code",
   "execution_count": 2,
   "metadata": {},
   "outputs": [
    {
     "name": "stdout",
     "output_type": "stream",
     "text": [
      "Tag is: <b class=\"boldest\">Very bold</b>\n",
      "Tag after changes is: <blockquote class=\"verybold\" id=\"1\">Extremely Bold</blockquote>\n",
      "Doctors Without Borders, USA\n",
      "American Red Cross\n",
      "The Nature Conservancy\n",
      "Natural Resources Defense Council\n",
      "ALSAC - St. Jude Children's Research Hospital\n",
      "World Wildlife Fund\n",
      "UNICEF USA\n",
      "Save the Children\n",
      "DAV (Disabled American Veterans) Charitable Service Trust\n",
      "American Society for the Prevention of Cruelty to Animals\n"
     ]
    }
   ],
   "source": [
    "from bs4 import BeautifulSoup\n",
    "\n",
    "soup = BeautifulSoup(\"<html>data</html>\")\n",
    "soup = BeautifulSoup('<b class=\"boldest\">Very bold</b>')\n",
    "tag = soup.b\n",
    "print(\"Tag is:\", tag)\n",
    "\n",
    "tag.name = \"blockquote\"\n",
    "tag.string = \"Extremely Bold\"\n",
    "tag['class'] = 'verybold'\n",
    "tag['id'] = 1\n",
    "print(\"Tag after changes is:\", tag)\n",
    "\n",
    "\n",
    "#get content with a particular tag\n",
    "from urllib.request import urlopen\n",
    "response = urlopen('https://www.charitynavigator.org/index.cfm?bay=topten.detail&listid=148')\n",
    "html_doc = response.read()\n",
    "soup = BeautifulSoup(html_doc)\n",
    "tbl = soup.find_all('table')[0]\n",
    "for link in tbl.find_all('a'):\n",
    "    print (link.text)\n"
   ]
  },
  {
   "cell_type": "markdown",
   "metadata": {},
   "source": [
    "# XML\n",
    "Most content online is in html format but that is by no means the only common one. XML is another useful format (and you should already know about json)."
   ]
  },
  {
   "cell_type": "code",
   "execution_count": 5,
   "metadata": {},
   "outputs": [],
   "source": [
    "# Don't forget pip install wordcloud\n",
    "from wordcloud import WordCloud\n",
    "import matplotlib.pyplot as plt\n",
    "import xml.etree.ElementTree as elementtree\n",
    "\n",
    "dom = elementtree.parse('senate-lobbying-2013_1_1_1.xml')\n",
    "allText = \"\"\n",
    "filinglist = dom.getroot()\n",
    "for filing in filinglist:\n",
    "    issues = list(filing.iter('Issues'))\n",
    "    if len(issues) > 0:\n",
    "        issuelist = issues[0].iter('Issue')\n",
    "        for i in issuelist:\n",
    "            allText = allText + ' ' +  i.attrib.get('SpecificIssue')\n",
    "\n",
    "wordcloud = WordCloud().generate(allText)\n",
    "img = wordcloud.to_image()\n",
    "img.save(\"senate-wordcloud.png\")"
   ]
  },
  {
   "cell_type": "code",
   "execution_count": null,
   "metadata": {},
   "outputs": [],
   "source": []
  }
 ],
 "metadata": {
  "kernelspec": {
   "display_name": "Python 3",
   "language": "python",
   "name": "python3"
  },
  "language_info": {
   "codemirror_mode": {
    "name": "ipython",
    "version": 3
   },
   "file_extension": ".py",
   "mimetype": "text/x-python",
   "name": "python",
   "nbconvert_exporter": "python",
   "pygments_lexer": "ipython3",
   "version": "3.8.5"
  }
 },
 "nbformat": 4,
 "nbformat_minor": 2
}
