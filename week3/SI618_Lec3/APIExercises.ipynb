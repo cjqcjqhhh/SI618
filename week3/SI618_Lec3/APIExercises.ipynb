{
 "cells": [
  {
   "cell_type": "markdown",
   "metadata": {},
   "source": [
    "# Yelp API example"
   ]
  },
  {
   "cell_type": "code",
   "execution_count": null,
   "metadata": {},
   "outputs": [],
   "source": [
    "\"\"\"Example for signing a search request using the fusion library.\"\"\"\n",
    "#pip install yelpapi\n",
    "from yelpapi import YelpAPI\n",
    "from pprint import pprint\n",
    "\n",
    "#find your api key first. it should be listed here: https://www.yelp.com/developers/v3/manage_app\n",
    "api_key = \"MPO8GVqaacg2xngQ2or2y3jweOTJ47IGm_5OBpr1Xz09jFlvoG_q8OIUYMZukdi5oezJ96dP0cNEDFHEbrZIeitKvzAUA25wbsE8PcAoAmeicbFeDKrBkQ-gjflyWHYx\"\n",
    "yelp_api = YelpAPI(api_key)\n",
    "\n",
    "print('***** 5 best rated ice cream places in Ann Arbor *****\\n{}\\n'.format(\"yelp_api.search_query(term='ice cream', \"\n",
    "                                                                             \"location='austin, tx', sort_by='rating', \"\n",
    "                                                                             \"limit=5)\"))\n",
    "response = yelp_api.search_query(term='ice cream', location='ann arbor, mi', sort_by='rating', limit=5)\n",
    "pprint(response)\n"
   ]
  },
  {
   "cell_type": "markdown",
   "metadata": {},
   "source": [
    "# Twitter API Example"
   ]
  },
  {
   "cell_type": "code",
   "execution_count": null,
   "metadata": {},
   "outputs": [],
   "source": [
    "import tweepy\n",
    "#these will be in your Twitter develop api page\n",
    "consumer_key=\"\"\n",
    "consumer_secret=\"\"\n",
    "access_token_key=\"\"\n",
    "access_token_secret=\"\"\n",
    "\n",
    "auth = tweepy.OAuthHandler(consumer_key, consumer_secret)\n",
    "auth.set_access_token(access_token_key, access_token_secret)\n",
    "\n",
    "api = tweepy.API(auth)\n",
    "\n",
    "#replace screen_name with the screenname of the user you are interested in collecting data for\n",
    "stuff = api.user_timeline(screen_name = 'cerenbudak', count = 100, include_rts = True)\n",
    "\n",
    "for status in stuff:\n",
    "    print (status.text)"
   ]
  }
 ],
 "metadata": {
  "kernelspec": {
   "display_name": "Python 3 (ipykernel)",
   "language": "python",
   "name": "python3"
  },
  "language_info": {
   "codemirror_mode": {
    "name": "ipython",
    "version": 3
   },
   "file_extension": ".py",
   "mimetype": "text/x-python",
   "name": "python",
   "nbconvert_exporter": "python",
   "pygments_lexer": "ipython3",
   "version": "3.9.6"
  }
 },
 "nbformat": 4,
 "nbformat_minor": 2
}
