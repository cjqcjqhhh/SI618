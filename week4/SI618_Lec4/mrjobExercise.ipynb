{
 "cells": [
  {
   "cell_type": "code",
   "execution_count": 9,
   "metadata": {},
   "outputs": [
    {
     "name": "stdout",
     "output_type": "stream",
     "text": [
      "Overwriting wordcharline_count.py\n"
     ]
    }
   ],
   "source": [
    "%%file wordcharline_count.py\n",
    "from mrjob.job import MRJob\n",
    "\n",
    "class MRWordCharLineCount(MRJob):\n",
    "    def mapper(self, _, line):\n",
    "        yield \"chars\", len(line)\n",
    "        yield \"words\", len(line.split())\n",
    "        yield \"line\", 1\n",
    "    \n",
    "    def reducer(self, key,values):\n",
    "        yield key, sum(values)\n",
    "        \n",
    "if __name__ == '__main__':\n",
    "  MRWordCharLineCount.run()"
   ]
  },
  {
   "cell_type": "code",
   "execution_count": 10,
   "metadata": {},
   "outputs": [
    {
     "name": "stderr",
     "output_type": "stream",
     "text": [
      "No configs found; falling back on auto-configuration\n",
      "No configs specified for local runner\n",
      "Creating temp directory C:\\Users\\JUNQIC~1\\AppData\\Local\\Temp\\wordcharline_count.Junqi Chen.20210922.214623.095052\n",
      "Running step 1 of 1...\n",
      "Error while reading from C:\\Users\\JUNQIC~1\\AppData\\Local\\Temp\\wordcharline_count.Junqi Chen.20210922.214623.095052\\step\\000\\mapper\\00000\\input:\n",
      "\n",
      "Step 1 of 1 failed: [WinError 2] 绯荤粺鎵句笉鍒版寚瀹氱殑鏂囦欢銆�\n"
     ]
    }
   ],
   "source": [
    "!python wordcharline_count.py -r local *.txt --output-dir=wordcharline_count_out --no-output"
   ]
  },
  {
   "cell_type": "code",
   "execution_count": 5,
   "metadata": {},
   "outputs": [
    {
     "name": "stdout",
     "output_type": "stream",
     "text": [
      "Overwriting starts_with_t.py\n"
     ]
    }
   ],
   "source": [
    "%%file starts_with_t.py\n",
    "\n",
    "import mrjob\n",
    "from mrjob.job import MRJob\n",
    "\n",
    "class StartsWithT(MRJob):\n",
    "    OUTPUT_PROTOCOL = mrjob.protocol.RawValueProtocol\n",
    "    \n",
    "    def mapper (self, _, line):\n",
    "        if(line.startswith(\"T\")):\n",
    "            yield (None, line)\n",
    "            \n",
    "if __name__ == '__main__':\n",
    "    StartsWithT.run()"
   ]
  },
  {
   "cell_type": "code",
   "execution_count": 6,
   "metadata": {},
   "outputs": [
    {
     "name": "stderr",
     "output_type": "stream",
     "text": [
      "No configs found; falling back on auto-configuration\n",
      "No configs specified for local runner\n",
      "Creating temp directory C:\\Users\\JUNQIC~1\\AppData\\Local\\Temp\\starts_with_t.Junqi Chen.20210922.211146.583730\n",
      "Running step 1 of 1...\n",
      "Error while reading from C:\\Users\\JUNQIC~1\\AppData\\Local\\Temp\\starts_with_t.Junqi Chen.20210922.211146.583730\\step\\000\\mapper\\00000\\input:\n",
      "\n",
      "Step 1 of 1 failed: [WinError 2] 绯荤粺鎵句笉鍒版寚瀹氱殑鏂囦欢銆�\n"
     ]
    }
   ],
   "source": [
    "!python starts_with_t.py -r local *.txt --output-dir=startswith_t_out --no-output"
   ]
  },
  {
   "cell_type": "code",
   "execution_count": 2,
   "metadata": {},
   "outputs": [
    {
     "data": {
      "text/plain": [
       "['This', 'test', 'sentence', 'hahahahaha']"
      ]
     },
     "execution_count": 2,
     "metadata": {},
     "output_type": "execute_result"
    }
   ],
   "source": [
    "import re\n",
    "WORD_RE = re.compile(r'\\b[a-zA-Z]{4,}\\b') #regular expression\n",
    "title = \"This is the 444 test sentence hahahahaha.\"\n",
    "matches = WORD_RE.findall(title)\n",
    "matches"
   ]
  },
  {
   "cell_type": "code",
   "execution_count": 3,
   "metadata": {},
   "outputs": [
    {
     "data": {
      "text/plain": [
       "(12, 0)"
      ]
     },
     "execution_count": 3,
     "metadata": {},
     "output_type": "execute_result"
    }
   ],
   "source": [
    "max([(3,\"aa\"), (2, 2), (12, 0)])"
   ]
  },
  {
   "cell_type": "code",
   "execution_count": null,
   "metadata": {},
   "outputs": [],
   "source": []
  }
 ],
 "metadata": {
  "kernelspec": {
   "display_name": "Python 3",
   "language": "python",
   "name": "python3"
  },
  "language_info": {
   "codemirror_mode": {
    "name": "ipython",
    "version": 3
   },
   "file_extension": ".py",
   "mimetype": "text/x-python",
   "name": "python",
   "nbconvert_exporter": "python",
   "pygments_lexer": "ipython3",
   "version": "3.8.5"
  }
 },
 "nbformat": 4,
 "nbformat_minor": 2
}
